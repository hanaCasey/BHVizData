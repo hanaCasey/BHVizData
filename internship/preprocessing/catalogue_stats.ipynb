{
 "cells": [
  {
   "cell_type": "code",
   "execution_count": 2,
   "metadata": {},
   "outputs": [],
   "source": [
    "import pandas as pd\n",
    "import numpy as np\n",
    "import seaborn as sns\n",
    "import matplotlib.pyplot as plt\n",
    "import re\n",
    "import glob\n",
    "import os"
   ]
  },
  {
   "cell_type": "markdown",
   "metadata": {},
   "source": [
    "## Freihand"
   ]
  },
  {
   "cell_type": "code",
   "execution_count": 6,
   "metadata": {},
   "outputs": [
    {
     "data": {
      "text/html": [
       "<div>\n",
       "<style scoped>\n",
       "    .dataframe tbody tr th:only-of-type {\n",
       "        vertical-align: middle;\n",
       "    }\n",
       "\n",
       "    .dataframe tbody tr th {\n",
       "        vertical-align: top;\n",
       "    }\n",
       "\n",
       "    .dataframe thead th {\n",
       "        text-align: right;\n",
       "    }\n",
       "</style>\n",
       "<table border=\"1\" class=\"dataframe\">\n",
       "  <thead>\n",
       "    <tr style=\"text-align: right;\">\n",
       "      <th></th>\n",
       "      <th>bvb</th>\n",
       "      <th>title</th>\n",
       "      <th>year</th>\n",
       "      <th>signature</th>\n",
       "      <th>collection</th>\n",
       "      <th>inventory_nr</th>\n",
       "      <th>inventory_date</th>\n",
       "    </tr>\n",
       "  </thead>\n",
       "  <tbody>\n",
       "    <tr>\n",
       "      <th>0</th>\n",
       "      <td>BV037555563</td>\n",
       "      <td>Les vitraux des musées de Strasbourg</td>\n",
       "      <td>1978</td>\n",
       "      <td>KatM-STR 429-5780</td>\n",
       "      <td>BIB</td>\n",
       "      <td>2019.6082</td>\n",
       "      <td>20191129</td>\n",
       "    </tr>\n",
       "    <tr>\n",
       "      <th>1</th>\n",
       "      <td>BV000001769</td>\n",
       "      <td>Sozialgeschichte der mittelalterlichen Kunst</td>\n",
       "      <td>1957</td>\n",
       "      <td>Mk 1020-5571</td>\n",
       "      <td>BIB</td>\n",
       "      <td>2019.4415</td>\n",
       "      <td>20190926</td>\n",
       "    </tr>\n",
       "    <tr>\n",
       "      <th>2</th>\n",
       "      <td>BV001953292</td>\n",
       "      <td>Sozialgeschichte der mittelalterlichen Kunst</td>\n",
       "      <td>1957</td>\n",
       "      <td>Mk 1020-5571</td>\n",
       "      <td>BIB</td>\n",
       "      <td>2019.4415</td>\n",
       "      <td>20190926</td>\n",
       "    </tr>\n",
       "    <tr>\n",
       "      <th>3</th>\n",
       "      <td>BV005113587</td>\n",
       "      <td>Gotische Bildwerke der deutschen Schweiz</td>\n",
       "      <td>1930</td>\n",
       "      <td>Oe 1090-5300</td>\n",
       "      <td>BIB</td>\n",
       "      <td>NaN</td>\n",
       "      <td>0</td>\n",
       "    </tr>\n",
       "    <tr>\n",
       "      <th>4</th>\n",
       "      <td>BV004079014</td>\n",
       "      <td>Herkomer</td>\n",
       "      <td>1901</td>\n",
       "      <td>Wa-HER 3895-5010</td>\n",
       "      <td>BIB</td>\n",
       "      <td>NaN</td>\n",
       "      <td>0</td>\n",
       "    </tr>\n",
       "    <tr>\n",
       "      <th>...</th>\n",
       "      <td>...</td>\n",
       "      <td>...</td>\n",
       "      <td>...</td>\n",
       "      <td>...</td>\n",
       "      <td>...</td>\n",
       "      <td>...</td>\n",
       "      <td>...</td>\n",
       "    </tr>\n",
       "    <tr>\n",
       "      <th>326772</th>\n",
       "      <td>BV000613746</td>\n",
       "      <td>Roma e le province</td>\n",
       "      <td>1985</td>\n",
       "      <td>De 100-5380/17(1</td>\n",
       "      <td>BIB</td>\n",
       "      <td>1985.2533</td>\n",
       "      <td>20110618</td>\n",
       "    </tr>\n",
       "    <tr>\n",
       "      <th>326773</th>\n",
       "      <td>BV000723788</td>\n",
       "      <td>Roma e le province</td>\n",
       "      <td>1985</td>\n",
       "      <td>De 100-5380/17(2</td>\n",
       "      <td>BIB</td>\n",
       "      <td>1985.2533</td>\n",
       "      <td>20110618</td>\n",
       "    </tr>\n",
       "    <tr>\n",
       "      <th>326774</th>\n",
       "      <td>BV000723785</td>\n",
       "      <td>Roma e le province</td>\n",
       "      <td>1985</td>\n",
       "      <td>De 100-5380/17(2</td>\n",
       "      <td>BIB</td>\n",
       "      <td>1985.2533</td>\n",
       "      <td>20110618</td>\n",
       "    </tr>\n",
       "    <tr>\n",
       "      <th>326776</th>\n",
       "      <td>BV000613746</td>\n",
       "      <td>Roma e le province</td>\n",
       "      <td>1985</td>\n",
       "      <td>De 100-5380/17(2</td>\n",
       "      <td>BIB</td>\n",
       "      <td>1985.2533</td>\n",
       "      <td>20110618</td>\n",
       "    </tr>\n",
       "    <tr>\n",
       "      <th>326777</th>\n",
       "      <td>BV005074198</td>\n",
       "      <td>Dictionnaire des noms, surnoms et pseudonymes ...</td>\n",
       "      <td>1966</td>\n",
       "      <td>Aa 200-4750</td>\n",
       "      <td>BIB</td>\n",
       "      <td>NaN</td>\n",
       "      <td>0</td>\n",
       "    </tr>\n",
       "  </tbody>\n",
       "</table>\n",
       "<p>297913 rows × 7 columns</p>\n",
       "</div>"
      ],
      "text/plain": [
       "                bvb                                              title  year   \n",
       "0       BV037555563               Les vitraux des musées de Strasbourg  1978  \\\n",
       "1       BV000001769       Sozialgeschichte der mittelalterlichen Kunst  1957   \n",
       "2       BV001953292       Sozialgeschichte der mittelalterlichen Kunst  1957   \n",
       "3       BV005113587           Gotische Bildwerke der deutschen Schweiz  1930   \n",
       "4       BV004079014                                           Herkomer  1901   \n",
       "...             ...                                                ...   ...   \n",
       "326772  BV000613746                                 Roma e le province  1985   \n",
       "326773  BV000723788                                 Roma e le province  1985   \n",
       "326774  BV000723785                                 Roma e le province  1985   \n",
       "326776  BV000613746                                 Roma e le province  1985   \n",
       "326777  BV005074198  Dictionnaire des noms, surnoms et pseudonymes ...  1966   \n",
       "\n",
       "                signature collection inventory_nr  inventory_date  \n",
       "0       KatM-STR 429-5780      BIB      2019.6082        20191129  \n",
       "1            Mk 1020-5571      BIB      2019.4415        20190926  \n",
       "2            Mk 1020-5571      BIB      2019.4415        20190926  \n",
       "3            Oe 1090-5300      BIB            NaN               0  \n",
       "4        Wa-HER 3895-5010      BIB            NaN               0  \n",
       "...                   ...        ...          ...             ...  \n",
       "326772   De 100-5380/17(1      BIB      1985.2533        20110618  \n",
       "326773   De 100-5380/17(2      BIB      1985.2533        20110618  \n",
       "326774   De 100-5380/17(2      BIB      1985.2533        20110618  \n",
       "326776   De 100-5380/17(2      BIB      1985.2533        20110618  \n",
       "326777        Aa 200-4750      BIB            NaN               0  \n",
       "\n",
       "[297913 rows x 7 columns]"
      ]
     },
     "execution_count": 6,
     "metadata": {},
     "output_type": "execute_result"
    }
   ],
   "source": [
    "df = pd.read_csv('../data/Freihand.csv', sep=';', header=0, \n",
    "                          names = ['bvb', 'title', 'year', 'signature', 'collection', 'inventory_nr', 'inventory_date'])\n",
    "df = df.drop_duplicates()\n",
    "df"
   ]
  },
  {
   "cell_type": "code",
   "execution_count": 7,
   "metadata": {},
   "outputs": [
    {
     "data": {
      "text/plain": [
       "237520"
      ]
     },
     "execution_count": 7,
     "metadata": {},
     "output_type": "execute_result"
    }
   ],
   "source": []
  },
  {
   "cell_type": "code",
   "execution_count": 27,
   "metadata": {},
   "outputs": [
    {
     "data": {
      "text/plain": [
       "array(['BV000001769', 'BV001953292', 'BV005486424', ..., 'BV008743691',\n",
       "       'BV017126597', 'BV048847859'], dtype=object)"
      ]
     },
     "execution_count": 27,
     "metadata": {},
     "output_type": "execute_result"
    }
   ],
   "source": [
    "df"
   ]
  },
  {
   "cell_type": "markdown",
   "metadata": {},
   "source": [
    "## BVB Export"
   ]
  },
  {
   "cell_type": "code",
   "execution_count": 11,
   "metadata": {},
   "outputs": [
    {
     "name": "stderr",
     "output_type": "stream",
     "text": [
      "/var/folders/fs/xb9k_3m95gq0wjgk1kgw1nxr0000gn/T/ipykernel_12847/4240334865.py:7: DtypeWarning: Columns (12,13) have mixed types. Specify dtype option on import or set low_memory=False.\n",
      "  frame = pd.read_csv(filename, header=0)\n"
     ]
    }
   ],
   "source": [
    "path = '../data/csv/b3kat_export'\n",
    "files = glob.glob(os.path.join(path, '*.csv'))\n",
    "\n",
    "li = []\n",
    "\n",
    "for filename in files: \n",
    "    frame = pd.read_csv(filename, header=0)\n",
    "    li.append(frame)\n",
    "\n",
    "df_full = pd.concat(li, axis=0, ignore_index=True)"
   ]
  },
  {
   "cell_type": "code",
   "execution_count": 15,
   "metadata": {},
   "outputs": [
    {
     "data": {
      "text/plain": [
       "1180529"
      ]
     },
     "execution_count": 15,
     "metadata": {},
     "output_type": "execute_result"
    }
   ],
   "source": [
    "df_full.id.unique().size"
   ]
  },
  {
   "cell_type": "code",
   "execution_count": null,
   "metadata": {},
   "outputs": [],
   "source": []
  }
 ],
 "metadata": {
  "kernelspec": {
   "display_name": "data",
   "language": "python",
   "name": "python3"
  },
  "language_info": {
   "codemirror_mode": {
    "name": "ipython",
    "version": 3
   },
   "file_extension": ".py",
   "mimetype": "text/x-python",
   "name": "python",
   "nbconvert_exporter": "python",
   "pygments_lexer": "ipython3",
   "version": "3.10.11"
  },
  "orig_nbformat": 4
 },
 "nbformat": 4,
 "nbformat_minor": 2
}
