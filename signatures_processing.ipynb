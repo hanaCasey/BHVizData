{
 "cells": [
  {
   "cell_type": "code",
   "execution_count": 35,
   "metadata": {},
   "outputs": [],
   "source": [
    "import pandas as pd\n",
    "import re\n",
    "import numpy as np"
   ]
  },
  {
   "attachments": {},
   "cell_type": "markdown",
   "metadata": {},
   "source": [
    "### Import"
   ]
  },
  {
   "cell_type": "code",
   "execution_count": 46,
   "metadata": {},
   "outputs": [
    {
     "name": "stderr",
     "output_type": "stream",
     "text": [
      "C:\\Users\\hanna\\AppData\\Local\\Temp/ipykernel_1684/440638329.py:3: FutureWarning: The error_bad_lines argument has been deprecated and will be removed in a future version. Use on_bad_lines in the future.\n",
      "\n",
      "\n",
      "  df1 = pd.read_csv('data/bhr1.csv', error_bad_lines=False, sep=';')\n",
      "C:\\Users\\hanna\\AppData\\Local\\Temp/ipykernel_1684/440638329.py:5: FutureWarning: The error_bad_lines argument has been deprecated and will be removed in a future version. Use on_bad_lines in the future.\n",
      "\n",
      "\n",
      "  df2 = pd.read_csv('data/bhr2.csv', names = columns, error_bad_lines=False, sep=';')\n"
     ]
    }
   ],
   "source": [
    "# Importing the signature key in two parts\n",
    "\n",
    "df1 = pd.read_csv('data/bhr1.csv', error_bad_lines=False, sep=';')\n",
    "columns = df1.columns\n",
    "df2 = pd.read_csv('data/bhr2.csv', names = columns, error_bad_lines=False, sep=';')\n",
    "df = pd.concat([df1, df2], ignore_index=True)\n"
   ]
  },
  {
   "attachments": {},
   "cell_type": "markdown",
   "metadata": {},
   "source": [
    "## Cleaning"
   ]
  },
  {
   "cell_type": "code",
   "execution_count": 47,
   "metadata": {},
   "outputs": [],
   "source": [
    "df.drop('vw', axis=1, inplace=True)"
   ]
  },
  {
   "attachments": {},
   "cell_type": "markdown",
   "metadata": {},
   "source": [
    "#### Text "
   ]
  },
  {
   "cell_type": "code",
   "execution_count": 48,
   "metadata": {},
   "outputs": [
    {
     "name": "stderr",
     "output_type": "stream",
     "text": [
      "C:\\Users\\hanna\\AppData\\Local\\Temp/ipykernel_1684/248016969.py:2: FutureWarning: The default value of regex will change from True to False in a future version.\n",
      "  df[\"text\"] = df[\"text\"].str.replace(r'\\.{3,}', '')\n"
     ]
    }
   ],
   "source": [
    "# getting rid of the ... in the texts\n",
    "df[\"text\"] = df[\"text\"].str.replace(r'\\.{3,}', '')\n",
    "\n",
    "# getting rid of new lines (oopsies)\n",
    "df['sys'] = df['sys'].str.replace('\\n', '')"
   ]
  },
  {
   "attachments": {},
   "cell_type": "markdown",
   "metadata": {},
   "source": [
    "#### Backreferencing"
   ]
  },
  {
   "cell_type": "code",
   "execution_count": 50,
   "metadata": {},
   "outputs": [],
   "source": [
    "# replace idem (=...)\n",
    "\n",
    "backreference = re.compile(r\"idem\\s*\\(\\s*=\\s*(.*)\\s*\\)\")\n",
    "\n",
    "df[\"backreference\"] = df[\"text\"].str.extract(backreference, expand=False)\n",
    "\n",
    "# Replaces the backreference with the first captured group\n",
    "df[\"text\"] = df[\"text\"].str.replace(backreference, r\"\\1\")\n",
    "\n"
   ]
  },
  {
   "cell_type": "code",
   "execution_count": 51,
   "metadata": {},
   "outputs": [],
   "source": [
    "# find the remaining idems\n",
    "\n",
    "idem = re.compile(r'\\bidem\\s*[,.]?\\s*')\n",
    "\n",
    "idem_df = df[df[\"text\"].str.contains(idem)]"
   ]
  },
  {
   "cell_type": "code",
   "execution_count": 52,
   "metadata": {},
   "outputs": [],
   "source": [
    "# replace the idem without backreference\n",
    "\n",
    "for i, row in idem_df.iterrows():\n",
    "    # loop over rows in the df DataFrame above the current row\n",
    "    for j in range(i-1, -1, -1):\n",
    "\n",
    "        if not idem.search(df.loc[j, \"text\"]):\n",
    "\n",
    "            reference = df.iloc[j].text.split(',')[0]\n",
    "            \n",
    "            #replace idem with the actual backreference\n",
    "            substring = df.iloc[i].text\n",
    "\n",
    "            modified_substring = idem.sub(f'{reference} ', substring)\n",
    "\n",
    "            df.loc[i, \"text\"] = modified_substring\n",
    "            break\n",
    "\n"
   ]
  },
  {
   "attachments": {},
   "cell_type": "markdown",
   "metadata": {},
   "source": [
    "#### Level 1, 2, 3 Texts"
   ]
  },
  {
   "cell_type": "code",
   "execution_count": 67,
   "metadata": {},
   "outputs": [],
   "source": [
    "def level_text (lev, text, df): \n",
    "    df[text]= ''\n",
    "\n",
    "    indices = df[df.lev == lev].index\n",
    "    for i in range(len(indices) -1): \n",
    "        start = indices[i]\n",
    "        end = indices[i+1] \n",
    "\n",
    "        # add level to all rows below in the tree\n",
    "        df.loc[start + 1 :end - 1, text][df.lev >= lev] = df.iloc[start].text\n",
    "\n",
    "    #handle the last case seperately \n",
    "    if len(indices) > 0: \n",
    "        start = indices[-1]\n",
    "        end = len(df)\n",
    "        df.loc[start + 1 :end - 1, text][df.lev >= lev]  = df.iloc[start].text\n",
    "\n",
    "\n",
    "for i in range(1, 5): \n",
    "    level_text(i, 'text_' + str(i), df)\n",
    "\n",
    "\n",
    "\n"
   ]
  },
  {
   "attachments": {},
   "cell_type": "markdown",
   "metadata": {},
   "source": [
    "#### Ranges"
   ]
  },
  {
   "cell_type": "code",
   "execution_count": 69,
   "metadata": {},
   "outputs": [
    {
     "name": "stderr",
     "output_type": "stream",
     "text": [
      "C:\\Users\\hanna\\AppData\\Local\\Temp/ipykernel_1684/1229544586.py:15: FutureWarning: The frame.append method is deprecated and will be removed from pandas in a future version. Use pandas.concat instead.\n",
      "  df = df.append(new_row, ignore_index=True)\n"
     ]
    }
   ],
   "source": [
    "# Appending all the ranges as rows, to make lookup operations easier later\n",
    "\n",
    "df.numbis = df.numbis.fillna('')\n",
    "range_rows = df[df.numbis.str.isdigit()]\n",
    "\n",
    "for i, row in range_rows.iterrows():\n",
    "\n",
    "    start = int(re.findall(r'\\d+', row.sys)[0])\n",
    "    end = int(row.numbis)\n",
    "\n",
    "    for j in range(start, end): \n",
    "        new_row = row.copy()\n",
    "        new_row['sys'] = new_row['sys'].replace(str(start), str(j+1))\n",
    "\n",
    "        df = df.append(new_row, ignore_index=True)\n"
   ]
  },
  {
   "attachments": {},
   "cell_type": "markdown",
   "metadata": {},
   "source": [
    "# Export "
   ]
  },
  {
   "cell_type": "code",
   "execution_count": 127,
   "metadata": {},
   "outputs": [],
   "source": [
    "#df.to_csv('data/csv/signatures.csv', index=False)"
   ]
  },
  {
   "cell_type": "code",
   "execution_count": 55,
   "metadata": {},
   "outputs": [],
   "source": [
    "df = pd.read_csv('data/csv/signatures.csv')"
   ]
  },
  {
   "attachments": {},
   "cell_type": "markdown",
   "metadata": {},
   "source": [
    "# Merge with SyCa database "
   ]
  },
  {
   "cell_type": "code",
   "execution_count": 56,
   "metadata": {},
   "outputs": [],
   "source": [
    "syca = pd.read_csv('data/csv/signatures_C_E.csv', sep='\\t')"
   ]
  },
  {
   "cell_type": "code",
   "execution_count": 57,
   "metadata": {},
   "outputs": [
    {
     "data": {
      "text/plain": [
       "94211"
      ]
     },
     "execution_count": 57,
     "metadata": {},
     "output_type": "execute_result"
    }
   ],
   "source": [
    "len(syca) + len(df)"
   ]
  },
  {
   "attachments": {},
   "cell_type": "markdown",
   "metadata": {},
   "source": [
    "## Parse People (C, W, Z; Hh)"
   ]
  },
  {
   "cell_type": "code",
   "execution_count": 58,
   "metadata": {},
   "outputs": [],
   "source": [
    "artists = pd.DataFrame(columns=df.columns)\n",
    "\n",
    "rows = []\n",
    "\n",
    "artist_rows = syca[syca.sign.str.startswith('C', 'W') | syca.sign.str.startswith('Z')]\n",
    "\n",
    "def parse_artists(row):\n",
    "        field = row.sign\n",
    "        name = row['name']\n",
    "        if field.startswith('C'): \n",
    "            if len(field) > 1 and field[1] == 'a':\n",
    "                return 'Italienische Künstler', 'Alte Künstler (geboren vor 1870)', name\n",
    "            if len(field) > 1 and field[1] == 'm':\n",
    "                return 'Italienische Künstler', 'Moderne Künstler (geboren nach 1870)', name\n",
    "            if len(field) > 1 and field[1] == 'f':\n",
    "                return 'Italienische Künstler', 'Filmschaffende', name\n",
    "            else:\n",
    "               return None, None, None\n",
    "        elif field.startswith('W'): \n",
    "            if len(field) > 1 and field[1] == 'a':\n",
    "               return 'Ausseritalienische Künstler', 'Alte Künstler (geboren vor 1870)', name\n",
    "            if len(field) > 1 and field[1] == 'm':\n",
    "               return 'Ausseritalienische Künstler', 'Moderne Künstler (geboren nach 1870)', name\n",
    "            if len(field) > 1 and field[1] == 'f':\n",
    "                return 'Ausseritalienische Künstler', 'Filmschaffende', name\n",
    "            else:\n",
    "                return None, None, None\n",
    "        elif field.startswith('Z'): \n",
    "            if len(field) > 1 and field[1] == 'o':\n",
    "               return 'Nachbarwissenschaften', 'Italienische Dichter und ihre Werke', name\n",
    "            if len(field) > 1 and field[1] == 'p':\n",
    "               return 'Nachbarwissenschaften', 'Aussertalienische Dichter und ihre Werke', name\n",
    "            if len(field) > 1 and field[1] == 's':\n",
    "                return 'Nachbarwissenschaften', 'Werkausgaben zur Philosophie, Pädagogik und anderen geisteswissenschaftlichen Disziplinen', name\n",
    "            if len(field) > 1 and field[1] == 'u':\n",
    "                return 'Nachbarwissenschaften', 'Werkausgaben zur Theologie und religiöse Devotionsschriften', name\n",
    "        else: \n",
    "            return '', '', ''\n",
    "        \n",
    "\n",
    "# Mapping a and b artists to the start number of their signature\n",
    "\n",
    "a_artists = {'Bernini': 1920, 'Giotto': 660, 'Leonardo Da Vinci': 220, 'Michelangelo': 20, 'Raffael': 140, 'Tiepolo, Giov. Batt.': 10, 'Tiziano': 10}\n",
    "b_artists = {'Angelico (Fra Angelico)': 310, 'Bellini, Giovanni': 770, 'Borromini': 530, 'Boticelli': 180, 'Bramante': 270, 'Canaletto, Bernardo': 110,\n",
    "             'Canova': 980, 'Caravaggio': 316, 'Cellini': 290, 'Correggio': 1080, 'Donatello': 70, 'Duccio di Buoninsegna': 90,\n",
    "             'Franceschi, Piero': 250, 'Ghiberti, Lorenzo': 40, 'Ghirlandaio': 350, 'Giorgione': 580, 'Guardi, Francesco': 320, \n",
    "             'Mantegna': 980, 'Masaccio': 20, 'Palladio': 320, 'Perugino': 1200 ,'Reni, Guido': 70, 'Tintoretto, Jacopo': 220, 'Veronese': 670}\n",
    "\n",
    "# Generic artists in C, W and Z\n",
    "\n",
    "for i, row in artist_rows.iterrows():\n",
    "    text_1, text_2, text_3 = parse_artists(row)\n",
    "    sys = row.sign + ' ' + str(row.nr)\n",
    "    new_row = {'lev': 3, 'sys': sys, 'text': text_3, 'text_1': text_1, 'text_2': text_2}\n",
    "    rows.append(new_row)\n",
    "\n",
    "# A artists\n",
    "\n",
    "for a, start in a_artists.items():\n",
    "    sys = 'Ca-' + a[:3].upper() + ' '\n",
    "    rows += [{'lev': 3, 'sys': sys, 'text': a, 'text_2': 'Alte Künstler (geboren vor 1870)', 'text_1': 'Italienische Künstler'}]\n",
    "    rows += [{'lev': 4, 'sys': sys + str(start+i), 'text': t, 'text_3': a, 'text_2': 'Alte Künstler (geboren vor 1870)', 'text_1': 'Italienische Künstler'} \n",
    "            for i, t in enumerate(['Bibliographien', 'Quellenpublikationen', 'Sammelschriften', 'Ausstellungskataloge', \n",
    "                                   'Vollbiographien und Oeuvreverzeichnisse des Gesamtlebenswerkes', 'Teilbiographien und Oeuvreverzeichnisse einzelner Arbeitsperioden', \n",
    "                                   'Teilbiographien und Oeuvreverzeichnisse einzelner Arbeitsgebiete', 'Werkmonographien', 'Einzelfragen'], start=start)]\n",
    "# B artists\n",
    "\n",
    "for b, start in b_artists.items(): \n",
    "    sys = 'Ca-' + b[:3].upper() + ' '\n",
    "    rows += [{'lev': 3, 'sys': sys, 'text': b, 'text_2': 'Alte Künstler (geboren vor 1870)', 'text_1': 'Italienische Künstler'}]\n",
    "    rows += [{'lev': 4, 'sys': sys + str(start+i), 'text': t, 'text_3': a, 'text_2': 'Alte Künstler (geboren vor 1870)', 'text_1': 'Italienische Künstler'}\n",
    "              for i,t in enumerate(['Bibliographien, Quellenpublikationen', 'Sammelschriften, Ausstellungskataloge, Voll- und Teilbiografien (Arbeitsperioden und gebiete)', 'Werkmonographien, Einzelfragen'], start=start)]\n",
    "\n",
    "\n",
    "\n",
    "artists = pd.concat([artists, pd.DataFrame(rows)],ignore_index=True)"
   ]
  },
  {
   "cell_type": "code",
   "execution_count": 59,
   "metadata": {},
   "outputs": [],
   "source": [
    "df = pd.concat([df, artists], ignore_index=True)"
   ]
  },
  {
   "cell_type": "code",
   "execution_count": 60,
   "metadata": {},
   "outputs": [],
   "source": [
    "df.to_csv('data/csv/sig_with_artists.csv', index=False)\n"
   ]
  },
  {
   "attachments": {},
   "cell_type": "markdown",
   "metadata": {},
   "source": [
    "## Topography parsing (E, X, Y)"
   ]
  },
  {
   "cell_type": "code",
   "execution_count": 61,
   "metadata": {},
   "outputs": [
    {
     "name": "stderr",
     "output_type": "stream",
     "text": [
      "C:\\Users\\hanna\\AppData\\Local\\Temp/ipykernel_2888/3891623172.py:1: DtypeWarning: Columns (2,4,8) have mixed types. Specify dtype option on import or set low_memory=False.\n",
      "  df = pd.read_csv('data/csv/sig_with_artists.csv')\n"
     ]
    }
   ],
   "source": [
    "df = pd.read_csv('data/csv/sig_with_artists.csv')"
   ]
  },
  {
   "cell_type": "code",
   "execution_count": 62,
   "metadata": {},
   "outputs": [],
   "source": [
    "# generic topographies in Italy\n",
    "\n",
    "topographies = pd.DataFrame(columns=df.columns)\n",
    "rows = []\n",
    "\n",
    "topo_rows_italy = syca[syca.sign.str.startswith('E')]\n",
    "\n",
    "for i, row in topo_rows_italy.iterrows():\n",
    "\n",
    "    # start should be odd, if it's even then start = nr - 1\n",
    "    start = row.nr\n",
    "    if start % 2 == 0: \n",
    "        start -= 1\n",
    "    \n",
    "    sys = row.sign + ' ' + str(start)\n",
    "    new_row_odd = {'lev': 3, 'sys': sys, 'text': 'nicht-kunstgeschichtliche Literatur', 'text_1': 'Topographie Italien (ohne Rom)', 'text_2': row['name']}\n",
    "    rows.append(new_row_odd)\n",
    "\n",
    "    sys = row.sign + ' ' + str(start + 1)\n",
    "    new_row_even = {'lev': 3, 'sys': sys, 'text': 'kunstgeschichtliche Literatur', 'text_1': 'Topographie Italien (ohne Rom)', 'text_2': row['name']}\n",
    "    rows.append(new_row_even)\n",
    "\n",
    "topographies = pd.concat([topographies, pd.DataFrame(rows)], ignore_index=True)\n",
    "\n",
    "# Topographies in Europe: \n",
    "\n",
    "X_topos = {\n",
    "  'Xa': 'Deutschland',\n",
    "  'Xb': 'Österreich',\n",
    "  'Xc': 'Schweiz und Lichtenstein',\n",
    "  'Xd': 'Frankreich und Monaco',\n",
    "  'Xe': 'Belgien',\n",
    "  'Xf': 'Holland',\n",
    "  'Xg': 'Luxemburg',\n",
    "  'Xh': 'Grossbritannien und Irland',\n",
    "  'Xi': 'Spanien mit Gibraltar und Andorra',\n",
    "  'Xk': 'Portugal',\n",
    "  'Xl': 'Dänemark und Island',\n",
    "  'Xm': 'Schweden',\n",
    "  'Xn': 'Norwegen',\n",
    "  'Xo': 'Finnland',\n",
    "  'Xp': 'Tschechoslowakei',\n",
    "  'Xq': 'Polen',\n",
    "  'Xr': 'Europäische Sowjetunion (einschließlich baltische Staaten)',\n",
    "  'Xs': 'Ungarn',\n",
    "  'Xt': 'Jugoslawien und Albanien',\n",
    "  'Xu': 'Bulgarien',\n",
    "  'Xw': 'Rumänien',\n",
    "  'Xx': 'Griechenland (mit Rhodos) und Zypern',\n",
    "  'Xy': 'Europäische Türkei'\n",
    "}\n",
    "\n",
    "rows = []\n",
    "topo_rows_europe = syca[syca.sign.str.startswith('X')]\n",
    "\n",
    "for i, row in topo_rows_europe.iterrows():\n",
    "\n",
    "    # start should be odd, if it's even then start = nr - 1\n",
    "    start = row.nr\n",
    "    if start % 2 == 0: \n",
    "        start -= 1\n",
    "    \n",
    "    country = X_topos[row.sign[:2]]\n",
    "\n",
    "    sys = row.sign + ' ' + str(start)\n",
    "    new_row_odd = {'lev': 4, 'sys': sys, 'text': 'nicht-kunstgeschichtliche Literatur', 'text_1': 'Topographie Europa (ohne Italien)', 'text_2': country, 'text_3': row['name']}\n",
    "    rows.append(new_row_odd)\n",
    "\n",
    "    sys = row.sign + ' ' + str(start + 1)\n",
    "    new_row_even = {'lev': 4, 'sys': sys, 'text': 'kunstgeschichtliche Literatur', 'text_1': 'Topographie Europa (ohne Italien)', 'text_2': country, 'text_3': row['name']}\n",
    "    rows.append(new_row_even)\n",
    "\n",
    "topographies = pd.concat([topographies, pd.DataFrame(rows)], ignore_index=True)\n",
    "\n",
    "\n",
    "# Topographies not in Europe: \n",
    "\n",
    "Y_topos = {\n",
    "  'Ya': 'Asiatische Türkei',\n",
    "  'Yb': 'Syrien und Libanon',\n",
    "  'Yc': 'Israel und Jordanien',\n",
    "  'Ye': 'Saudi-Arabien mit Jemen, Aden und Oman',\n",
    "  'Yf': 'Irak',\n",
    "  'Yg': 'Iran (Persien)',\n",
    "  'Yh': 'Afghanistan',\n",
    "  'Yi': 'Indien, Pakistan und Nepal',\n",
    "  'Yk': 'hinterindische Staaten (Burma, Thailand, Kambodscha, Vietnam etc.)',\n",
    "  'Yl': 'Japan',\n",
    "  'Ym': 'China',\n",
    "  'Yn': 'asiatische Sowjetunion',\n",
    "  'Yo': 'malaiische Inseln und Ozeanien (Südsee-Inseln)',\n",
    "  'Yp': 'Ägypten',\n",
    "  'Yq': 'Abessinien',\n",
    "  'Yr': 'übrige nordafrikanische Staaten (Libyen mit Cyrenaica und Tripolitanien, Tunesien, Algerien, Marokko)',\n",
    "  'Ys': 'mittel- und südafrikanische Staaten',\n",
    "  'Yt': 'Kanada',\n",
    "  'Yu': 'USA',\n",
    "  'Yw': 'Mexiko',\n",
    "  'Yx': 'Mittelamerika (Guatemala, Honduras, Salvador, Nicaragua, Costa Rica, Panama und die Inseln des Karibischen Meeres)',\n",
    "  'Yy': 'Südamerika (Kolumbien, Venezuela, Guayana, Ecuador, Peru, Brasilien, Bolivien, Paraguay, Uruguay, Argentinien, Chile)',\n",
    "  'Yz': 'Australien mit Neuseeland'\n",
    "}\n",
    "\n",
    "rows = []\n",
    "topo_rows_world = syca[syca.sign.str.startswith('Y')]\n",
    "\n",
    "for i, row in topo_rows_world.iterrows():\n",
    "\n",
    "    # start should be odd, if it's even then start = nr - 1\n",
    "    start = row.nr\n",
    "    if start % 2 == 0: \n",
    "        start -= 1\n",
    "    \n",
    "    country = Y_topos[row.sign[:2]]\n",
    "\n",
    "    sys = row.sign + ' ' + str(start)\n",
    "    new_row_odd = {'lev': 4, 'sys': sys, 'text': 'nicht-kunstgeschichtliche Literatur', 'text_1': 'Topographie Europa (ohne Italien)', 'text_2': country, 'text_3': row['name']}\n",
    "    rows.append(new_row_odd)\n",
    "\n",
    "    sys = row.sign + ' ' + str(start + 1)\n",
    "    new_row_even = {'lev': 4, 'sys': sys, 'text': 'kunstgeschichtliche Literatur', 'text_1': 'Topographie Europa (ohne Italien)', 'text_2': country, 'text_3': row['name']}\n",
    "    rows.append(new_row_even)\n",
    "\n",
    "topographies = pd.concat([topographies, pd.DataFrame(rows)], ignore_index=True)\n",
    "\n",
    "# Special cities in Italy\n",
    "rows = []\n",
    "\n",
    "it_cities = {\n",
    "    'Bologna': 60,\n",
    "    'Brescia': 290,\n",
    "    'Ferrara': 100,\n",
    "    'Genova': 60,\n",
    "    'Messina': 70,\n",
    "    'Milano': 10,\n",
    "    'Modena': 10,\n",
    "    'Napoli': 10,\n",
    "    'Padova': 90,\n",
    "    'Palermo': 240,\n",
    "    'Parma': 120,\n",
    "    'Perugia': 310,\n",
    "    'Pisa': 10,\n",
    "    'Ravenna': 50,\n",
    "    'Siena': 10,\n",
    "    'Torino': 120,\n",
    "    'Verona': 300\n",
    "}\n",
    "\n",
    "for city, start in it_cities.items():\n",
    "    \n",
    "    sys = 'E-' + city[:3].upper() + ' '\n",
    "    rows += [{'lev': 2, 'sys': sys, 'text': city, 'text_1': 'Topographie Italien (ohne Rom)'}]\n",
    "    rows += [{'lev': 3, 'sys': sys + str(start), 'text': t, 'text_2': city, 'text_1': 'Topographie Italien (ohne Rom)'} \n",
    "            for i, t in enumerate(['nicht-kunstgeschichtliche Literatur, Topographien und Bibliographien', 'Guiden', 'Kunst allgemein', 'Architektur', \n",
    "                                   'Plastik', 'Malerei, Grafik, Mosaik, Buchmalerei', \n",
    "                                   'Hauptkirche', 'sonstige einzelne Kirchen', 'einelne Profangebäude', 'Varia'], start=start)]\n",
    "\n",
    "topographies = pd.concat([topographies, pd.DataFrame(rows)],ignore_index=True)"
   ]
  },
  {
   "cell_type": "code",
   "execution_count": 63,
   "metadata": {},
   "outputs": [],
   "source": [
    "df = pd.concat([df, topographies], ignore_index=True)"
   ]
  },
  {
   "cell_type": "code",
   "execution_count": 68,
   "metadata": {},
   "outputs": [],
   "source": [
    "text_cols = ['text', 'text_1', 'text_2', 'text_3']\n",
    "df[text_cols] = df[text_cols].fillna('')"
   ]
  },
  {
   "cell_type": "code",
   "execution_count": 71,
   "metadata": {},
   "outputs": [],
   "source": [
    "df.to_csv('data/csv/sig_updated.csv', index=False)"
   ]
  },
  {
   "cell_type": "code",
   "execution_count": 169,
   "metadata": {},
   "outputs": [
    {
     "data": {
      "text/html": [
       "<div>\n",
       "<style scoped>\n",
       "    .dataframe tbody tr th:only-of-type {\n",
       "        vertical-align: middle;\n",
       "    }\n",
       "\n",
       "    .dataframe tbody tr th {\n",
       "        vertical-align: top;\n",
       "    }\n",
       "\n",
       "    .dataframe thead th {\n",
       "        text-align: right;\n",
       "    }\n",
       "</style>\n",
       "<table border=\"1\" class=\"dataframe\">\n",
       "  <thead>\n",
       "    <tr style=\"text-align: right;\">\n",
       "      <th></th>\n",
       "      <th>lev</th>\n",
       "      <th>sys</th>\n",
       "      <th>numbis</th>\n",
       "      <th>text</th>\n",
       "      <th>backreference</th>\n",
       "      <th>text_1</th>\n",
       "      <th>text_2</th>\n",
       "      <th>text_3</th>\n",
       "      <th>text_4</th>\n",
       "    </tr>\n",
       "  </thead>\n",
       "  <tbody>\n",
       "    <tr>\n",
       "      <th>65326</th>\n",
       "      <td>3.0</td>\n",
       "      <td>Zp-ABR 301</td>\n",
       "      <td>NaN</td>\n",
       "      <td>Abraham a Sancta Clara</td>\n",
       "      <td>NaN</td>\n",
       "      <td>Nachbarwissenschaften</td>\n",
       "      <td>Aussertalienische Dichter und ihre Werke</td>\n",
       "      <td>NaN</td>\n",
       "      <td>NaN</td>\n",
       "    </tr>\n",
       "    <tr>\n",
       "      <th>65327</th>\n",
       "      <td>3.0</td>\n",
       "      <td>Zp-ACH 3507</td>\n",
       "      <td>NaN</td>\n",
       "      <td>Achilles Tatius</td>\n",
       "      <td>NaN</td>\n",
       "      <td>Nachbarwissenschaften</td>\n",
       "      <td>Aussertalienische Dichter und ihre Werke</td>\n",
       "      <td>NaN</td>\n",
       "      <td>NaN</td>\n",
       "    </tr>\n",
       "    <tr>\n",
       "      <th>65328</th>\n",
       "      <td>3.0</td>\n",
       "      <td>Zp-AEN 1727</td>\n",
       "      <td>NaN</td>\n",
       "      <td>Aeneas Tacticus</td>\n",
       "      <td>NaN</td>\n",
       "      <td>Nachbarwissenschaften</td>\n",
       "      <td>Aussertalienische Dichter und ihre Werke</td>\n",
       "      <td>NaN</td>\n",
       "      <td>NaN</td>\n",
       "    </tr>\n",
       "    <tr>\n",
       "      <th>65329</th>\n",
       "      <td>3.0</td>\n",
       "      <td>Zp-AIS 1095</td>\n",
       "      <td>NaN</td>\n",
       "      <td>Aischines</td>\n",
       "      <td>NaN</td>\n",
       "      <td>Nachbarwissenschaften</td>\n",
       "      <td>Aussertalienische Dichter und ihre Werke</td>\n",
       "      <td>NaN</td>\n",
       "      <td>NaN</td>\n",
       "    </tr>\n",
       "    <tr>\n",
       "      <th>65330</th>\n",
       "      <td>3.0</td>\n",
       "      <td>Zp-AIS 1107</td>\n",
       "      <td>NaN</td>\n",
       "      <td>Aischylos</td>\n",
       "      <td>NaN</td>\n",
       "      <td>Nachbarwissenschaften</td>\n",
       "      <td>Aussertalienische Dichter und ihre Werke</td>\n",
       "      <td>NaN</td>\n",
       "      <td>NaN</td>\n",
       "    </tr>\n",
       "    <tr>\n",
       "      <th>...</th>\n",
       "      <td>...</td>\n",
       "      <td>...</td>\n",
       "      <td>...</td>\n",
       "      <td>...</td>\n",
       "      <td>...</td>\n",
       "      <td>...</td>\n",
       "      <td>...</td>\n",
       "      <td>...</td>\n",
       "      <td>...</td>\n",
       "    </tr>\n",
       "    <tr>\n",
       "      <th>72205</th>\n",
       "      <td>3.0</td>\n",
       "      <td>Zp-FON 6973</td>\n",
       "      <td>NaN</td>\n",
       "      <td>Fonseca Pimentel, Eleonora</td>\n",
       "      <td>NaN</td>\n",
       "      <td>Nachbarwissenschaften</td>\n",
       "      <td>Aussertalienische Dichter und ihre Werke</td>\n",
       "      <td>NaN</td>\n",
       "      <td>NaN</td>\n",
       "    </tr>\n",
       "    <tr>\n",
       "      <th>72225</th>\n",
       "      <td>3.0</td>\n",
       "      <td>Zp-REA 51</td>\n",
       "      <td>NaN</td>\n",
       "      <td>Rea, Domenico</td>\n",
       "      <td>NaN</td>\n",
       "      <td>Nachbarwissenschaften</td>\n",
       "      <td>Aussertalienische Dichter und ihre Werke</td>\n",
       "      <td>NaN</td>\n",
       "      <td>NaN</td>\n",
       "    </tr>\n",
       "    <tr>\n",
       "      <th>72319</th>\n",
       "      <td>3.0</td>\n",
       "      <td>Zp-DEM 2141</td>\n",
       "      <td>NaN</td>\n",
       "      <td>Demetrius, Phalereus</td>\n",
       "      <td>NaN</td>\n",
       "      <td>Nachbarwissenschaften</td>\n",
       "      <td>Aussertalienische Dichter und ihre Werke</td>\n",
       "      <td>NaN</td>\n",
       "      <td>NaN</td>\n",
       "    </tr>\n",
       "    <tr>\n",
       "      <th>72345</th>\n",
       "      <td>3.0</td>\n",
       "      <td>Zp-DEF 5333</td>\n",
       "      <td>NaN</td>\n",
       "      <td>Defoe, Daniel</td>\n",
       "      <td>NaN</td>\n",
       "      <td>Nachbarwissenschaften</td>\n",
       "      <td>Aussertalienische Dichter und ihre Werke</td>\n",
       "      <td>NaN</td>\n",
       "      <td>NaN</td>\n",
       "    </tr>\n",
       "    <tr>\n",
       "      <th>72359</th>\n",
       "      <td>3.0</td>\n",
       "      <td>Zp-TAU 704</td>\n",
       "      <td>NaN</td>\n",
       "      <td>Taubmann, Friedrich</td>\n",
       "      <td>NaN</td>\n",
       "      <td>Nachbarwissenschaften</td>\n",
       "      <td>Aussertalienische Dichter und ihre Werke</td>\n",
       "      <td>NaN</td>\n",
       "      <td>NaN</td>\n",
       "    </tr>\n",
       "  </tbody>\n",
       "</table>\n",
       "<p>567 rows × 9 columns</p>\n",
       "</div>"
      ],
      "text/plain": [
       "       lev          sys numbis                        text backreference  \\\n",
       "65326  3.0   Zp-ABR 301    NaN      Abraham a Sancta Clara           NaN   \n",
       "65327  3.0  Zp-ACH 3507    NaN             Achilles Tatius           NaN   \n",
       "65328  3.0  Zp-AEN 1727    NaN             Aeneas Tacticus           NaN   \n",
       "65329  3.0  Zp-AIS 1095    NaN                   Aischines           NaN   \n",
       "65330  3.0  Zp-AIS 1107    NaN                   Aischylos           NaN   \n",
       "...    ...          ...    ...                         ...           ...   \n",
       "72205  3.0  Zp-FON 6973    NaN  Fonseca Pimentel, Eleonora           NaN   \n",
       "72225  3.0    Zp-REA 51    NaN               Rea, Domenico           NaN   \n",
       "72319  3.0  Zp-DEM 2141    NaN        Demetrius, Phalereus           NaN   \n",
       "72345  3.0  Zp-DEF 5333    NaN               Defoe, Daniel           NaN   \n",
       "72359  3.0   Zp-TAU 704    NaN         Taubmann, Friedrich           NaN   \n",
       "\n",
       "                      text_1                                    text_2 text_3  \\\n",
       "65326  Nachbarwissenschaften  Aussertalienische Dichter und ihre Werke    NaN   \n",
       "65327  Nachbarwissenschaften  Aussertalienische Dichter und ihre Werke    NaN   \n",
       "65328  Nachbarwissenschaften  Aussertalienische Dichter und ihre Werke    NaN   \n",
       "65329  Nachbarwissenschaften  Aussertalienische Dichter und ihre Werke    NaN   \n",
       "65330  Nachbarwissenschaften  Aussertalienische Dichter und ihre Werke    NaN   \n",
       "...                      ...                                       ...    ...   \n",
       "72205  Nachbarwissenschaften  Aussertalienische Dichter und ihre Werke    NaN   \n",
       "72225  Nachbarwissenschaften  Aussertalienische Dichter und ihre Werke    NaN   \n",
       "72319  Nachbarwissenschaften  Aussertalienische Dichter und ihre Werke    NaN   \n",
       "72345  Nachbarwissenschaften  Aussertalienische Dichter und ihre Werke    NaN   \n",
       "72359  Nachbarwissenschaften  Aussertalienische Dichter und ihre Werke    NaN   \n",
       "\n",
       "      text_4  \n",
       "65326    NaN  \n",
       "65327    NaN  \n",
       "65328    NaN  \n",
       "65329    NaN  \n",
       "65330    NaN  \n",
       "...      ...  \n",
       "72205    NaN  \n",
       "72225    NaN  \n",
       "72319    NaN  \n",
       "72345    NaN  \n",
       "72359    NaN  \n",
       "\n",
       "[567 rows x 9 columns]"
      ]
     },
     "execution_count": 169,
     "metadata": {},
     "output_type": "execute_result"
    }
   ],
   "source": [
    "# Firenze Kill me now Thank the lord and saviour Chatgbt\n",
    "df.sys.fillna('', inplace=True)\n",
    "df[df.sys.str.startswith('Zp')]\n",
    "\n"
   ]
  },
  {
   "cell_type": "code",
   "execution_count": null,
   "metadata": {},
   "outputs": [],
   "source": []
  }
 ],
 "metadata": {
  "kernelspec": {
   "display_name": "ada",
   "language": "python",
   "name": "python3"
  },
  "language_info": {
   "codemirror_mode": {
    "name": "ipython",
    "version": 3
   },
   "file_extension": ".py",
   "mimetype": "text/x-python",
   "name": "python",
   "nbconvert_exporter": "python",
   "pygments_lexer": "ipython3",
   "version": "3.8.11"
  },
  "orig_nbformat": 4
 },
 "nbformat": 4,
 "nbformat_minor": 2
}
