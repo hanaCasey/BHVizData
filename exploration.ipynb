{
 "cells": [
  {
   "cell_type": "code",
   "execution_count": 1,
   "id": "06d9c5ac",
   "metadata": {},
   "outputs": [],
   "source": [
    "import pandas as pd\n",
    "import json\n",
    "import re\n",
    "import csv\n",
    "import numpy as np\n",
    "import math\n",
    "import codecs\n",
    "from sklearn.feature_extraction.text import CountVectorizer, TfidfVectorizer"
   ]
  },
  {
   "attachments": {},
   "cell_type": "markdown",
   "id": "4f90ddb3",
   "metadata": {},
   "source": [
    "# Load Data"
   ]
  },
  {
   "cell_type": "code",
   "execution_count": 49,
   "id": "bdd50e73",
   "metadata": {},
   "outputs": [
    {
     "data": {
      "text/plain": [
       "10778"
      ]
     },
     "execution_count": 49,
     "metadata": {},
     "output_type": "execute_result"
    }
   ],
   "source": [
    "df = pd.read_csv('data/out_test.csv')\n",
    "len(df)"
   ]
  },
  {
   "cell_type": "code",
   "execution_count": 50,
   "id": "2a6bb75e",
   "metadata": {},
   "outputs": [
    {
     "data": {
      "text/plain": [
       "3476"
      ]
     },
     "execution_count": 50,
     "metadata": {},
     "output_type": "execute_result"
    }
   ],
   "source": [
    "#documents without subject labels\n",
    "df['subjects'].isna().sum()"
   ]
  },
  {
   "cell_type": "code",
   "execution_count": 51,
   "id": "6334cfbf",
   "metadata": {},
   "outputs": [
    {
     "data": {
      "text/plain": [
       "0"
      ]
     },
     "execution_count": 51,
     "metadata": {},
     "output_type": "execute_result"
    }
   ],
   "source": [
    "df.dropna(subset=['subjects'], inplace=True)\n",
    "df['subjects'].isna().sum()"
   ]
  },
  {
   "cell_type": "code",
   "execution_count": 52,
   "id": "f6c73efc",
   "metadata": {},
   "outputs": [
    {
     "data": {
      "text/plain": [
       "0                       Deutsches Literaturarchiv Marbach\n",
       "1          Burckhardt, Jacob|Deutschland|Historienmalerei\n",
       "2                     Geschichtsstudium|Burckhardt, Jacob\n",
       "3                             Fitzcarraldo|Herzog, Werner\n",
       "4                                       Rauzzini, Filippo\n",
       "                               ...                       \n",
       "10768                                San Torpè|Kirchengut\n",
       "10769                 Christine (Schweden, Königin)|Musik\n",
       "10770                                    Hypsipyle|Mythos\n",
       "10772    Chaucer, Geoffrey|Rezeption|Christine (de Pisan)\n",
       "10773             Winckelmann, Johann Joachim|Archäologie\n",
       "Name: subjects, Length: 7302, dtype: object"
      ]
     },
     "execution_count": 52,
     "metadata": {},
     "output_type": "execute_result"
    }
   ],
   "source": [
    "df['subjects']"
   ]
  },
  {
   "attachments": {},
   "cell_type": "markdown",
   "id": "44a9489e",
   "metadata": {},
   "source": [
    "## Category labels"
   ]
  },
  {
   "cell_type": "code",
   "execution_count": 53,
   "id": "609a9c4a",
   "metadata": {},
   "outputs": [],
   "source": [
    "#based on the subject types\n",
    "df['subject_labels'] = df['subject_types'].str.split('|')"
   ]
  },
  {
   "cell_type": "code",
   "execution_count": 54,
   "id": "ac46b66e",
   "metadata": {},
   "outputs": [
    {
     "data": {
      "text/plain": [
       "0              [b]\n",
       "1        [p, g, s]\n",
       "2           [s, p]\n",
       "3           [u, p]\n",
       "4              [p]\n",
       "           ...    \n",
       "10768       [g, s]\n",
       "10769       [p, s]\n",
       "10770       [p, s]\n",
       "10772    [u, s, p]\n",
       "10773       [p, s]\n",
       "Name: subject_labels, Length: 7302, dtype: object"
      ]
     },
     "execution_count": 54,
     "metadata": {},
     "output_type": "execute_result"
    }
   ],
   "source": [
    "df['subject_labels']"
   ]
  },
  {
   "attachments": {},
   "cell_type": "markdown",
   "id": "957ccd61",
   "metadata": {},
   "source": [
    "## Tokenize"
   ]
  },
  {
   "cell_type": "code",
   "execution_count": 55,
   "id": "86d00e64",
   "metadata": {},
   "outputs": [],
   "source": [
    "# cleaning up the subject: getting rid of commas and spaces, replacing the | with spaces\n",
    "df['subject_list'] = df['subjects'].apply(lambda x: str(x).replace(',', '').replace(' ', '').replace('|', ' '))"
   ]
  },
  {
   "cell_type": "code",
   "execution_count": 56,
   "id": "e628c113",
   "metadata": {},
   "outputs": [
    {
     "data": {
      "text/plain": [
       "0                     DeutschesLiteraturarchivMarbach\n",
       "1        BurckhardtJacob Deutschland Historienmalerei\n",
       "2                   Geschichtsstudium BurckhardtJacob\n",
       "3                           Fitzcarraldo HerzogWerner\n",
       "4                                     RauzziniFilippo\n",
       "                             ...                     \n",
       "10768                             SanTorpè Kirchengut\n",
       "10769                Christine(SchwedenKönigin) Musik\n",
       "10770                                Hypsipyle Mythos\n",
       "10772    ChaucerGeoffrey Rezeption Christine(dePisan)\n",
       "10773            WinckelmannJohannJoachim Archäologie\n",
       "Name: subject_list, Length: 7302, dtype: object"
      ]
     },
     "execution_count": 56,
     "metadata": {},
     "output_type": "execute_result"
    }
   ],
   "source": [
    "df['subject_list']"
   ]
  },
  {
   "attachments": {},
   "cell_type": "markdown",
   "id": "1be8db2b",
   "metadata": {},
   "source": [
    "## Bag of words"
   ]
  },
  {
   "cell_type": "code",
   "execution_count": 67,
   "id": "450f585b",
   "metadata": {},
   "outputs": [],
   "source": [
    "vectorizer = CountVectorizer(min_df=5)\n",
    "subject_doc_matrix = vectorizer.fit_transform(df.subject_list)"
   ]
  },
  {
   "cell_type": "code",
   "execution_count": 68,
   "id": "58e98aac",
   "metadata": {},
   "outputs": [
    {
     "data": {
      "text/plain": [
       "<7302x429 sparse matrix of type '<class 'numpy.int64'>'\n",
       "\twith 7762 stored elements in Compressed Sparse Row format>"
      ]
     },
     "execution_count": 68,
     "metadata": {},
     "output_type": "execute_result"
    }
   ],
   "source": [
    "subject_doc_matrix"
   ]
  },
  {
   "attachments": {},
   "cell_type": "markdown",
   "id": "f264a5b0",
   "metadata": {},
   "source": [
    "### UMAP"
   ]
  },
  {
   "cell_type": "code",
   "execution_count": 69,
   "id": "971eced3",
   "metadata": {},
   "outputs": [],
   "source": [
    "import matplotlib.pyplot as plt\n",
    "from umap.umap_ import UMAP\n",
    "import umap.plot"
   ]
  },
  {
   "cell_type": "code",
   "execution_count": 70,
   "id": "00a1720d",
   "metadata": {},
   "outputs": [
    {
     "name": "stderr",
     "output_type": "stream",
     "text": [
      "c:\\Users\\hanna\\anaconda3\\envs\\ada\\lib\\site-packages\\umap\\umap_.py:132: UserWarning: A large number of your vertices were disconnected from the manifold.\n",
      "Disconnection_distance = 1 has removed 24217 edges.\n",
      "It has fully disconnected 1141 vertices.\n",
      "You might consider using find_disconnected_points() to find and remove these points from your data.\n",
      "Use umap.utils.disconnected_vertices() to identify them.\n",
      "  warn(\n"
     ]
    }
   ],
   "source": [
    "reducer = UMAP(n_components = 2, metric='hellinger')\n",
    "\n",
    "embedding = reducer.fit(subject_doc_matrix)"
   ]
  },
  {
   "cell_type": "code",
   "execution_count": 71,
   "id": "a4505245",
   "metadata": {},
   "outputs": [
    {
     "data": {
      "text/plain": [
       "(7302, 2)"
      ]
     },
     "execution_count": 71,
     "metadata": {},
     "output_type": "execute_result"
    }
   ],
   "source": [
    "embedding.embedding_.shape"
   ]
  },
  {
   "cell_type": "code",
   "execution_count": 72,
   "id": "3bbaabe9",
   "metadata": {},
   "outputs": [
    {
     "name": "stderr",
     "output_type": "stream",
     "text": [
      "*c* argument looks like a single numeric RGB or RGBA sequence, which should be avoided as value-mapping will have precedence in case its length matches with *x* & *y*.  Please use the *color* keyword-argument or provide a 2D array with a single row if you intend to specify the same RGB or RGBA value for all points.\n"
     ]
    },
    {
     "data": {
      "image/png": "[encoded data removed]",
      "text/plain": [
       "<Figure size 800x800 with 1 Axes>"
      ]
     },
     "metadata": {},
     "output_type": "display_data"
    }
   ],
   "source": [
    "f = umap.plot.points(embedding)"
   ]
  },
  {
   "attachments": {},
   "cell_type": "markdown",
   "id": "09e98084",
   "metadata": {},
   "source": [
    "## TF-IDF"
   ]
  },
  {
   "cell_type": "code",
   "execution_count": 73,
   "id": "b1b6b4a4",
   "metadata": {},
   "outputs": [],
   "source": [
    "tfidf = TfidfVectorizer(min_df=5)\n",
    "tfidf_subject_matrix = tfidf.fit_transform(df.subject_list)\n"
   ]
  },
  {
   "cell_type": "code",
   "execution_count": 74,
   "id": "fb3df00f",
   "metadata": {},
   "outputs": [
    {
     "data": {
      "text/plain": [
       "<7302x429 sparse matrix of type '<class 'numpy.float64'>'\n",
       "\twith 7762 stored elements in Compressed Sparse Row format>"
      ]
     },
     "execution_count": 74,
     "metadata": {},
     "output_type": "execute_result"
    }
   ],
   "source": [
    "tfidf_subject_matrix"
   ]
  },
  {
   "cell_type": "code",
   "execution_count": 75,
   "id": "ec1a0388",
   "metadata": {},
   "outputs": [
    {
     "name": "stderr",
     "output_type": "stream",
     "text": [
      "c:\\Users\\hanna\\anaconda3\\envs\\ada\\lib\\site-packages\\umap\\umap_.py:132: UserWarning: A large number of your vertices were disconnected from the manifold.\n",
      "Disconnection_distance = 1 has removed 25321 edges.\n",
      "It has fully disconnected 1189 vertices.\n",
      "You might consider using find_disconnected_points() to find and remove these points from your data.\n",
      "Use umap.utils.disconnected_vertices() to identify them.\n",
      "  warn(\n"
     ]
    }
   ],
   "source": [
    "tfidf_embedding = UMAP( n_components = 2, metric='hellinger').fit(tfidf_subject_matrix)\n"
   ]
  },
  {
   "cell_type": "code",
   "execution_count": 76,
   "id": "314ffccb",
   "metadata": {},
   "outputs": [
    {
     "name": "stderr",
     "output_type": "stream",
     "text": [
      "*c* argument looks like a single numeric RGB or RGBA sequence, which should be avoided as value-mapping will have precedence in case its length matches with *x* & *y*.  Please use the *color* keyword-argument or provide a 2D array with a single row if you intend to specify the same RGB or RGBA value for all points.\n"
     ]
    },
    {
     "data": {
      "image/png": "[encoded data removed]",
      "text/plain": [
       "<Figure size 800x800 with 1 Axes>"
      ]
     },
     "metadata": {},
     "output_type": "display_data"
    }
   ],
   "source": [
    "f = umap.plot.points(tfidf_embedding)"
   ]
  },
  {
   "cell_type": "markdown",
   "id": "6f64df1c",
   "metadata": {},
   "source": []
  },
  {
   "cell_type": "markdown",
   "id": "3d6ca3f7",
   "metadata": {},
   "source": []
  }
 ],
 "metadata": {
  "kernelspec": {
   "display_name": "Python 3 (ipykernel)",
   "language": "python",
   "name": "python3"
  },
  "language_info": {
   "codemirror_mode": {
    "name": "ipython",
    "version": 3
   },
   "file_extension": ".py",
   "mimetype": "text/x-python",
   "name": "python",
   "nbconvert_exporter": "python",
   "pygments_lexer": "ipython3",
   "version": "3.8.11"
  }
 },
 "nbformat": 4,
 "nbformat_minor": 5
}
