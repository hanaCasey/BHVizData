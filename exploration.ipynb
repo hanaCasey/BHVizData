{
 "cells": [
  {
   "cell_type": "code",
   "execution_count": 1,
   "id": "06d9c5ac",
   "metadata": {},
   "outputs": [],
   "source": [
    "import pandas as pd\n",
    "import numpy as np\n",
    "from sklearn.feature_extraction.text import CountVectorizer, TfidfVectorizer\n",
    "import glob\n",
    "import os\n",
    "import matplotlib.pyplot as plt"
   ]
  },
  {
   "attachments": {},
   "cell_type": "markdown",
   "id": "4f90ddb3",
   "metadata": {},
   "source": [
    "# Load Data"
   ]
  },
  {
   "cell_type": "code",
   "execution_count": 2,
   "id": "bdd50e73",
   "metadata": {},
   "outputs": [
    {
     "name": "stderr",
     "output_type": "stream",
     "text": [
      "C:\\Users\\hanna\\AppData\\Local\\Temp/ipykernel_17560/1728045614.py:7: DtypeWarning: Columns (12,13) have mixed types. Specify dtype option on import or set low_memory=False.\n",
      "  frame = pd.read_csv(filename, header=0)\n"
     ]
    }
   ],
   "source": [
    "path = 'data/csv_files'\n",
    "files = glob.glob(os.path.join(path, '*.csv'))\n",
    "\n",
    "li = []\n",
    "\n",
    "for filename in files: \n",
    "    frame = pd.read_csv(filename, header=0)\n",
    "    li.append(frame)\n",
    "\n",
    "df_full = pd.concat(li, axis=0, ignore_index=True)\n",
    "# df= pd.read_csv('data/out_test.csv')"
   ]
  },
  {
   "cell_type": "code",
   "execution_count": 3,
   "id": "226db827",
   "metadata": {},
   "outputs": [
    {
     "data": {
      "text/html": [
       "<div>\n",
       "<style scoped>\n",
       "    .dataframe tbody tr th:only-of-type {\n",
       "        vertical-align: middle;\n",
       "    }\n",
       "\n",
       "    .dataframe tbody tr th {\n",
       "        vertical-align: top;\n",
       "    }\n",
       "\n",
       "    .dataframe thead th {\n",
       "        text-align: right;\n",
       "    }\n",
       "</style>\n",
       "<table border=\"1\" class=\"dataframe\">\n",
       "  <thead>\n",
       "    <tr style=\"text-align: right;\">\n",
       "      <th></th>\n",
       "      <th>id</th>\n",
       "      <th>lang</th>\n",
       "      <th>authors</th>\n",
       "      <th>title</th>\n",
       "      <th>subtitle</th>\n",
       "      <th>statement</th>\n",
       "      <th>place</th>\n",
       "      <th>publisher</th>\n",
       "      <th>year</th>\n",
       "      <th>editors</th>\n",
       "      <th>subjects</th>\n",
       "      <th>subject_types</th>\n",
       "      <th>parentId</th>\n",
       "      <th>parentTitle</th>\n",
       "    </tr>\n",
       "  </thead>\n",
       "  <tbody>\n",
       "    <tr>\n",
       "      <th>0</th>\n",
       "      <td>BV000023649</td>\n",
       "      <td>ger</td>\n",
       "      <td>NaN</td>\n",
       "      <td>Deutsches Literaturarchiv, Schiller-Nationalmu...</td>\n",
       "      <td>NaN</td>\n",
       "      <td>vorgestellt von den Mitarbeitern</td>\n",
       "      <td>Marbach a. Neckar</td>\n",
       "      <td>NaN</td>\n",
       "      <td>1982</td>\n",
       "      <td>NaN</td>\n",
       "      <td>Deutsches Literaturarchiv Marbach</td>\n",
       "      <td>b</td>\n",
       "      <td>BV040655651</td>\n",
       "      <td>Marbacher Schriften</td>\n",
       "    </tr>\n",
       "    <tr>\n",
       "      <th>1</th>\n",
       "      <td>BV000024214</td>\n",
       "      <td>ger</td>\n",
       "      <td>Schlink, Wilhelm</td>\n",
       "      <td>Jacob Burckhardt und die Kunsterwartung im Vor...</td>\n",
       "      <td>NaN</td>\n",
       "      <td>Wilhelm Schlink</td>\n",
       "      <td>Wiesbaden</td>\n",
       "      <td>Steiner</td>\n",
       "      <td>1982</td>\n",
       "      <td>NaN</td>\n",
       "      <td>Burckhardt, Jacob|Deutschland|Historienmalerei</td>\n",
       "      <td>p|g|s</td>\n",
       "      <td>BV000000154</td>\n",
       "      <td>Frankfurter historische Vorträge</td>\n",
       "    </tr>\n",
       "    <tr>\n",
       "      <th>2</th>\n",
       "      <td>BV000024767</td>\n",
       "      <td>ger</td>\n",
       "      <td>Burckhardt, Jacob</td>\n",
       "      <td>Über das Studium der Geschichte</td>\n",
       "      <td>NaN</td>\n",
       "      <td>Jacob Burckhardt. Nach den Handschriften herau...</td>\n",
       "      <td>München</td>\n",
       "      <td>Verlag C.H.Beck</td>\n",
       "      <td>1982</td>\n",
       "      <td>Ganz, Peter F.|Ziegler, Ernst</td>\n",
       "      <td>Geschichtsstudium|Burckhardt, Jacob</td>\n",
       "      <td>s|p</td>\n",
       "      <td>NaN</td>\n",
       "      <td>NaN</td>\n",
       "    </tr>\n",
       "    <tr>\n",
       "      <th>3</th>\n",
       "      <td>BV000025578</td>\n",
       "      <td>ger</td>\n",
       "      <td>Herzog, Werner</td>\n",
       "      <td>Fitzcarraldo</td>\n",
       "      <td>NaN</td>\n",
       "      <td>Werner Herzog</td>\n",
       "      <td>München u.a.</td>\n",
       "      <td>Hanser</td>\n",
       "      <td>1982</td>\n",
       "      <td>NaN</td>\n",
       "      <td>Fitzcarraldo|Herzog, Werner</td>\n",
       "      <td>u|p</td>\n",
       "      <td>NaN</td>\n",
       "      <td>NaN</td>\n",
       "    </tr>\n",
       "    <tr>\n",
       "      <th>4</th>\n",
       "      <td>BV000026429</td>\n",
       "      <td>ita</td>\n",
       "      <td>Rotili, Mario</td>\n",
       "      <td>Filippo Raguzzini nel terzo centenario della n...</td>\n",
       "      <td>NaN</td>\n",
       "      <td>NaN</td>\n",
       "      <td>Napoli</td>\n",
       "      <td>Soc. Ed. Napoletana</td>\n",
       "      <td>1982</td>\n",
       "      <td>Rauzzini, Filippo</td>\n",
       "      <td>Rauzzini, Filippo</td>\n",
       "      <td>p</td>\n",
       "      <td>BV000000758</td>\n",
       "      <td>Studi e testi di storia e critica dell'arte</td>\n",
       "    </tr>\n",
       "  </tbody>\n",
       "</table>\n",
       "</div>"
      ],
      "text/plain": [
       "            id lang            authors  \\\n",
       "0  BV000023649  ger                NaN   \n",
       "1  BV000024214  ger   Schlink, Wilhelm   \n",
       "2  BV000024767  ger  Burckhardt, Jacob   \n",
       "3  BV000025578  ger     Herzog, Werner   \n",
       "4  BV000026429  ita      Rotili, Mario   \n",
       "\n",
       "                                               title  subtitle  \\\n",
       "0  Deutsches Literaturarchiv, Schiller-Nationalmu...       NaN   \n",
       "1  Jacob Burckhardt und die Kunsterwartung im Vor...       NaN   \n",
       "2                    Über das Studium der Geschichte       NaN   \n",
       "3                                       Fitzcarraldo       NaN   \n",
       "4  Filippo Raguzzini nel terzo centenario della n...       NaN   \n",
       "\n",
       "                                           statement              place  \\\n",
       "0                   vorgestellt von den Mitarbeitern  Marbach a. Neckar   \n",
       "1                                    Wilhelm Schlink          Wiesbaden   \n",
       "2  Jacob Burckhardt. Nach den Handschriften herau...            München   \n",
       "3                                      Werner Herzog       München u.a.   \n",
       "4                                                NaN             Napoli   \n",
       "\n",
       "             publisher  year                        editors  \\\n",
       "0                  NaN  1982                            NaN   \n",
       "1              Steiner  1982                            NaN   \n",
       "2      Verlag C.H.Beck  1982  Ganz, Peter F.|Ziegler, Ernst   \n",
       "3               Hanser  1982                            NaN   \n",
       "4  Soc. Ed. Napoletana  1982              Rauzzini, Filippo   \n",
       "\n",
       "                                         subjects subject_types     parentId  \\\n",
       "0               Deutsches Literaturarchiv Marbach             b  BV040655651   \n",
       "1  Burckhardt, Jacob|Deutschland|Historienmalerei         p|g|s  BV000000154   \n",
       "2             Geschichtsstudium|Burckhardt, Jacob           s|p          NaN   \n",
       "3                     Fitzcarraldo|Herzog, Werner           u|p          NaN   \n",
       "4                               Rauzzini, Filippo             p  BV000000758   \n",
       "\n",
       "                                   parentTitle  \n",
       "0                          Marbacher Schriften  \n",
       "1             Frankfurter historische Vorträge  \n",
       "2                                          NaN  \n",
       "3                                          NaN  \n",
       "4  Studi e testi di storia e critica dell'arte  "
      ]
     },
     "execution_count": 3,
     "metadata": {},
     "output_type": "execute_result"
    }
   ],
   "source": [
    "df_full.head()"
   ]
  },
  {
   "cell_type": "code",
   "execution_count": 4,
   "id": "ea11be93",
   "metadata": {},
   "outputs": [],
   "source": [
    "df = df_full.sample(n=10000)"
   ]
  },
  {
   "attachments": {},
   "cell_type": "markdown",
   "id": "30780bde",
   "metadata": {},
   "source": [
    "# Data exploration and Cleaning"
   ]
  },
  {
   "attachments": {},
   "cell_type": "markdown",
   "id": "f55556cd",
   "metadata": {},
   "source": [
    "### Subject labels\n",
    "\n",
    "The subject labels and types are saved as a string using '|' as seperator"
   ]
  },
  {
   "cell_type": "code",
   "execution_count": 5,
   "id": "371adef9",
   "metadata": {},
   "outputs": [
    {
     "name": "stdout",
     "output_type": "stream",
     "text": [
      "Percentage of documents without subjects: 47.63% \n"
     ]
    }
   ],
   "source": [
    "# documents without subjects\n",
    "\n",
    "without_subject = df.subjects.isnull().sum() * 100 / len(df)\n",
    "print(\"Percentage of documents without subjects: {0:.2f}% \".format(without_subject))"
   ]
  },
  {
   "cell_type": "code",
   "execution_count": 6,
   "id": "87aa43d4",
   "metadata": {},
   "outputs": [
    {
     "data": {
      "text/plain": [
       "0"
      ]
     },
     "execution_count": 6,
     "metadata": {},
     "output_type": "execute_result"
    }
   ],
   "source": [
    "# drop documents without subject labels\n",
    "\n",
    "df.dropna(subset=['subjects'], inplace=True)\n",
    "df['subjects'].isna().sum()"
   ]
  },
  {
   "cell_type": "code",
   "execution_count": 7,
   "id": "c24d1c82",
   "metadata": {},
   "outputs": [],
   "source": [
    "# cleaning the subject types\n",
    "subject_list = df['subject_types'].str.split('|')\n",
    "\n",
    "# cleaning up the subject: getting rid of commas and spaces, replacing the | with spaces\n",
    "df['subject_list'] = df['subjects'].apply(lambda x: str(x).replace(',', '').replace(' ', '').replace('|', ' '))"
   ]
  },
  {
   "cell_type": "code",
   "execution_count": 8,
   "id": "01168380",
   "metadata": {},
   "outputs": [
    {
     "data": {
      "image/png": "[encoded data removed]",
      "text/plain": [
       "<Figure size 432x288 with 1 Axes>"
      ]
     },
     "metadata": {
      "needs_background": "light"
     },
     "output_type": "display_data"
    }
   ],
   "source": [
    "# how many subjects per document\n",
    "\n",
    "counts = df.subjects.apply(lambda x : len(str(x).split('|')))\n",
    "\n",
    "# plot a histogram of the counts\n",
    "plt.hist(counts, bins=range(1, max(counts) + 2))\n",
    "plt.xlabel('Number of subjects per document')\n",
    "plt.ylabel('Frequency')\n",
    "plt.title('Distribution of subject counts')\n",
    "plt.show()\n"
   ]
  },
  {
   "attachments": {},
   "cell_type": "markdown",
   "id": "429a6991",
   "metadata": {},
   "source": [
    "### ParentIds\n",
    "\n",
    "- Volumes with parentid: Volumes of works have a parent entry in the bvb catalogue, all the children point to it in the parentid field. If the documents are present in the BH, the children have a shelf number, the parent document doesn't. Often neither contain subjects (as they are e.g. encyclopedias)"
   ]
  },
  {
   "cell_type": "code",
   "execution_count": 9,
   "id": "8f9ffb35",
   "metadata": {},
   "outputs": [
    {
     "name": "stdout",
     "output_type": "stream",
     "text": [
      "Percentage of documents without subjects: nan% \n"
     ]
    },
    {
     "name": "stderr",
     "output_type": "stream",
     "text": [
      "C:\\Users\\hanna\\AppData\\Local\\Temp/ipykernel_17560/1611735594.py:5: RuntimeWarning: invalid value encountered in longlong_scalars\n",
      "  without_subject = parents.subjects.isnull().sum() * 100 / len(parents)\n"
     ]
    }
   ],
   "source": [
    "#parentids\n",
    "\n",
    "grouped = df.groupby('parentId').size()\n",
    "parents = df[df.id.isin(grouped.index)]\n",
    "without_subject = parents.subjects.isnull().sum() * 100 / len(parents)\n",
    "print(\"Percentage of documents without subjects: {0:.2f}% \".format(without_subject))"
   ]
  },
  {
   "cell_type": "code",
   "execution_count": 10,
   "id": "48a1a02d",
   "metadata": {},
   "outputs": [
    {
     "data": {
      "image/png": "[encoded data removed]",
      "text/plain": [
       "<Figure size 432x288 with 1 Axes>"
      ]
     },
     "metadata": {
      "needs_background": "light"
     },
     "output_type": "display_data"
    }
   ],
   "source": [
    "# plot a histogram of the size values on a log log plot to show the power law\n",
    "plt.hist(grouped, bins=range(1, max(grouped) + 2))\n",
    "plt.yscale('log')\n",
    "plt.xscale('log')\n",
    "plt.xlabel('Number of entries per parentId')\n",
    "plt.ylabel('Frequency')\n",
    "plt.title('Distribution of entries per parentId (log log)')\n",
    "plt.show()\n"
   ]
  },
  {
   "cell_type": "code",
   "execution_count": 11,
   "id": "8076456c",
   "metadata": {},
   "outputs": [
    {
     "name": "stdout",
     "output_type": "stream",
     "text": [
      "Percentage of documents without subjects: 0.00% \n"
     ]
    }
   ],
   "source": [
    "# Volumes children and subject labels\n",
    "\n",
    "volumes = df[~df.parentId.isna()]\n",
    "without_subject = volumes.subjects.isnull().sum() * 100 / len(volumes)\n",
    "print(\"Percentage of documents without subjects: {0:.2f}% \".format(without_subject))"
   ]
  },
  {
   "attachments": {},
   "cell_type": "markdown",
   "id": "597184fb",
   "metadata": {},
   "source": [
    "The volume with most entries is an auction catalogue: Christie, Manson & Woods"
   ]
  },
  {
   "cell_type": "code",
   "execution_count": 12,
   "id": "c2eba372",
   "metadata": {},
   "outputs": [
    {
     "data": {
      "text/html": [
       "<div>\n",
       "<style scoped>\n",
       "    .dataframe tbody tr th:only-of-type {\n",
       "        vertical-align: middle;\n",
       "    }\n",
       "\n",
       "    .dataframe tbody tr th {\n",
       "        vertical-align: top;\n",
       "    }\n",
       "\n",
       "    .dataframe thead th {\n",
       "        text-align: right;\n",
       "    }\n",
       "</style>\n",
       "<table border=\"1\" class=\"dataframe\">\n",
       "  <thead>\n",
       "    <tr style=\"text-align: right;\">\n",
       "      <th></th>\n",
       "      <th>id</th>\n",
       "      <th>lang</th>\n",
       "      <th>authors</th>\n",
       "      <th>title</th>\n",
       "      <th>subtitle</th>\n",
       "      <th>statement</th>\n",
       "      <th>place</th>\n",
       "      <th>publisher</th>\n",
       "      <th>year</th>\n",
       "      <th>editors</th>\n",
       "      <th>subjects</th>\n",
       "      <th>subject_types</th>\n",
       "      <th>parentId</th>\n",
       "      <th>parentTitle</th>\n",
       "      <th>subject_list</th>\n",
       "    </tr>\n",
       "  </thead>\n",
       "  <tbody>\n",
       "    <tr>\n",
       "      <th>1046114</th>\n",
       "      <td>BV047117233</td>\n",
       "      <td>eng</td>\n",
       "      <td>NaN</td>\n",
       "      <td>Prophecy and prophets in the Middle Ages</td>\n",
       "      <td>NaN</td>\n",
       "      <td>a cura di Alessandro Palazzo e Anna Rodolfi</td>\n",
       "      <td>Firenze</td>\n",
       "      <td>SISMEL - Edizioni del Galluzzo</td>\n",
       "      <td>2020</td>\n",
       "      <td>Palazzo, Alessandro|Rodolfi, Anna</td>\n",
       "      <td>Prophet</td>\n",
       "      <td>s</td>\n",
       "      <td>BV012182314</td>\n",
       "      <td>Micrologus library</td>\n",
       "      <td>Prophet</td>\n",
       "    </tr>\n",
       "    <tr>\n",
       "      <th>87070</th>\n",
       "      <td>BV022368084</td>\n",
       "      <td>ita</td>\n",
       "      <td>Faes De Mottoni, Barbara</td>\n",
       "      <td>Figure e motivi della contemplazione nelle teo...</td>\n",
       "      <td>NaN</td>\n",
       "      <td>Barbara Faes de Mottoni</td>\n",
       "      <td>Firenze</td>\n",
       "      <td>SISMEL, Edizioni del Galluzzo</td>\n",
       "      <td>2007</td>\n",
       "      <td>NaN</td>\n",
       "      <td>Kontemplation|Faes De Mottoni, Barbara</td>\n",
       "      <td>s|p</td>\n",
       "      <td>BV012182314</td>\n",
       "      <td>Micrologus' library</td>\n",
       "      <td>Kontemplation FaesDeMottoniBarbara</td>\n",
       "    </tr>\n",
       "    <tr>\n",
       "      <th>1171992</th>\n",
       "      <td>BV047946390</td>\n",
       "      <td>ita</td>\n",
       "      <td>NaN</td>\n",
       "      <td>L'éloquence du visage entre Orient et Occident</td>\n",
       "      <td>NaN</td>\n",
       "      <td>textes réunis par Oleg Voskoboynikov</td>\n",
       "      <td>Firenze</td>\n",
       "      <td>SISMEL - Edizioni del Galluzzo</td>\n",
       "      <td>2022</td>\n",
       "      <td>Voskobojnikov, Oleg S.</td>\n",
       "      <td>Gesicht</td>\n",
       "      <td>s</td>\n",
       "      <td>BV012182314</td>\n",
       "      <td>Micrologus' library</td>\n",
       "      <td>Gesicht</td>\n",
       "    </tr>\n",
       "    <tr>\n",
       "      <th>59275</th>\n",
       "      <td>BV014052486</td>\n",
       "      <td>fre</td>\n",
       "      <td>Paravicini Bagliani, Agostino</td>\n",
       "      <td>Le Speculum astronomiae, une énigme?</td>\n",
       "      <td>NaN</td>\n",
       "      <td>Agostino Paravicini Bagliani</td>\n",
       "      <td>Firenze</td>\n",
       "      <td>SISMEL, Ed. del Galluzzo</td>\n",
       "      <td>2001</td>\n",
       "      <td>NaN</td>\n",
       "      <td>Autorschaft|Speculum astronomiae|Albertus (Mag...</td>\n",
       "      <td>s|u|p</td>\n",
       "      <td>BV012182314</td>\n",
       "      <td>Micrologus' library</td>\n",
       "      <td>Autorschaft Speculumastronomiae Albertus(Magnu...</td>\n",
       "    </tr>\n",
       "  </tbody>\n",
       "</table>\n",
       "</div>"
      ],
      "text/plain": [
       "                  id lang                        authors  \\\n",
       "1046114  BV047117233  eng                            NaN   \n",
       "87070    BV022368084  ita       Faes De Mottoni, Barbara   \n",
       "1171992  BV047946390  ita                            NaN   \n",
       "59275    BV014052486  fre  Paravicini Bagliani, Agostino   \n",
       "\n",
       "                                                     title  subtitle  \\\n",
       "1046114           Prophecy and prophets in the Middle Ages       NaN   \n",
       "87070    Figure e motivi della contemplazione nelle teo...       NaN   \n",
       "1171992     L'éloquence du visage entre Orient et Occident       NaN   \n",
       "59275                 Le Speculum astronomiae, une énigme?       NaN   \n",
       "\n",
       "                                           statement    place  \\\n",
       "1046114  a cura di Alessandro Palazzo e Anna Rodolfi  Firenze   \n",
       "87070                        Barbara Faes de Mottoni  Firenze   \n",
       "1171992         textes réunis par Oleg Voskoboynikov  Firenze   \n",
       "59275                   Agostino Paravicini Bagliani  Firenze   \n",
       "\n",
       "                              publisher  year  \\\n",
       "1046114  SISMEL - Edizioni del Galluzzo  2020   \n",
       "87070     SISMEL, Edizioni del Galluzzo  2007   \n",
       "1171992  SISMEL - Edizioni del Galluzzo  2022   \n",
       "59275          SISMEL, Ed. del Galluzzo  2001   \n",
       "\n",
       "                                   editors  \\\n",
       "1046114  Palazzo, Alessandro|Rodolfi, Anna   \n",
       "87070                                  NaN   \n",
       "1171992             Voskobojnikov, Oleg S.   \n",
       "59275                                  NaN   \n",
       "\n",
       "                                                  subjects subject_types  \\\n",
       "1046114                                            Prophet             s   \n",
       "87070               Kontemplation|Faes De Mottoni, Barbara           s|p   \n",
       "1171992                                            Gesicht             s   \n",
       "59275    Autorschaft|Speculum astronomiae|Albertus (Mag...         s|u|p   \n",
       "\n",
       "            parentId          parentTitle  \\\n",
       "1046114  BV012182314   Micrologus library   \n",
       "87070    BV012182314  Micrologus' library   \n",
       "1171992  BV012182314  Micrologus' library   \n",
       "59275    BV012182314  Micrologus' library   \n",
       "\n",
       "                                              subject_list  \n",
       "1046114                                            Prophet  \n",
       "87070                   Kontemplation FaesDeMottoniBarbara  \n",
       "1171992                                            Gesicht  \n",
       "59275    Autorschaft Speculumastronomiae Albertus(Magnu...  "
      ]
     },
     "execution_count": 12,
     "metadata": {},
     "output_type": "execute_result"
    }
   ],
   "source": [
    "max_id = grouped.idxmax()\n",
    "df[df.parentId == max_id].head()"
   ]
  },
  {
   "attachments": {},
   "cell_type": "markdown",
   "id": "53666a9b",
   "metadata": {},
   "source": [
    "### Publication year\n",
    "The year column is very messy. I'm trying to extract only the year for each \n",
    "\n",
    "In order to extract only the year (which is hopefully present in all rows with a publication year entry), I'm trying a regex pattern match with 4 digits exactly"
   ]
  },
  {
   "cell_type": "code",
   "execution_count": 13,
   "id": "49875e9c",
   "metadata": {},
   "outputs": [
    {
     "data": {
      "text/plain": [
       "2"
      ]
     },
     "execution_count": 13,
     "metadata": {},
     "output_type": "execute_result"
    }
   ],
   "source": [
    "df.year.isna().sum()"
   ]
  },
  {
   "cell_type": "code",
   "execution_count": 14,
   "id": "f387601b",
   "metadata": {},
   "outputs": [],
   "source": [
    "df['year_clean'] = df.year.str.extract(r'(\\d{4})')\n",
    "df['year_clean'] = pd.to_numeric(df['year_clean'], errors='coerce')\n"
   ]
  },
  {
   "cell_type": "code",
   "execution_count": 15,
   "id": "26dd99ac",
   "metadata": {},
   "outputs": [],
   "source": [
    "# distribution of years\n",
    "\n",
    "grouped = df.groupby('year_clean').size()\n"
   ]
  },
  {
   "cell_type": "code",
   "execution_count": 16,
   "id": "e4436d17",
   "metadata": {},
   "outputs": [
    {
     "data": {
      "text/html": [
       "<div>\n",
       "<style scoped>\n",
       "    .dataframe tbody tr th:only-of-type {\n",
       "        vertical-align: middle;\n",
       "    }\n",
       "\n",
       "    .dataframe tbody tr th {\n",
       "        vertical-align: top;\n",
       "    }\n",
       "\n",
       "    .dataframe thead th {\n",
       "        text-align: right;\n",
       "    }\n",
       "</style>\n",
       "<table border=\"1\" class=\"dataframe\">\n",
       "  <thead>\n",
       "    <tr style=\"text-align: right;\">\n",
       "      <th></th>\n",
       "      <th>id</th>\n",
       "      <th>lang</th>\n",
       "      <th>authors</th>\n",
       "      <th>title</th>\n",
       "      <th>subtitle</th>\n",
       "      <th>statement</th>\n",
       "      <th>place</th>\n",
       "      <th>publisher</th>\n",
       "      <th>year</th>\n",
       "      <th>editors</th>\n",
       "      <th>subjects</th>\n",
       "      <th>subject_types</th>\n",
       "      <th>parentId</th>\n",
       "      <th>parentTitle</th>\n",
       "      <th>subject_list</th>\n",
       "      <th>year_clean</th>\n",
       "    </tr>\n",
       "  </thead>\n",
       "  <tbody>\n",
       "  </tbody>\n",
       "</table>\n",
       "</div>"
      ],
      "text/plain": [
       "Empty DataFrame\n",
       "Columns: [id, lang, authors, title, subtitle, statement, place, publisher, year, editors, subjects, subject_types, parentId, parentTitle, subject_list, year_clean]\n",
       "Index: []"
      ]
     },
     "execution_count": 16,
     "metadata": {},
     "output_type": "execute_result"
    }
   ],
   "source": [
    "funny_years = df[df.year_clean.apply(lambda x: float(x) > 2023)]\n",
    "funny_years"
   ]
  },
  {
   "cell_type": "code",
   "execution_count": 17,
   "id": "0c3b7bcc",
   "metadata": {},
   "outputs": [],
   "source": [
    "# drop rows that are obviously not valid years\n",
    "\n",
    "mask = (df['year_clean'] <= 2023) & (df['year_clean'] != 0)\n",
    "\n",
    "df= df.loc[mask]"
   ]
  },
  {
   "cell_type": "code",
   "execution_count": 18,
   "id": "fbf37e84",
   "metadata": {},
   "outputs": [
    {
     "data": {
      "image/png": "[encoded data removed]",
      "text/plain": [
       "<Figure size 3600x720 with 1 Axes>"
      ]
     },
     "metadata": {
      "needs_background": "light"
     },
     "output_type": "display_data"
    }
   ],
   "source": [
    "# distribution of years\n",
    "\n",
    "grouped = df.groupby('year_clean').size()\n",
    "\n",
    "fig = plt.figure(figsize=(50, 10))\n",
    "grouped.plot(kind='bar')\n",
    "plt.xlabel('Year')\n",
    "plt.ylabel('Number of occurences')\n",
    "plt.title('Year counts')\n",
    "plt.show()\n"
   ]
  },
  {
   "cell_type": "code",
   "execution_count": 19,
   "id": "f9935c6a",
   "metadata": {},
   "outputs": [
    {
     "data": {
      "text/plain": [
       "1475.0"
      ]
     },
     "execution_count": 19,
     "metadata": {},
     "output_type": "execute_result"
    }
   ],
   "source": [
    "min(grouped.index)"
   ]
  },
  {
   "attachments": {},
   "cell_type": "markdown",
   "id": "9aaf1d26",
   "metadata": {},
   "source": [
    "### Catalogue Info\n",
    "- Acquisition date: before 2012 approx. the date of acquisition is in the 'Inventarnummer' field. It contains the year and the how manyth document it is in a given year (linear time information). After 2012 the date of acquisition is in the acquisition date field\n"
   ]
  },
  {
   "cell_type": "code",
   "execution_count": 20,
   "id": "6334cfbf",
   "metadata": {},
   "outputs": [],
   "source": [
    "# drop documents that belong to a Volume of works (with parentid)\n",
    "\n",
    "#df[df.parentId.isna()]"
   ]
  },
  {
   "attachments": {},
   "cell_type": "markdown",
   "id": "1be8db2b",
   "metadata": {},
   "source": [
    "## Bag of words"
   ]
  },
  {
   "cell_type": "code",
   "execution_count": 21,
   "id": "450f585b",
   "metadata": {},
   "outputs": [],
   "source": [
    "vectorizer = CountVectorizer(min_df=5)\n",
    "subject_doc_matrix = vectorizer.fit_transform(df.subject_list)"
   ]
  },
  {
   "cell_type": "code",
   "execution_count": 22,
   "id": "58e98aac",
   "metadata": {},
   "outputs": [
    {
     "data": {
      "text/plain": [
       "<5220x264 sparse matrix of type '<class 'numpy.int64'>'\n",
       "\twith 4354 stored elements in Compressed Sparse Row format>"
      ]
     },
     "execution_count": 22,
     "metadata": {},
     "output_type": "execute_result"
    }
   ],
   "source": [
    "subject_doc_matrix"
   ]
  },
  {
   "cell_type": "code",
   "execution_count": 23,
   "id": "a9152861",
   "metadata": {},
   "outputs": [
    {
     "data": {
      "text/html": [
       "<div>\n",
       "<style scoped>\n",
       "    .dataframe tbody tr th:only-of-type {\n",
       "        vertical-align: middle;\n",
       "    }\n",
       "\n",
       "    .dataframe tbody tr th {\n",
       "        vertical-align: top;\n",
       "    }\n",
       "\n",
       "    .dataframe thead th {\n",
       "        text-align: right;\n",
       "    }\n",
       "</style>\n",
       "<table border=\"1\" class=\"dataframe\">\n",
       "  <thead>\n",
       "    <tr style=\"text-align: right;\">\n",
       "      <th></th>\n",
       "      <th>id</th>\n",
       "      <th>lang</th>\n",
       "      <th>authors</th>\n",
       "      <th>title</th>\n",
       "      <th>subtitle</th>\n",
       "      <th>statement</th>\n",
       "      <th>place</th>\n",
       "      <th>publisher</th>\n",
       "      <th>year</th>\n",
       "      <th>editors</th>\n",
       "      <th>subjects</th>\n",
       "      <th>subject_types</th>\n",
       "      <th>parentId</th>\n",
       "      <th>parentTitle</th>\n",
       "      <th>subject_list</th>\n",
       "      <th>year_clean</th>\n",
       "    </tr>\n",
       "  </thead>\n",
       "  <tbody>\n",
       "    <tr>\n",
       "      <th>137878</th>\n",
       "      <td>BV037650725</td>\n",
       "      <td>ger</td>\n",
       "      <td>NaN</td>\n",
       "      <td>Erdengötter</td>\n",
       "      <td>NaN</td>\n",
       "      <td>ein Katalog von Annette Reiter</td>\n",
       "      <td>Greiz</td>\n",
       "      <td>NaN</td>\n",
       "      <td>1998</td>\n",
       "      <td>Reiter, Annette</td>\n",
       "      <td>Hof</td>\n",
       "      <td>s</td>\n",
       "      <td>NaN</td>\n",
       "      <td>NaN</td>\n",
       "      <td>Hof</td>\n",
       "      <td>1998.0</td>\n",
       "    </tr>\n",
       "    <tr>\n",
       "      <th>1018212</th>\n",
       "      <td>BV046260599</td>\n",
       "      <td>ita</td>\n",
       "      <td>Sapori, Francesco</td>\n",
       "      <td>Da Roma al Circeo</td>\n",
       "      <td>NaN</td>\n",
       "      <td>Francesco Sapori</td>\n",
       "      <td>Firenze</td>\n",
       "      <td>Casa editrice NEMI del Dott. C. Cherubini</td>\n",
       "      <td>1932.</td>\n",
       "      <td>NaN</td>\n",
       "      <td>Rom</td>\n",
       "      <td>g</td>\n",
       "      <td>NaN</td>\n",
       "      <td>NaN</td>\n",
       "      <td>Rom</td>\n",
       "      <td>1932.0</td>\n",
       "    </tr>\n",
       "    <tr>\n",
       "      <th>291455</th>\n",
       "      <td>BV038013655</td>\n",
       "      <td>ger</td>\n",
       "      <td>Pietrus, Ellen</td>\n",
       "      <td>Die Veredelung des Menschen - Einrichtungen zu...</td>\n",
       "      <td>NaN</td>\n",
       "      <td>NaN</td>\n",
       "      <td>NaN</td>\n",
       "      <td>NaN</td>\n",
       "      <td>2006</td>\n",
       "      <td>NaN</td>\n",
       "      <td>Bad</td>\n",
       "      <td>s</td>\n",
       "      <td>NaN</td>\n",
       "      <td>NaN</td>\n",
       "      <td>Bad</td>\n",
       "      <td>2006.0</td>\n",
       "    </tr>\n",
       "    <tr>\n",
       "      <th>832424</th>\n",
       "      <td>BV038899103</td>\n",
       "      <td>eng</td>\n",
       "      <td>NaN</td>\n",
       "      <td>Clock &amp; watch designs</td>\n",
       "      <td>NaN</td>\n",
       "      <td>NaN</td>\n",
       "      <td>Lawrence/Kan.</td>\n",
       "      <td>NaN</td>\n",
       "      <td>1967</td>\n",
       "      <td>NaN</td>\n",
       "      <td>Uhr</td>\n",
       "      <td>s</td>\n",
       "      <td>BV018075741</td>\n",
       "      <td>Miscellaneous publications of the Museum of Art</td>\n",
       "      <td>Uhr</td>\n",
       "      <td>1967.0</td>\n",
       "    </tr>\n",
       "    <tr>\n",
       "      <th>713839</th>\n",
       "      <td>BV038624434</td>\n",
       "      <td>hrv</td>\n",
       "      <td>Žic-Rokov, Ivan</td>\n",
       "      <td>Romanička crkva Mqjke Božje od Zdravlja u Krku...</td>\n",
       "      <td>NaN</td>\n",
       "      <td>Ivan Žic-Rokov</td>\n",
       "      <td>NaN</td>\n",
       "      <td>NaN</td>\n",
       "      <td>[ca.1974]</td>\n",
       "      <td>NaN</td>\n",
       "      <td>Krk</td>\n",
       "      <td>g</td>\n",
       "      <td>NaN</td>\n",
       "      <td>NaN</td>\n",
       "      <td>Krk</td>\n",
       "      <td>1974.0</td>\n",
       "    </tr>\n",
       "    <tr>\n",
       "      <th>448116</th>\n",
       "      <td>BV038237138</td>\n",
       "      <td>ger</td>\n",
       "      <td>Ahrens, Dieter</td>\n",
       "      <td>Literaturgeschichte und Baugeschichte in ausge...</td>\n",
       "      <td>NaN</td>\n",
       "      <td>NaN</td>\n",
       "      <td>NaN</td>\n",
       "      <td>NaN</td>\n",
       "      <td>1986</td>\n",
       "      <td>NaN</td>\n",
       "      <td>Rom</td>\n",
       "      <td>g</td>\n",
       "      <td>NaN</td>\n",
       "      <td>NaN</td>\n",
       "      <td>Rom</td>\n",
       "      <td>1986.0</td>\n",
       "    </tr>\n",
       "  </tbody>\n",
       "</table>\n",
       "</div>"
      ],
      "text/plain": [
       "                  id lang            authors  \\\n",
       "137878   BV037650725  ger                NaN   \n",
       "1018212  BV046260599  ita  Sapori, Francesco   \n",
       "291455   BV038013655  ger     Pietrus, Ellen   \n",
       "832424   BV038899103  eng                NaN   \n",
       "713839   BV038624434  hrv    Žic-Rokov, Ivan   \n",
       "448116   BV038237138  ger     Ahrens, Dieter   \n",
       "\n",
       "                                                     title  subtitle  \\\n",
       "137878                                         Erdengötter       NaN   \n",
       "1018212                                  Da Roma al Circeo       NaN   \n",
       "291455   Die Veredelung des Menschen - Einrichtungen zu...       NaN   \n",
       "832424                               Clock & watch designs       NaN   \n",
       "713839   Romanička crkva Mqjke Božje od Zdravlja u Krku...       NaN   \n",
       "448116   Literaturgeschichte und Baugeschichte in ausge...       NaN   \n",
       "\n",
       "                              statement          place  \\\n",
       "137878   ein Katalog von Annette Reiter          Greiz   \n",
       "1018212                Francesco Sapori        Firenze   \n",
       "291455                              NaN            NaN   \n",
       "832424                              NaN  Lawrence/Kan.   \n",
       "713839                   Ivan Žic-Rokov            NaN   \n",
       "448116                              NaN            NaN   \n",
       "\n",
       "                                         publisher       year  \\\n",
       "137878                                         NaN       1998   \n",
       "1018212  Casa editrice NEMI del Dott. C. Cherubini      1932.   \n",
       "291455                                         NaN       2006   \n",
       "832424                                         NaN       1967   \n",
       "713839                                         NaN  [ca.1974]   \n",
       "448116                                         NaN       1986   \n",
       "\n",
       "                 editors subjects subject_types     parentId  \\\n",
       "137878   Reiter, Annette      Hof             s          NaN   \n",
       "1018212              NaN      Rom             g          NaN   \n",
       "291455               NaN      Bad             s          NaN   \n",
       "832424               NaN      Uhr             s  BV018075741   \n",
       "713839               NaN      Krk             g          NaN   \n",
       "448116               NaN      Rom             g          NaN   \n",
       "\n",
       "                                             parentTitle subject_list  \\\n",
       "137878                                               NaN          Hof   \n",
       "1018212                                              NaN          Rom   \n",
       "291455                                               NaN          Bad   \n",
       "832424   Miscellaneous publications of the Museum of Art          Uhr   \n",
       "713839                                               NaN          Krk   \n",
       "448116                                               NaN          Rom   \n",
       "\n",
       "         year_clean  \n",
       "137878       1998.0  \n",
       "1018212      1932.0  \n",
       "291455       2006.0  \n",
       "832424       1967.0  \n",
       "713839       1974.0  \n",
       "448116       1986.0  "
      ]
     },
     "execution_count": 23,
     "metadata": {},
     "output_type": "execute_result"
    }
   ],
   "source": [
    "df[df.subject_list.apply(lambda x: len(str(x)) < 4)]"
   ]
  },
  {
   "attachments": {},
   "cell_type": "markdown",
   "id": "f264a5b0",
   "metadata": {},
   "source": [
    "### UMAP"
   ]
  },
  {
   "cell_type": "code",
   "execution_count": 24,
   "id": "971eced3",
   "metadata": {},
   "outputs": [],
   "source": [
    "import matplotlib.pyplot as plt\n",
    "from umap.umap_ import UMAP\n",
    "import umap.plot\n",
    "from pointgrid import align_points_to_grid"
   ]
  },
  {
   "cell_type": "code",
   "execution_count": 25,
   "id": "00a1720d",
   "metadata": {},
   "outputs": [],
   "source": [
    "# reducer = UMAP(random_state=42, n_components = 2, metric='cosine')\n",
    "reducer = UMAP(random_state=42, n_components = 2, min_dist=0.01, n_neighbors=3, metric='cosine')\n",
    "\n",
    "# Using hellinger metric the points without neighbors are mapped to nan. \n",
    "\n",
    "map = reducer.fit(subject_doc_matrix)"
   ]
  },
  {
   "cell_type": "code",
   "execution_count": 26,
   "id": "7cf0c216",
   "metadata": {},
   "outputs": [
    {
     "name": "stderr",
     "output_type": "stream",
     "text": [
      "c:\\Users\\hanna\\anaconda3\\envs\\ada\\lib\\site-packages\\umap\\plot.py:448: UserWarning: *c* argument looks like a single numeric RGB or RGBA sequence, which should be avoided as value-mapping will have precedence in case its length matches with *x* & *y*.  Please use the *color* keyword-argument or provide a 2D array with a single row if you intend to specify the same RGB or RGBA value for all points.\n",
      "  ax.scatter(points[:, 0], points[:, 1], s=point_size, c=color)\n"
     ]
    },
    {
     "data": {
      "image/png": "[encoded data removed]",
      "text/plain": [
       "<Figure size 800x800 with 1 Axes>"
      ]
     },
     "metadata": {},
     "output_type": "display_data"
    }
   ],
   "source": [
    "f = umap.plot.points(map)"
   ]
  },
  {
   "cell_type": "code",
   "execution_count": 27,
   "id": "b9cf4338",
   "metadata": {},
   "outputs": [
    {
     "data": {
      "text/plain": [
       "array([[ 5.0691934, 12.517024 ],\n",
       "       [ 5.3301005,  3.4274824],\n",
       "       [ 0.2642569,  2.9096048],\n",
       "       ...,\n",
       "       [ 3.1559067, 12.287732 ],\n",
       "       [ 6.3191895, 12.924032 ],\n",
       "       [ 2.320761 ,  6.2167516]], dtype=float32)"
      ]
     },
     "execution_count": 27,
     "metadata": {},
     "output_type": "execute_result"
    }
   ],
   "source": [
    "map.embedding_"
   ]
  },
  {
   "cell_type": "code",
   "execution_count": 28,
   "id": "4baf80ff",
   "metadata": {},
   "outputs": [
    {
     "data": {
      "text/plain": [
       "array([[ 576,   72],\n",
       "       [-331,   96],\n",
       "       [-368, -421],\n",
       "       ...,\n",
       "       [ 552, -120],\n",
       "       [ 650,  168],\n",
       "       [-233, -216]])"
      ]
     },
     "execution_count": 28,
     "metadata": {},
     "output_type": "execute_result"
    }
   ],
   "source": [
    "# Normalize \n",
    "\n",
    "embedding = map.embedding_ * 100 # Multiply by 100\n",
    "embedding = align_points_to_grid(embedding)\n",
    "\n",
    "# Swap axes for horizontal position\n",
    "\n",
    "ptp = np.ptp(embedding, axis=0)\n",
    "if ptp[1]> ptp[0]:\n",
    "    embedding[:, [1, 0]] = embedding[:, [0, 1]]\n",
    "\n",
    "# Set value starting from 0\n",
    "\n",
    "embedding[:, 0] = embedding[:, 0] - embedding[:, 0].min()\n",
    "embedding[:, 1] = embedding[:, 1] - embedding[:, 1].min()\n",
    "\n",
    "# # Set origin at the middle\n",
    "\n",
    "ptp = np.ptp(embedding, axis=0)  \n",
    "embedding[:, 0] = embedding[:, 0] - ptp[0] / 2\n",
    "embedding[:, 1] = embedding[:, 1] - ptp[1] / 2\n",
    "\n",
    "embedding = embedding.astype(int) # Set integer\n",
    "\n",
    "embedding"
   ]
  },
  {
   "attachments": {},
   "cell_type": "markdown",
   "id": "cee3d90a",
   "metadata": {},
   "source": [
    "# Cluster Identification"
   ]
  },
  {
   "cell_type": "code",
   "execution_count": 29,
   "id": "55b41437",
   "metadata": {},
   "outputs": [],
   "source": [
    "import hdbscan\n",
    "\n",
    "clusterer = hdbscan.HDBSCAN(min_cluster_size=50, cluster_selection_method ='leaf')\n",
    "\n",
    "clusterer.fit(embedding)\n",
    "clusters = clusterer.labels_\n",
    "\n",
    "values = set(clusters)\n",
    "if -1 in values: values.remove(-1)\n",
    "\n",
    "#clusters = [[index for index, cluster in enumerate(clusters) if cluster==value] for value in values]\n",
    "\n",
    "# add cluster to dataframe\n",
    "\n",
    "df['cluster'] = clusters\n"
   ]
  },
  {
   "cell_type": "code",
   "execution_count": 30,
   "id": "edfff676",
   "metadata": {},
   "outputs": [
    {
     "data": {
      "text/plain": [
       "cluster\n",
       "-1    3988\n",
       " 0     241\n",
       " 1      50\n",
       " 2      80\n",
       " 3     121\n",
       " 4      50\n",
       " 5     185\n",
       " 6     109\n",
       " 7     160\n",
       " 8      75\n",
       " 9     161\n",
       "dtype: int64"
      ]
     },
     "execution_count": 30,
     "metadata": {},
     "output_type": "execute_result"
    }
   ],
   "source": [
    "df.groupby('cluster').size()"
   ]
  },
  {
   "attachments": {},
   "cell_type": "markdown",
   "id": "28d965ab",
   "metadata": {},
   "source": [
    "# Word Clouds\n"
   ]
  },
  {
   "cell_type": "code",
   "execution_count": 31,
   "id": "0545b1bb",
   "metadata": {},
   "outputs": [],
   "source": [
    "from wordcloud import WordCloud\n",
    "from PIL import Image, ImageDraw"
   ]
  },
  {
   "cell_type": "code",
   "execution_count": null,
   "id": "d897fcd4",
   "metadata": {},
   "outputs": [],
   "source": []
  },
  {
   "attachments": {},
   "cell_type": "markdown",
   "id": "fca77d51",
   "metadata": {},
   "source": [
    "## Export "
   ]
  },
  {
   "cell_type": "code",
   "execution_count": 35,
   "id": "4f17e858",
   "metadata": {},
   "outputs": [
    {
     "data": {
      "text/html": [
       "<div>\n",
       "<style scoped>\n",
       "    .dataframe tbody tr th:only-of-type {\n",
       "        vertical-align: middle;\n",
       "    }\n",
       "\n",
       "    .dataframe tbody tr th {\n",
       "        vertical-align: top;\n",
       "    }\n",
       "\n",
       "    .dataframe thead th {\n",
       "        text-align: right;\n",
       "    }\n",
       "</style>\n",
       "<table border=\"1\" class=\"dataframe\">\n",
       "  <thead>\n",
       "    <tr style=\"text-align: right;\">\n",
       "      <th></th>\n",
       "      <th>id</th>\n",
       "      <th>lang</th>\n",
       "      <th>authors</th>\n",
       "      <th>title</th>\n",
       "      <th>subtitle</th>\n",
       "      <th>statement</th>\n",
       "      <th>place</th>\n",
       "      <th>publisher</th>\n",
       "      <th>year</th>\n",
       "      <th>editors</th>\n",
       "      <th>subjects</th>\n",
       "      <th>subject_types</th>\n",
       "      <th>parentId</th>\n",
       "      <th>parentTitle</th>\n",
       "      <th>subject_list</th>\n",
       "      <th>year_clean</th>\n",
       "      <th>cluster</th>\n",
       "      <th>embedding_x</th>\n",
       "      <th>embedding_y</th>\n",
       "    </tr>\n",
       "  </thead>\n",
       "  <tbody>\n",
       "    <tr>\n",
       "      <th>732231</th>\n",
       "      <td>BV038653346</td>\n",
       "      <td>ger</td>\n",
       "      <td>Cinthio, Erik</td>\n",
       "      <td>Der thronende Christus mit Stola</td>\n",
       "      <td>NaN</td>\n",
       "      <td>Erik Cinthio</td>\n",
       "      <td>NaN</td>\n",
       "      <td>NaN</td>\n",
       "      <td>1962</td>\n",
       "      <td>NaN</td>\n",
       "      <td>Ikonographie|Jesus Christus</td>\n",
       "      <td>s|p</td>\n",
       "      <td>NaN</td>\n",
       "      <td>NaN</td>\n",
       "      <td>Ikonographie JesusChristus</td>\n",
       "      <td>1962.0</td>\n",
       "      <td>-1</td>\n",
       "      <td>576</td>\n",
       "      <td>72</td>\n",
       "    </tr>\n",
       "    <tr>\n",
       "      <th>544643</th>\n",
       "      <td>BV038356372</td>\n",
       "      <td>spa</td>\n",
       "      <td>García Cuesta, Timoteo</td>\n",
       "      <td>El primitivo santuario de Nuestra Señora, de l...</td>\n",
       "      <td>NaN</td>\n",
       "      <td>Timoteo García Cuesta</td>\n",
       "      <td>NaN</td>\n",
       "      <td>NaN</td>\n",
       "      <td>1967</td>\n",
       "      <td>NaN</td>\n",
       "      <td>Praves, Francisco de</td>\n",
       "      <td>p</td>\n",
       "      <td>NaN</td>\n",
       "      <td>NaN</td>\n",
       "      <td>PravesFranciscode</td>\n",
       "      <td>1967.0</td>\n",
       "      <td>-1</td>\n",
       "      <td>-331</td>\n",
       "      <td>96</td>\n",
       "    </tr>\n",
       "    <tr>\n",
       "      <th>1031883</th>\n",
       "      <td>BV046793000</td>\n",
       "      <td>ger</td>\n",
       "      <td>Schuster, Esther-Luisa</td>\n",
       "      <td>Im Haus der Weisheit</td>\n",
       "      <td>NaN</td>\n",
       "      <td>Esther-Luisa Schuster ; mit einem Beitrag von ...</td>\n",
       "      <td>Regensburg</td>\n",
       "      <td>Schnell &amp; Steiner</td>\n",
       "      <td>2020</td>\n",
       "      <td>Thalguter, Nadia</td>\n",
       "      <td>Dom Hildesheim|Westbau</td>\n",
       "      <td>g|s</td>\n",
       "      <td>BV044542238</td>\n",
       "      <td>Objekte und Eliten in Hildesheim 1130 bis 1250</td>\n",
       "      <td>DomHildesheim Westbau</td>\n",
       "      <td>2020.0</td>\n",
       "      <td>-1</td>\n",
       "      <td>-368</td>\n",
       "      <td>-421</td>\n",
       "    </tr>\n",
       "    <tr>\n",
       "      <th>237956</th>\n",
       "      <td>BV037930235</td>\n",
       "      <td>ita</td>\n",
       "      <td>Bertozzi, Elisabetta</td>\n",
       "      <td>I portici lignei a Bologna</td>\n",
       "      <td>NaN</td>\n",
       "      <td>NaN</td>\n",
       "      <td>NaN</td>\n",
       "      <td>NaN</td>\n",
       "      <td>1994</td>\n",
       "      <td>NaN</td>\n",
       "      <td>Bologna|Architektur</td>\n",
       "      <td>g|s</td>\n",
       "      <td>NaN</td>\n",
       "      <td>NaN</td>\n",
       "      <td>Bologna Architektur</td>\n",
       "      <td>1994.0</td>\n",
       "      <td>-1</td>\n",
       "      <td>-355</td>\n",
       "      <td>265</td>\n",
       "    </tr>\n",
       "    <tr>\n",
       "      <th>637807</th>\n",
       "      <td>BV038505926</td>\n",
       "      <td>ita</td>\n",
       "      <td>Agnello, Giuseppe</td>\n",
       "      <td>Recenti esplorazioni nelle catacombe Cassia e ...</td>\n",
       "      <td>NaN</td>\n",
       "      <td>Giuseppe Agnello</td>\n",
       "      <td>NaN</td>\n",
       "      <td>NaN</td>\n",
       "      <td>1971</td>\n",
       "      <td>NaN</td>\n",
       "      <td>Syrakus</td>\n",
       "      <td>g</td>\n",
       "      <td>NaN</td>\n",
       "      <td>NaN</td>\n",
       "      <td>Syrakus</td>\n",
       "      <td>1971.0</td>\n",
       "      <td>-1</td>\n",
       "      <td>809</td>\n",
       "      <td>132</td>\n",
       "    </tr>\n",
       "  </tbody>\n",
       "</table>\n",
       "</div>"
      ],
      "text/plain": [
       "                  id lang                 authors  \\\n",
       "732231   BV038653346  ger           Cinthio, Erik   \n",
       "544643   BV038356372  spa  García Cuesta, Timoteo   \n",
       "1031883  BV046793000  ger  Schuster, Esther-Luisa   \n",
       "237956   BV037930235  ita    Bertozzi, Elisabetta   \n",
       "637807   BV038505926  ita       Agnello, Giuseppe   \n",
       "\n",
       "                                                     title  subtitle  \\\n",
       "732231                    Der thronende Christus mit Stola       NaN   \n",
       "544643   El primitivo santuario de Nuestra Señora, de l...       NaN   \n",
       "1031883                               Im Haus der Weisheit       NaN   \n",
       "237956                          I portici lignei a Bologna       NaN   \n",
       "637807   Recenti esplorazioni nelle catacombe Cassia e ...       NaN   \n",
       "\n",
       "                                                 statement       place  \\\n",
       "732231                                        Erik Cinthio         NaN   \n",
       "544643                               Timoteo García Cuesta         NaN   \n",
       "1031883  Esther-Luisa Schuster ; mit einem Beitrag von ...  Regensburg   \n",
       "237956                                                 NaN         NaN   \n",
       "637807                                    Giuseppe Agnello         NaN   \n",
       "\n",
       "                 publisher  year           editors  \\\n",
       "732231                 NaN  1962               NaN   \n",
       "544643                 NaN  1967               NaN   \n",
       "1031883  Schnell & Steiner  2020  Thalguter, Nadia   \n",
       "237956                 NaN  1994               NaN   \n",
       "637807                 NaN  1971               NaN   \n",
       "\n",
       "                            subjects subject_types     parentId  \\\n",
       "732231   Ikonographie|Jesus Christus           s|p          NaN   \n",
       "544643          Praves, Francisco de             p          NaN   \n",
       "1031883       Dom Hildesheim|Westbau           g|s  BV044542238   \n",
       "237956           Bologna|Architektur           g|s          NaN   \n",
       "637807                       Syrakus             g          NaN   \n",
       "\n",
       "                                            parentTitle  \\\n",
       "732231                                              NaN   \n",
       "544643                                              NaN   \n",
       "1031883  Objekte und Eliten in Hildesheim 1130 bis 1250   \n",
       "237956                                              NaN   \n",
       "637807                                              NaN   \n",
       "\n",
       "                       subject_list  year_clean  cluster  embedding_x  \\\n",
       "732231   Ikonographie JesusChristus      1962.0       -1          576   \n",
       "544643            PravesFranciscode      1967.0       -1         -331   \n",
       "1031883       DomHildesheim Westbau      2020.0       -1         -368   \n",
       "237956          Bologna Architektur      1994.0       -1         -355   \n",
       "637807                      Syrakus      1971.0       -1          809   \n",
       "\n",
       "         embedding_y  \n",
       "732231            72  \n",
       "544643            96  \n",
       "1031883         -421  \n",
       "237956           265  \n",
       "637807           132  "
      ]
     },
     "execution_count": 35,
     "metadata": {},
     "output_type": "execute_result"
    }
   ],
   "source": [
    "# add coordinates to dataframe\n",
    "\n",
    "df['embedding_x']  = embedding[:,0]\n",
    "df['embedding_y']  = embedding[:,1]\n",
    "\n",
    "\n",
    "\n",
    "df.head()"
   ]
  },
  {
   "cell_type": "code",
   "execution_count": 39,
   "id": "629d149f",
   "metadata": {},
   "outputs": [],
   "source": [
    "columns_export =['id', 'lang', 'title', 'year', 'embedding_x', 'embedding_y', 'cluster']\n",
    "\n",
    "path_out = 'data/mapping_out_sample.csv'\n",
    "#path_out = 'data/mapping_out_all.csv'\n",
    "\n",
    "df[columns_export].to_csv(path_out)"
   ]
  },
  {
   "attachments": {},
   "cell_type": "markdown",
   "id": "3e176876",
   "metadata": {},
   "source": [
    "# Appendix"
   ]
  },
  {
   "attachments": {},
   "cell_type": "markdown",
   "id": "09e98084",
   "metadata": {},
   "source": [
    "## TF-IDF"
   ]
  },
  {
   "cell_type": "code",
   "execution_count": 25,
   "id": "b1b6b4a4",
   "metadata": {},
   "outputs": [],
   "source": [
    "tfidf = TfidfVectorizer(min_df=5)\n",
    "tfidf_subject_matrix = tfidf.fit_transform(df.subject_list)\n"
   ]
  },
  {
   "cell_type": "code",
   "execution_count": 26,
   "id": "fb3df00f",
   "metadata": {},
   "outputs": [
    {
     "data": {
      "text/plain": [
       "<7302x429 sparse matrix of type '<class 'numpy.float64'>'\n",
       "\twith 7762 stored elements in Compressed Sparse Row format>"
      ]
     },
     "execution_count": 26,
     "metadata": {},
     "output_type": "execute_result"
    }
   ],
   "source": [
    "tfidf_subject_matrix"
   ]
  },
  {
   "cell_type": "code",
   "execution_count": 27,
   "id": "ec1a0388",
   "metadata": {},
   "outputs": [
    {
     "name": "stderr",
     "output_type": "stream",
     "text": [
      "c:\\Users\\hanna\\anaconda3\\envs\\ada\\lib\\site-packages\\umap\\umap_.py:132: UserWarning: A large number of your vertices were disconnected from the manifold.\n",
      "Disconnection_distance = 1 has removed 25045 edges.\n",
      "It has fully disconnected 1145 vertices.\n",
      "You might consider using find_disconnected_points() to find and remove these points from your data.\n",
      "Use umap.utils.disconnected_vertices() to identify them.\n",
      "  warn(\n"
     ]
    }
   ],
   "source": [
    "tfidf_embedding = UMAP(random_state=42, n_components = 2, metric='hellinger').fit(tfidf_subject_matrix)\n"
   ]
  },
  {
   "cell_type": "code",
   "execution_count": 28,
   "id": "314ffccb",
   "metadata": {},
   "outputs": [
    {
     "name": "stderr",
     "output_type": "stream",
     "text": [
      "*c* argument looks like a single numeric RGB or RGBA sequence, which should be avoided as value-mapping will have precedence in case its length matches with *x* & *y*.  Please use the *color* keyword-argument or provide a 2D array with a single row if you intend to specify the same RGB or RGBA value for all points.\n"
     ]
    },
    {
     "data": {
      "image/png": "[encoded data removed]",
      "text/plain": [
       "<Figure size 800x800 with 1 Axes>"
      ]
     },
     "metadata": {},
     "output_type": "display_data"
    }
   ],
   "source": [
    "f = umap.plot.points(tfidf_embedding)"
   ]
  },
  {
   "cell_type": "markdown",
   "id": "6f64df1c",
   "metadata": {},
   "source": []
  },
  {
   "cell_type": "code",
   "execution_count": null,
   "id": "edb1315b",
   "metadata": {},
   "outputs": [],
   "source": []
  },
  {
   "cell_type": "code",
   "execution_count": null,
   "id": "2dded266",
   "metadata": {},
   "outputs": [],
   "source": []
  }
 ],
 "metadata": {
  "kernelspec": {
   "display_name": "Python 3 (ipykernel)",
   "language": "python",
   "name": "python3"
  },
  "language_info": {
   "codemirror_mode": {
    "name": "ipython",
    "version": 3
   },
   "file_extension": ".py",
   "mimetype": "text/x-python",
   "name": "python",
   "nbconvert_exporter": "python",
   "pygments_lexer": "ipython3",
   "version": "3.8.11"
  }
 },
 "nbformat": 4,
 "nbformat_minor": 5
}
