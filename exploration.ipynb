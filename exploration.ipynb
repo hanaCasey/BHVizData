{
 "cells": [
  {
   "cell_type": "code",
   "execution_count": 1,
   "id": "06d9c5ac",
   "metadata": {},
   "outputs": [],
   "source": [
    "import pandas as pd\n",
    "import json\n",
    "import re\n",
    "import csv\n",
    "import numpy as np\n",
    "import math\n",
    "import codecs\n",
    "from sklearn.feature_extraction.text import CountVectorizer, TfidfVectorizer"
   ]
  },
  {
   "attachments": {},
   "cell_type": "markdown",
   "id": "4f90ddb3",
   "metadata": {},
   "source": [
    "# Load Data"
   ]
  },
  {
   "cell_type": "code",
   "execution_count": 36,
   "id": "bdd50e73",
   "metadata": {},
   "outputs": [
    {
     "data": {
      "text/plain": [
       "10778"
      ]
     },
     "execution_count": 36,
     "metadata": {},
     "output_type": "execute_result"
    }
   ],
   "source": [
    "df = pd.read_csv('data/out_test.csv')\n",
    "len(df)"
   ]
  },
  {
   "attachments": {},
   "cell_type": "markdown",
   "id": "0e6dad49",
   "metadata": {},
   "source": [
    "## Clean Data"
   ]
  },
  {
   "attachments": {},
   "cell_type": "markdown",
   "id": "9aaf1d26",
   "metadata": {},
   "source": [
    "### Catalogue Info\n",
    "- Acquisition date: before 2012 approx. the date of acquisition is in the 'Inventarnummer' field. It contains the year and the how manyth document it is in a given year (linear time information). After 2012 the date of acquisition is in the acquisition date field\n",
    "- Volumes with parentid: Volumes of works have a parent entry in the bvb catalogue, all the children point to it in the parentid field. If the documents are present in the BH, the children have a shelf number, the parent document doesn't. Often neither contain subjects (as they are e.g. encyclopedias)\n"
   ]
  },
  {
   "cell_type": "code",
   "execution_count": 37,
   "id": "2a6bb75e",
   "metadata": {},
   "outputs": [
    {
     "data": {
      "text/plain": [
       "3476"
      ]
     },
     "execution_count": 37,
     "metadata": {},
     "output_type": "execute_result"
    }
   ],
   "source": [
    "# drop documents without subject labels\n",
    "\n",
    "df.dropna(subset=['subjects'], inplace=True)\n",
    "df['subjects'].isna().sum()"
   ]
  },
  {
   "cell_type": "code",
   "execution_count": 54,
   "id": "6334cfbf",
   "metadata": {},
   "outputs": [
    {
     "data": {
      "text/html": [
       "<div>\n",
       "<style scoped>\n",
       "    .dataframe tbody tr th:only-of-type {\n",
       "        vertical-align: middle;\n",
       "    }\n",
       "\n",
       "    .dataframe tbody tr th {\n",
       "        vertical-align: top;\n",
       "    }\n",
       "\n",
       "    .dataframe thead th {\n",
       "        text-align: right;\n",
       "    }\n",
       "</style>\n",
       "<table border=\"1\" class=\"dataframe\">\n",
       "  <thead>\n",
       "    <tr style=\"text-align: right;\">\n",
       "      <th></th>\n",
       "      <th>id</th>\n",
       "      <th>lang</th>\n",
       "      <th>authors</th>\n",
       "      <th>title</th>\n",
       "      <th>subtitle</th>\n",
       "      <th>statement</th>\n",
       "      <th>place</th>\n",
       "      <th>publisher</th>\n",
       "      <th>year</th>\n",
       "      <th>editors</th>\n",
       "      <th>subjects</th>\n",
       "      <th>subject_types</th>\n",
       "      <th>parentId</th>\n",
       "      <th>parentTitle</th>\n",
       "      <th>subject_labels</th>\n",
       "      <th>subject_list</th>\n",
       "      <th>embedding_x</th>\n",
       "      <th>embedding_y</th>\n",
       "      <th>cluster</th>\n",
       "    </tr>\n",
       "  </thead>\n",
       "  <tbody>\n",
       "    <tr>\n",
       "      <th>2</th>\n",
       "      <td>BV000024767</td>\n",
       "      <td>ger</td>\n",
       "      <td>Burckhardt, Jacob</td>\n",
       "      <td>Über das Studium der Geschichte</td>\n",
       "      <td>NaN</td>\n",
       "      <td>Jacob Burckhardt. Nach den Handschriften herau...</td>\n",
       "      <td>München</td>\n",
       "      <td>Verlag C.H.Beck</td>\n",
       "      <td>1982</td>\n",
       "      <td>Ganz, Peter F.|Ziegler, Ernst</td>\n",
       "      <td>Geschichtsstudium|Burckhardt, Jacob</td>\n",
       "      <td>s|p</td>\n",
       "      <td>NaN</td>\n",
       "      <td>NaN</td>\n",
       "      <td>[s, p]</td>\n",
       "      <td>Geschichtsstudium BurckhardtJacob</td>\n",
       "      <td>127</td>\n",
       "      <td>-298</td>\n",
       "      <td>-1</td>\n",
       "    </tr>\n",
       "    <tr>\n",
       "      <th>3</th>\n",
       "      <td>BV000025578</td>\n",
       "      <td>ger</td>\n",
       "      <td>Herzog, Werner</td>\n",
       "      <td>Fitzcarraldo</td>\n",
       "      <td>NaN</td>\n",
       "      <td>Werner Herzog</td>\n",
       "      <td>München u.a.</td>\n",
       "      <td>Hanser</td>\n",
       "      <td>1982</td>\n",
       "      <td>NaN</td>\n",
       "      <td>Fitzcarraldo|Herzog, Werner</td>\n",
       "      <td>u|p</td>\n",
       "      <td>NaN</td>\n",
       "      <td>NaN</td>\n",
       "      <td>[u, p]</td>\n",
       "      <td>Fitzcarraldo HerzogWerner</td>\n",
       "      <td>229</td>\n",
       "      <td>-71</td>\n",
       "      <td>-1</td>\n",
       "    </tr>\n",
       "    <tr>\n",
       "      <th>5</th>\n",
       "      <td>BV000026609</td>\n",
       "      <td>ger</td>\n",
       "      <td>Pfeiffer, Rudolf</td>\n",
       "      <td>Die klassische Philologie von Petrarca bis Mom...</td>\n",
       "      <td>NaN</td>\n",
       "      <td>Rudolf Pfeiffer</td>\n",
       "      <td>München</td>\n",
       "      <td>Verlag C.H.Beck</td>\n",
       "      <td>1982</td>\n",
       "      <td>NaN</td>\n",
       "      <td>Deutschland|Klassische Philologie|Petrarca, Fr...</td>\n",
       "      <td>g|s|p</td>\n",
       "      <td>NaN</td>\n",
       "      <td>A history of classical scholarship from 1300-1850</td>\n",
       "      <td>[g, s, p]</td>\n",
       "      <td>Deutschland KlassischePhilologie PetrarcaFranc...</td>\n",
       "      <td>-166</td>\n",
       "      <td>-460</td>\n",
       "      <td>-1</td>\n",
       "    </tr>\n",
       "    <tr>\n",
       "      <th>6</th>\n",
       "      <td>BV000026897</td>\n",
       "      <td>ger</td>\n",
       "      <td>Wimmer, Otto</td>\n",
       "      <td>Lexikon der Namen und Heiligen</td>\n",
       "      <td>NaN</td>\n",
       "      <td>Otto Wimmer ; Hartmann Melzer</td>\n",
       "      <td>Innsbruck [u.a.]</td>\n",
       "      <td>Tyrolia-Verl.</td>\n",
       "      <td>1982</td>\n",
       "      <td>Melzer, Hartmann</td>\n",
       "      <td>Personenname</td>\n",
       "      <td>s</td>\n",
       "      <td>NaN</td>\n",
       "      <td>NaN</td>\n",
       "      <td>[s]</td>\n",
       "      <td>Personenname</td>\n",
       "      <td>136</td>\n",
       "      <td>-192</td>\n",
       "      <td>-1</td>\n",
       "    </tr>\n",
       "    <tr>\n",
       "      <th>10</th>\n",
       "      <td>BV000028770</td>\n",
       "      <td>ger</td>\n",
       "      <td>Rohr, René R. J.</td>\n",
       "      <td>Die Sonnenuhr</td>\n",
       "      <td>NaN</td>\n",
       "      <td>René R. J. Rohr</td>\n",
       "      <td>München</td>\n",
       "      <td>Callwey</td>\n",
       "      <td>1982</td>\n",
       "      <td>NaN</td>\n",
       "      <td>Sonnenuhr</td>\n",
       "      <td>s</td>\n",
       "      <td>NaN</td>\n",
       "      <td>Les cadrans solaires</td>\n",
       "      <td>[s]</td>\n",
       "      <td>Sonnenuhr</td>\n",
       "      <td>251</td>\n",
       "      <td>-98</td>\n",
       "      <td>-1</td>\n",
       "    </tr>\n",
       "    <tr>\n",
       "      <th>...</th>\n",
       "      <td>...</td>\n",
       "      <td>...</td>\n",
       "      <td>...</td>\n",
       "      <td>...</td>\n",
       "      <td>...</td>\n",
       "      <td>...</td>\n",
       "      <td>...</td>\n",
       "      <td>...</td>\n",
       "      <td>...</td>\n",
       "      <td>...</td>\n",
       "      <td>...</td>\n",
       "      <td>...</td>\n",
       "      <td>...</td>\n",
       "      <td>...</td>\n",
       "      <td>...</td>\n",
       "      <td>...</td>\n",
       "      <td>...</td>\n",
       "      <td>...</td>\n",
       "      <td>...</td>\n",
       "    </tr>\n",
       "    <tr>\n",
       "      <th>10757</th>\n",
       "      <td>BV021783129</td>\n",
       "      <td>fre</td>\n",
       "      <td>NaN</td>\n",
       "      <td>Fragmenta</td>\n",
       "      <td>NaN</td>\n",
       "      <td>NaN</td>\n",
       "      <td>Turnhout</td>\n",
       "      <td>Brepols</td>\n",
       "      <td>2007-2014</td>\n",
       "      <td>NaN</td>\n",
       "      <td>Römisches Reich|Kultur</td>\n",
       "      <td>g|s</td>\n",
       "      <td>NaN</td>\n",
       "      <td>NaN</td>\n",
       "      <td>[g, s]</td>\n",
       "      <td>RömischesReich Kultur</td>\n",
       "      <td>438</td>\n",
       "      <td>68</td>\n",
       "      <td>41</td>\n",
       "    </tr>\n",
       "    <tr>\n",
       "      <th>10761</th>\n",
       "      <td>BV021784545</td>\n",
       "      <td>ita</td>\n",
       "      <td>Stefani, Ottorino</td>\n",
       "      <td>Luigi Serena</td>\n",
       "      <td>NaN</td>\n",
       "      <td>Ottorino Stefani</td>\n",
       "      <td>Ponzano (Treviso)</td>\n",
       "      <td>Vianello</td>\n",
       "      <td>2006</td>\n",
       "      <td>Serena, Luigi</td>\n",
       "      <td>Serena, Luigi</td>\n",
       "      <td>p</td>\n",
       "      <td>NaN</td>\n",
       "      <td>NaN</td>\n",
       "      <td>[p]</td>\n",
       "      <td>SerenaLuigi</td>\n",
       "      <td>136</td>\n",
       "      <td>-328</td>\n",
       "      <td>-1</td>\n",
       "    </tr>\n",
       "    <tr>\n",
       "      <th>10765</th>\n",
       "      <td>BV021784616</td>\n",
       "      <td>eng</td>\n",
       "      <td>Flood, John L.</td>\n",
       "      <td>Poets laureate in the Holy Roman Empire</td>\n",
       "      <td>NaN</td>\n",
       "      <td>John L. Flood</td>\n",
       "      <td>Berlin [u.a.]</td>\n",
       "      <td>&lt;&lt;de&gt;&gt; Gruyter</td>\n",
       "      <td>2006</td>\n",
       "      <td>NaN</td>\n",
       "      <td>Heiliges Römisches Reich|Biografie</td>\n",
       "      <td>g|s</td>\n",
       "      <td>NaN</td>\n",
       "      <td>NaN</td>\n",
       "      <td>[g, s]</td>\n",
       "      <td>HeiligesRömischesReich Biografie</td>\n",
       "      <td>229</td>\n",
       "      <td>-290</td>\n",
       "      <td>138</td>\n",
       "    </tr>\n",
       "    <tr>\n",
       "      <th>10769</th>\n",
       "      <td>BV021785042</td>\n",
       "      <td>ita</td>\n",
       "      <td>Cametti, Alberto</td>\n",
       "      <td>Cristina di Svezia, l'arte musicale e gli spet...</td>\n",
       "      <td>NaN</td>\n",
       "      <td>Alberto Cametti</td>\n",
       "      <td>Roma</td>\n",
       "      <td>Nuova Antologia</td>\n",
       "      <td>1911</td>\n",
       "      <td>NaN</td>\n",
       "      <td>Christine (Schweden, Königin)|Musik</td>\n",
       "      <td>p|s</td>\n",
       "      <td>NaN</td>\n",
       "      <td>NaN</td>\n",
       "      <td>[p, s]</td>\n",
       "      <td>Christine(SchwedenKönigin) Musik</td>\n",
       "      <td>417</td>\n",
       "      <td>-102</td>\n",
       "      <td>-1</td>\n",
       "    </tr>\n",
       "    <tr>\n",
       "      <th>10772</th>\n",
       "      <td>BV021785723</td>\n",
       "      <td>eng</td>\n",
       "      <td>Desmond, Marilynn</td>\n",
       "      <td>Ovid's art and the Wife of Bath</td>\n",
       "      <td>NaN</td>\n",
       "      <td>Marilynn Desmond</td>\n",
       "      <td>Ithaca, N.Y. [u.a.]</td>\n",
       "      <td>Cornell Univ. Press</td>\n",
       "      <td>2006</td>\n",
       "      <td>NaN</td>\n",
       "      <td>Chaucer, Geoffrey|Rezeption|Christine (de Pisan)</td>\n",
       "      <td>u|s|p</td>\n",
       "      <td>NaN</td>\n",
       "      <td>NaN</td>\n",
       "      <td>[u, s, p]</td>\n",
       "      <td>ChaucerGeoffrey Rezeption Christine(dePisan)</td>\n",
       "      <td>-570</td>\n",
       "      <td>64</td>\n",
       "      <td>0</td>\n",
       "    </tr>\n",
       "  </tbody>\n",
       "</table>\n",
       "<p>4401 rows × 19 columns</p>\n",
       "</div>"
      ],
      "text/plain": [
       "                id lang            authors  \\\n",
       "2      BV000024767  ger  Burckhardt, Jacob   \n",
       "3      BV000025578  ger     Herzog, Werner   \n",
       "5      BV000026609  ger   Pfeiffer, Rudolf   \n",
       "6      BV000026897  ger       Wimmer, Otto   \n",
       "10     BV000028770  ger   Rohr, René R. J.   \n",
       "...            ...  ...                ...   \n",
       "10757  BV021783129  fre                NaN   \n",
       "10761  BV021784545  ita  Stefani, Ottorino   \n",
       "10765  BV021784616  eng     Flood, John L.   \n",
       "10769  BV021785042  ita   Cametti, Alberto   \n",
       "10772  BV021785723  eng  Desmond, Marilynn   \n",
       "\n",
       "                                                   title  subtitle  \\\n",
       "2                        Über das Studium der Geschichte       NaN   \n",
       "3                                           Fitzcarraldo       NaN   \n",
       "5      Die klassische Philologie von Petrarca bis Mom...       NaN   \n",
       "6                         Lexikon der Namen und Heiligen       NaN   \n",
       "10                                         Die Sonnenuhr       NaN   \n",
       "...                                                  ...       ...   \n",
       "10757                                          Fragmenta       NaN   \n",
       "10761                                       Luigi Serena       NaN   \n",
       "10765            Poets laureate in the Holy Roman Empire       NaN   \n",
       "10769  Cristina di Svezia, l'arte musicale e gli spet...       NaN   \n",
       "10772                    Ovid's art and the Wife of Bath       NaN   \n",
       "\n",
       "                                               statement                place  \\\n",
       "2      Jacob Burckhardt. Nach den Handschriften herau...              München   \n",
       "3                                          Werner Herzog         München u.a.   \n",
       "5                                        Rudolf Pfeiffer              München   \n",
       "6                          Otto Wimmer ; Hartmann Melzer     Innsbruck [u.a.]   \n",
       "10                                       René R. J. Rohr              München   \n",
       "...                                                  ...                  ...   \n",
       "10757                                                NaN             Turnhout   \n",
       "10761                                   Ottorino Stefani    Ponzano (Treviso)   \n",
       "10765                                      John L. Flood        Berlin [u.a.]   \n",
       "10769                                    Alberto Cametti                 Roma   \n",
       "10772                                   Marilynn Desmond  Ithaca, N.Y. [u.a.]   \n",
       "\n",
       "                 publisher       year                        editors  \\\n",
       "2          Verlag C.H.Beck       1982  Ganz, Peter F.|Ziegler, Ernst   \n",
       "3                   Hanser       1982                            NaN   \n",
       "5          Verlag C.H.Beck       1982                            NaN   \n",
       "6            Tyrolia-Verl.       1982               Melzer, Hartmann   \n",
       "10                 Callwey       1982                            NaN   \n",
       "...                    ...        ...                            ...   \n",
       "10757              Brepols  2007-2014                            NaN   \n",
       "10761             Vianello       2006                  Serena, Luigi   \n",
       "10765       <<de>> Gruyter       2006                            NaN   \n",
       "10769      Nuova Antologia       1911                            NaN   \n",
       "10772  Cornell Univ. Press       2006                            NaN   \n",
       "\n",
       "                                                subjects subject_types  \\\n",
       "2                    Geschichtsstudium|Burckhardt, Jacob           s|p   \n",
       "3                            Fitzcarraldo|Herzog, Werner           u|p   \n",
       "5      Deutschland|Klassische Philologie|Petrarca, Fr...         g|s|p   \n",
       "6                                           Personenname             s   \n",
       "10                                             Sonnenuhr             s   \n",
       "...                                                  ...           ...   \n",
       "10757                             Römisches Reich|Kultur           g|s   \n",
       "10761                                      Serena, Luigi             p   \n",
       "10765                 Heiliges Römisches Reich|Biografie           g|s   \n",
       "10769                Christine (Schweden, Königin)|Musik           p|s   \n",
       "10772   Chaucer, Geoffrey|Rezeption|Christine (de Pisan)         u|s|p   \n",
       "\n",
       "      parentId                                        parentTitle  \\\n",
       "2          NaN                                                NaN   \n",
       "3          NaN                                                NaN   \n",
       "5          NaN  A history of classical scholarship from 1300-1850   \n",
       "6          NaN                                                NaN   \n",
       "10         NaN                               Les cadrans solaires   \n",
       "...        ...                                                ...   \n",
       "10757      NaN                                                NaN   \n",
       "10761      NaN                                                NaN   \n",
       "10765      NaN                                                NaN   \n",
       "10769      NaN                                                NaN   \n",
       "10772      NaN                                                NaN   \n",
       "\n",
       "      subject_labels                                       subject_list  \\\n",
       "2             [s, p]                  Geschichtsstudium BurckhardtJacob   \n",
       "3             [u, p]                          Fitzcarraldo HerzogWerner   \n",
       "5          [g, s, p]  Deutschland KlassischePhilologie PetrarcaFranc...   \n",
       "6                [s]                                       Personenname   \n",
       "10               [s]                                          Sonnenuhr   \n",
       "...              ...                                                ...   \n",
       "10757         [g, s]                              RömischesReich Kultur   \n",
       "10761            [p]                                        SerenaLuigi   \n",
       "10765         [g, s]                   HeiligesRömischesReich Biografie   \n",
       "10769         [p, s]                   Christine(SchwedenKönigin) Musik   \n",
       "10772      [u, s, p]       ChaucerGeoffrey Rezeption Christine(dePisan)   \n",
       "\n",
       "       embedding_x  embedding_y  cluster  \n",
       "2              127         -298       -1  \n",
       "3              229          -71       -1  \n",
       "5             -166         -460       -1  \n",
       "6              136         -192       -1  \n",
       "10             251          -98       -1  \n",
       "...            ...          ...      ...  \n",
       "10757          438           68       41  \n",
       "10761          136         -328       -1  \n",
       "10765          229         -290      138  \n",
       "10769          417         -102       -1  \n",
       "10772         -570           64        0  \n",
       "\n",
       "[4401 rows x 19 columns]"
      ]
     },
     "execution_count": 54,
     "metadata": {},
     "output_type": "execute_result"
    }
   ],
   "source": [
    "# drop documents that belong to a Volume of works (with parentid)\n",
    "\n",
    "df[df.parentId.isna()]\n",
    "\n"
   ]
  },
  {
   "attachments": {},
   "cell_type": "markdown",
   "id": "44a9489e",
   "metadata": {},
   "source": [
    "## Category labels"
   ]
  },
  {
   "cell_type": "code",
   "execution_count": 41,
   "id": "609a9c4a",
   "metadata": {},
   "outputs": [],
   "source": [
    "#based on the subject types\n",
    "df['subject_labels'] = df['subject_types'].str.split('|')"
   ]
  },
  {
   "cell_type": "code",
   "execution_count": 42,
   "id": "ac46b66e",
   "metadata": {},
   "outputs": [
    {
     "data": {
      "text/plain": [
       "0              [b]\n",
       "1        [p, g, s]\n",
       "2           [s, p]\n",
       "3           [u, p]\n",
       "4              [p]\n",
       "           ...    \n",
       "10768       [g, s]\n",
       "10769       [p, s]\n",
       "10770       [p, s]\n",
       "10772    [u, s, p]\n",
       "10773       [p, s]\n",
       "Name: subject_labels, Length: 7302, dtype: object"
      ]
     },
     "execution_count": 42,
     "metadata": {},
     "output_type": "execute_result"
    }
   ],
   "source": [
    "df['subject_labels']"
   ]
  },
  {
   "attachments": {},
   "cell_type": "markdown",
   "id": "957ccd61",
   "metadata": {},
   "source": [
    "## Tokenize"
   ]
  },
  {
   "cell_type": "code",
   "execution_count": 43,
   "id": "86d00e64",
   "metadata": {},
   "outputs": [],
   "source": [
    "# cleaning up the subject: getting rid of commas and spaces, replacing the | with spaces\n",
    "df['subject_list'] = df['subjects'].apply(lambda x: str(x).replace(',', '').replace(' ', '').replace('|', ' '))"
   ]
  },
  {
   "cell_type": "code",
   "execution_count": 44,
   "id": "e628c113",
   "metadata": {},
   "outputs": [
    {
     "data": {
      "text/plain": [
       "0                     DeutschesLiteraturarchivMarbach\n",
       "1        BurckhardtJacob Deutschland Historienmalerei\n",
       "2                   Geschichtsstudium BurckhardtJacob\n",
       "3                           Fitzcarraldo HerzogWerner\n",
       "4                                     RauzziniFilippo\n",
       "                             ...                     \n",
       "10768                             SanTorpè Kirchengut\n",
       "10769                Christine(SchwedenKönigin) Musik\n",
       "10770                                Hypsipyle Mythos\n",
       "10772    ChaucerGeoffrey Rezeption Christine(dePisan)\n",
       "10773            WinckelmannJohannJoachim Archäologie\n",
       "Name: subject_list, Length: 7302, dtype: object"
      ]
     },
     "execution_count": 44,
     "metadata": {},
     "output_type": "execute_result"
    }
   ],
   "source": [
    "df['subject_list']"
   ]
  },
  {
   "attachments": {},
   "cell_type": "markdown",
   "id": "1be8db2b",
   "metadata": {},
   "source": [
    "## Bag of words"
   ]
  },
  {
   "cell_type": "code",
   "execution_count": 11,
   "id": "450f585b",
   "metadata": {},
   "outputs": [],
   "source": [
    "vectorizer = CountVectorizer(min_df=5)\n",
    "subject_doc_matrix = vectorizer.fit_transform(df.subject_list)"
   ]
  },
  {
   "cell_type": "code",
   "execution_count": 12,
   "id": "58e98aac",
   "metadata": {},
   "outputs": [
    {
     "data": {
      "text/plain": [
       "<7302x429 sparse matrix of type '<class 'numpy.int64'>'\n",
       "\twith 7762 stored elements in Compressed Sparse Row format>"
      ]
     },
     "execution_count": 12,
     "metadata": {},
     "output_type": "execute_result"
    }
   ],
   "source": [
    "subject_doc_matrix"
   ]
  },
  {
   "attachments": {},
   "cell_type": "markdown",
   "id": "f264a5b0",
   "metadata": {},
   "source": [
    "### UMAP"
   ]
  },
  {
   "cell_type": "code",
   "execution_count": 13,
   "id": "971eced3",
   "metadata": {},
   "outputs": [],
   "source": [
    "import matplotlib.pyplot as plt\n",
    "from umap.umap_ import UMAP\n",
    "import umap.plot\n",
    "from pointgrid import align_points_to_grid"
   ]
  },
  {
   "cell_type": "code",
   "execution_count": 18,
   "id": "00a1720d",
   "metadata": {},
   "outputs": [],
   "source": [
    "reducer = UMAP(random_state=42, n_components = 2, metric='cosine')\n",
    "#reducer = UMAP(random_state=42, n_components = 2, metric='hellinger')\n",
    "\n",
    "# Using hellinger metric the points without neighbors are mapped to nan. \n",
    "\n",
    "map = reducer.fit(subject_doc_matrix)"
   ]
  },
  {
   "cell_type": "code",
   "execution_count": 19,
   "id": "7cf0c216",
   "metadata": {},
   "outputs": [
    {
     "name": "stderr",
     "output_type": "stream",
     "text": [
      "*c* argument looks like a single numeric RGB or RGBA sequence, which should be avoided as value-mapping will have precedence in case its length matches with *x* & *y*.  Please use the *color* keyword-argument or provide a 2D array with a single row if you intend to specify the same RGB or RGBA value for all points.\n"
     ]
    },
    {
     "data": {
      "image/png": "[encoded data removed]",
      "text/plain": [
       "<Figure size 800x800 with 1 Axes>"
      ]
     },
     "metadata": {},
     "output_type": "display_data"
    }
   ],
   "source": [
    "f = umap.plot.points(map)"
   ]
  },
  {
   "cell_type": "code",
   "execution_count": 20,
   "id": "b9cf4338",
   "metadata": {},
   "outputs": [
    {
     "data": {
      "text/plain": [
       "array([[ -9.323208 ,   6.843728 ],\n",
       "       [-12.601337 ,   1.5100389],\n",
       "       [-11.042988 ,   4.558782 ],\n",
       "       ...,\n",
       "       [ -7.7981596,   6.7821555],\n",
       "       [ -7.443159 ,  -2.4787188],\n",
       "       [ -4.118695 ,   2.9235313]], dtype=float32)"
      ]
     },
     "execution_count": 20,
     "metadata": {},
     "output_type": "execute_result"
    }
   ],
   "source": [
    "map.embedding_"
   ]
  },
  {
   "cell_type": "code",
   "execution_count": 21,
   "id": "4baf80ff",
   "metadata": {},
   "outputs": [
    {
     "data": {
      "text/plain": [
       "array([[ 357, -124],\n",
       "       [-204, -457],\n",
       "       [ 127, -298],\n",
       "       ...,\n",
       "       [ 353,   30],\n",
       "       [-570,   64],\n",
       "       [ -34,  381]])"
      ]
     },
     "execution_count": 21,
     "metadata": {},
     "output_type": "execute_result"
    }
   ],
   "source": [
    "# Normalize \n",
    "\n",
    "embedding = map.embedding_ * 100 # Multiply by 100\n",
    "embedding = align_points_to_grid(embedding)\n",
    "\n",
    "# Swap axes for horizontal position\n",
    "\n",
    "ptp = np.ptp(embedding, axis=0)\n",
    "if ptp[1]> ptp[0]:\n",
    "    embedding[:, [1, 0]] = embedding[:, [0, 1]]\n",
    "\n",
    "# Set value starting from 0\n",
    "\n",
    "embedding[:, 0] = embedding[:, 0] - embedding[:, 0].min()\n",
    "embedding[:, 1] = embedding[:, 1] - embedding[:, 1].min()\n",
    "\n",
    "# # Set origin at the middle\n",
    "\n",
    "ptp = np.ptp(embedding, axis=0)\n",
    "embedding[:, 0] = embedding[:, 0] - ptp[0] / 2\n",
    "embedding[:, 1] = embedding[:, 1] - ptp[1] / 2\n",
    "\n",
    "embedding = embedding.astype(int) # Set integer\n",
    "\n",
    "embedding"
   ]
  },
  {
   "attachments": {},
   "cell_type": "markdown",
   "id": "cee3d90a",
   "metadata": {},
   "source": [
    "# Cluster Identification"
   ]
  },
  {
   "cell_type": "code",
   "execution_count": 22,
   "id": "55b41437",
   "metadata": {},
   "outputs": [
    {
     "data": {
      "text/plain": [
       "7302"
      ]
     },
     "execution_count": 22,
     "metadata": {},
     "output_type": "execute_result"
    }
   ],
   "source": [
    "import hdbscan\n",
    "\n",
    "clusterer = hdbscan.HDBSCAN(min_cluster_size=10, cluster_selection_method ='leaf')\n",
    "\n",
    "clusterer.fit(embedding)\n",
    "clusters = clusterer.labels_\n",
    "\n",
    "values = set(clusters)\n",
    "if -1 in values: values.remove(-1)\n",
    "\n",
    "#clusters = [[index for index, cluster in enumerate(clusters) if cluster==value] for value in values]\n",
    "\n",
    "len(clusters)\n"
   ]
  },
  {
   "cell_type": "code",
   "execution_count": 23,
   "id": "ef50d7ce",
   "metadata": {},
   "outputs": [
    {
     "data": {
      "text/plain": [
       "array([181,  -1,  -1, ...,  -1,   0,  13], dtype=int64)"
      ]
     },
     "execution_count": 23,
     "metadata": {},
     "output_type": "execute_result"
    }
   ],
   "source": [
    "clusters"
   ]
  },
  {
   "attachments": {},
   "cell_type": "markdown",
   "id": "fca77d51",
   "metadata": {},
   "source": [
    "## Export "
   ]
  },
  {
   "cell_type": "code",
   "execution_count": 45,
   "id": "4f17e858",
   "metadata": {},
   "outputs": [],
   "source": [
    "# add coordinates to dataframe\n",
    "\n",
    "df['embedding_x']  = embedding[:,0]\n",
    "df['embedding_y']  = embedding[:,1]\n",
    "\n",
    "# add cluster to dataframe\n",
    "\n",
    "df['cluster'] = clusters"
   ]
  },
  {
   "cell_type": "code",
   "execution_count": 46,
   "id": "5d6c9305",
   "metadata": {},
   "outputs": [
    {
     "data": {
      "text/html": [
       "<div>\n",
       "<style scoped>\n",
       "    .dataframe tbody tr th:only-of-type {\n",
       "        vertical-align: middle;\n",
       "    }\n",
       "\n",
       "    .dataframe tbody tr th {\n",
       "        vertical-align: top;\n",
       "    }\n",
       "\n",
       "    .dataframe thead th {\n",
       "        text-align: right;\n",
       "    }\n",
       "</style>\n",
       "<table border=\"1\" class=\"dataframe\">\n",
       "  <thead>\n",
       "    <tr style=\"text-align: right;\">\n",
       "      <th></th>\n",
       "      <th>id</th>\n",
       "      <th>lang</th>\n",
       "      <th>authors</th>\n",
       "      <th>title</th>\n",
       "      <th>subtitle</th>\n",
       "      <th>statement</th>\n",
       "      <th>place</th>\n",
       "      <th>publisher</th>\n",
       "      <th>year</th>\n",
       "      <th>editors</th>\n",
       "      <th>subjects</th>\n",
       "      <th>subject_types</th>\n",
       "      <th>parentId</th>\n",
       "      <th>parentTitle</th>\n",
       "      <th>subject_labels</th>\n",
       "      <th>subject_list</th>\n",
       "      <th>embedding_x</th>\n",
       "      <th>embedding_y</th>\n",
       "      <th>cluster</th>\n",
       "    </tr>\n",
       "  </thead>\n",
       "  <tbody>\n",
       "    <tr>\n",
       "      <th>0</th>\n",
       "      <td>BV000023649</td>\n",
       "      <td>ger</td>\n",
       "      <td>NaN</td>\n",
       "      <td>Deutsches Literaturarchiv, Schiller-Nationalmu...</td>\n",
       "      <td>NaN</td>\n",
       "      <td>vorgestellt von den Mitarbeitern</td>\n",
       "      <td>Marbach a. Neckar</td>\n",
       "      <td>NaN</td>\n",
       "      <td>1982</td>\n",
       "      <td>NaN</td>\n",
       "      <td>Deutsches Literaturarchiv Marbach</td>\n",
       "      <td>b</td>\n",
       "      <td>BV040655651</td>\n",
       "      <td>Marbacher Schriften</td>\n",
       "      <td>[b]</td>\n",
       "      <td>DeutschesLiteraturarchivMarbach</td>\n",
       "      <td>357</td>\n",
       "      <td>-124</td>\n",
       "      <td>181</td>\n",
       "    </tr>\n",
       "    <tr>\n",
       "      <th>1</th>\n",
       "      <td>BV000024214</td>\n",
       "      <td>ger</td>\n",
       "      <td>Schlink, Wilhelm</td>\n",
       "      <td>Jacob Burckhardt und die Kunsterwartung im Vor...</td>\n",
       "      <td>NaN</td>\n",
       "      <td>Wilhelm Schlink</td>\n",
       "      <td>Wiesbaden</td>\n",
       "      <td>Steiner</td>\n",
       "      <td>1982</td>\n",
       "      <td>NaN</td>\n",
       "      <td>Burckhardt, Jacob|Deutschland|Historienmalerei</td>\n",
       "      <td>p|g|s</td>\n",
       "      <td>BV000000154</td>\n",
       "      <td>Frankfurter historische Vorträge</td>\n",
       "      <td>[p, g, s]</td>\n",
       "      <td>BurckhardtJacob Deutschland Historienmalerei</td>\n",
       "      <td>-204</td>\n",
       "      <td>-457</td>\n",
       "      <td>-1</td>\n",
       "    </tr>\n",
       "    <tr>\n",
       "      <th>2</th>\n",
       "      <td>BV000024767</td>\n",
       "      <td>ger</td>\n",
       "      <td>Burckhardt, Jacob</td>\n",
       "      <td>Über das Studium der Geschichte</td>\n",
       "      <td>NaN</td>\n",
       "      <td>Jacob Burckhardt. Nach den Handschriften herau...</td>\n",
       "      <td>München</td>\n",
       "      <td>Verlag C.H.Beck</td>\n",
       "      <td>1982</td>\n",
       "      <td>Ganz, Peter F.|Ziegler, Ernst</td>\n",
       "      <td>Geschichtsstudium|Burckhardt, Jacob</td>\n",
       "      <td>s|p</td>\n",
       "      <td>NaN</td>\n",
       "      <td>NaN</td>\n",
       "      <td>[s, p]</td>\n",
       "      <td>Geschichtsstudium BurckhardtJacob</td>\n",
       "      <td>127</td>\n",
       "      <td>-298</td>\n",
       "      <td>-1</td>\n",
       "    </tr>\n",
       "    <tr>\n",
       "      <th>3</th>\n",
       "      <td>BV000025578</td>\n",
       "      <td>ger</td>\n",
       "      <td>Herzog, Werner</td>\n",
       "      <td>Fitzcarraldo</td>\n",
       "      <td>NaN</td>\n",
       "      <td>Werner Herzog</td>\n",
       "      <td>München u.a.</td>\n",
       "      <td>Hanser</td>\n",
       "      <td>1982</td>\n",
       "      <td>NaN</td>\n",
       "      <td>Fitzcarraldo|Herzog, Werner</td>\n",
       "      <td>u|p</td>\n",
       "      <td>NaN</td>\n",
       "      <td>NaN</td>\n",
       "      <td>[u, p]</td>\n",
       "      <td>Fitzcarraldo HerzogWerner</td>\n",
       "      <td>229</td>\n",
       "      <td>-71</td>\n",
       "      <td>-1</td>\n",
       "    </tr>\n",
       "    <tr>\n",
       "      <th>4</th>\n",
       "      <td>BV000026429</td>\n",
       "      <td>ita</td>\n",
       "      <td>Rotili, Mario</td>\n",
       "      <td>Filippo Raguzzini nel terzo centenario della n...</td>\n",
       "      <td>NaN</td>\n",
       "      <td>NaN</td>\n",
       "      <td>Napoli</td>\n",
       "      <td>Soc. Ed. Napoletana</td>\n",
       "      <td>1982</td>\n",
       "      <td>Rauzzini, Filippo</td>\n",
       "      <td>Rauzzini, Filippo</td>\n",
       "      <td>p</td>\n",
       "      <td>BV000000758</td>\n",
       "      <td>Studi e testi di storia e critica dell'arte</td>\n",
       "      <td>[p]</td>\n",
       "      <td>RauzziniFilippo</td>\n",
       "      <td>259</td>\n",
       "      <td>-234</td>\n",
       "      <td>-1</td>\n",
       "    </tr>\n",
       "  </tbody>\n",
       "</table>\n",
       "</div>"
      ],
      "text/plain": [
       "            id lang            authors  \\\n",
       "0  BV000023649  ger                NaN   \n",
       "1  BV000024214  ger   Schlink, Wilhelm   \n",
       "2  BV000024767  ger  Burckhardt, Jacob   \n",
       "3  BV000025578  ger     Herzog, Werner   \n",
       "4  BV000026429  ita      Rotili, Mario   \n",
       "\n",
       "                                               title  subtitle  \\\n",
       "0  Deutsches Literaturarchiv, Schiller-Nationalmu...       NaN   \n",
       "1  Jacob Burckhardt und die Kunsterwartung im Vor...       NaN   \n",
       "2                    Über das Studium der Geschichte       NaN   \n",
       "3                                       Fitzcarraldo       NaN   \n",
       "4  Filippo Raguzzini nel terzo centenario della n...       NaN   \n",
       "\n",
       "                                           statement              place  \\\n",
       "0                   vorgestellt von den Mitarbeitern  Marbach a. Neckar   \n",
       "1                                    Wilhelm Schlink          Wiesbaden   \n",
       "2  Jacob Burckhardt. Nach den Handschriften herau...            München   \n",
       "3                                      Werner Herzog       München u.a.   \n",
       "4                                                NaN             Napoli   \n",
       "\n",
       "             publisher  year                        editors  \\\n",
       "0                  NaN  1982                            NaN   \n",
       "1              Steiner  1982                            NaN   \n",
       "2      Verlag C.H.Beck  1982  Ganz, Peter F.|Ziegler, Ernst   \n",
       "3               Hanser  1982                            NaN   \n",
       "4  Soc. Ed. Napoletana  1982              Rauzzini, Filippo   \n",
       "\n",
       "                                         subjects subject_types     parentId  \\\n",
       "0               Deutsches Literaturarchiv Marbach             b  BV040655651   \n",
       "1  Burckhardt, Jacob|Deutschland|Historienmalerei         p|g|s  BV000000154   \n",
       "2             Geschichtsstudium|Burckhardt, Jacob           s|p          NaN   \n",
       "3                     Fitzcarraldo|Herzog, Werner           u|p          NaN   \n",
       "4                               Rauzzini, Filippo             p  BV000000758   \n",
       "\n",
       "                                   parentTitle subject_labels  \\\n",
       "0                          Marbacher Schriften            [b]   \n",
       "1             Frankfurter historische Vorträge      [p, g, s]   \n",
       "2                                          NaN         [s, p]   \n",
       "3                                          NaN         [u, p]   \n",
       "4  Studi e testi di storia e critica dell'arte            [p]   \n",
       "\n",
       "                                   subject_list  embedding_x  embedding_y  \\\n",
       "0               DeutschesLiteraturarchivMarbach          357         -124   \n",
       "1  BurckhardtJacob Deutschland Historienmalerei         -204         -457   \n",
       "2             Geschichtsstudium BurckhardtJacob          127         -298   \n",
       "3                     Fitzcarraldo HerzogWerner          229          -71   \n",
       "4                               RauzziniFilippo          259         -234   \n",
       "\n",
       "   cluster  \n",
       "0      181  \n",
       "1       -1  \n",
       "2       -1  \n",
       "3       -1  \n",
       "4       -1  "
      ]
     },
     "execution_count": 46,
     "metadata": {},
     "output_type": "execute_result"
    }
   ],
   "source": [
    "df.head()"
   ]
  },
  {
   "attachments": {},
   "cell_type": "markdown",
   "id": "09e98084",
   "metadata": {},
   "source": [
    "## TF-IDF"
   ]
  },
  {
   "cell_type": "code",
   "execution_count": 25,
   "id": "b1b6b4a4",
   "metadata": {},
   "outputs": [],
   "source": [
    "tfidf = TfidfVectorizer(min_df=5)\n",
    "tfidf_subject_matrix = tfidf.fit_transform(df.subject_list)\n"
   ]
  },
  {
   "cell_type": "code",
   "execution_count": 26,
   "id": "fb3df00f",
   "metadata": {},
   "outputs": [
    {
     "data": {
      "text/plain": [
       "<7302x429 sparse matrix of type '<class 'numpy.float64'>'\n",
       "\twith 7762 stored elements in Compressed Sparse Row format>"
      ]
     },
     "execution_count": 26,
     "metadata": {},
     "output_type": "execute_result"
    }
   ],
   "source": [
    "tfidf_subject_matrix"
   ]
  },
  {
   "cell_type": "code",
   "execution_count": 27,
   "id": "ec1a0388",
   "metadata": {},
   "outputs": [
    {
     "name": "stderr",
     "output_type": "stream",
     "text": [
      "c:\\Users\\hanna\\anaconda3\\envs\\ada\\lib\\site-packages\\umap\\umap_.py:132: UserWarning: A large number of your vertices were disconnected from the manifold.\n",
      "Disconnection_distance = 1 has removed 25045 edges.\n",
      "It has fully disconnected 1145 vertices.\n",
      "You might consider using find_disconnected_points() to find and remove these points from your data.\n",
      "Use umap.utils.disconnected_vertices() to identify them.\n",
      "  warn(\n"
     ]
    }
   ],
   "source": [
    "tfidf_embedding = UMAP(random_state=42, n_components = 2, metric='hellinger').fit(tfidf_subject_matrix)\n"
   ]
  },
  {
   "cell_type": "code",
   "execution_count": 28,
   "id": "314ffccb",
   "metadata": {},
   "outputs": [
    {
     "name": "stderr",
     "output_type": "stream",
     "text": [
      "*c* argument looks like a single numeric RGB or RGBA sequence, which should be avoided as value-mapping will have precedence in case its length matches with *x* & *y*.  Please use the *color* keyword-argument or provide a 2D array with a single row if you intend to specify the same RGB or RGBA value for all points.\n"
     ]
    },
    {
     "data": {
      "image/png": "[encoded data removed]",
      "text/plain": [
       "<Figure size 800x800 with 1 Axes>"
      ]
     },
     "metadata": {},
     "output_type": "display_data"
    }
   ],
   "source": [
    "f = umap.plot.points(tfidf_embedding)"
   ]
  },
  {
   "cell_type": "markdown",
   "id": "6f64df1c",
   "metadata": {},
   "source": []
  },
  {
   "cell_type": "code",
   "execution_count": null,
   "id": "edb1315b",
   "metadata": {},
   "outputs": [],
   "source": []
  },
  {
   "cell_type": "code",
   "execution_count": null,
   "id": "2dded266",
   "metadata": {},
   "outputs": [],
   "source": []
  }
 ],
 "metadata": {
  "kernelspec": {
   "display_name": "Python 3 (ipykernel)",
   "language": "python",
   "name": "python3"
  },
  "language_info": {
   "codemirror_mode": {
    "name": "ipython",
    "version": 3
   },
   "file_extension": ".py",
   "mimetype": "text/x-python",
   "name": "python",
   "nbconvert_exporter": "python",
   "pygments_lexer": "ipython3",
   "version": "3.8.11"
  }
 },
 "nbformat": 4,
 "nbformat_minor": 5
}
