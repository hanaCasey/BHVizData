{
 "cells": [
  {
   "cell_type": "code",
   "execution_count": 2,
   "metadata": {},
   "outputs": [],
   "source": [
    "import pandas as pd\n",
    "import numpy as np\n",
    "import pymarc\n",
    "import re\n",
    "import csv\n"
   ]
  },
  {
   "cell_type": "code",
   "execution_count": 15,
   "metadata": {},
   "outputs": [],
   "source": [
    "path= 'data/hertz.mrc'\n",
    "out_file_path = 'data/csv_files/hertz.csv'\n",
    "\n",
    "COLUMNS = ['id', 'signature', 'inventory_nr']"
   ]
  },
  {
   "cell_type": "code",
   "execution_count": 26,
   "metadata": {},
   "outputs": [],
   "source": [
    "with open(path, 'rb') as fh:\n",
    "    reader = pymarc.MARCReader(fh, to_unicode=True, force_utf8=True, utf8_handling='ignore')\n",
    "\n",
    "    with open(out_file_path, 'w', encoding='utf8') as out:\n",
    "\n",
    "         #Dictwriter for better performance, write header\n",
    "\n",
    "            writer = csv.DictWriter(out, fieldnames=COLUMNS)\n",
    "            writer.writeheader()\n",
    "\n",
    "            rows = []\n",
    "\n",
    "            for record in reader:\n",
    "                \n",
    "                id = record['001']\n",
    "                signature = record ['LOD' ]['3'] if record ['LOD' ] != None else None\n",
    "                inventory_nr = record ['LOD' ]['6'] if record ['LOD' ] != None else None\n",
    "\n",
    "                rows += [{\n",
    "                    'id': id.value(), \n",
    "                    'signature': signature, \n",
    "                    'inventory_nr': inventory_nr\n",
    "                }]\n",
    "\n",
    "                #print(id.value())\n",
    "                #print(record)\n",
    "\n",
    "\n",
    "            writer.writerows(rows)\n",
    "\n",
    "\n",
    "            "
   ]
  }
 ],
 "metadata": {
  "kernelspec": {
   "display_name": "ada",
   "language": "python",
   "name": "python3"
  },
  "language_info": {
   "codemirror_mode": {
    "name": "ipython",
    "version": 3
   },
   "file_extension": ".py",
   "mimetype": "text/x-python",
   "name": "python",
   "nbconvert_exporter": "python",
   "pygments_lexer": "ipython3",
   "version": "3.8.11"
  },
  "orig_nbformat": 4
 },
 "nbformat": 4,
 "nbformat_minor": 2
}
