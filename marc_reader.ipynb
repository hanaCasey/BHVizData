{
 "cells": [
  {
   "cell_type": "code",
   "execution_count": 1,
   "metadata": {},
   "outputs": [],
   "source": [
    "import pandas as pd\n",
    "import numpy as np\n",
    "import pymarc\n",
    "import re\n"
   ]
  },
  {
   "cell_type": "code",
   "execution_count": 2,
   "metadata": {},
   "outputs": [],
   "source": [
    "path= 'data/hertz.mrc'"
   ]
  },
  {
   "cell_type": "code",
   "execution_count": 45,
   "metadata": {},
   "outputs": [
    {
     "name": "stdout",
     "output_type": "stream",
     "text": [
      "D2-Rym 36/128 2013.4392 None\n",
      "Kat.Mus. St 600/1978 None None\n",
      "H / 170 / 2001 / 1 2005/2905 None\n",
      "B4 / 110 / 1957 / 1 2015/569 None\n",
      "D-He 2157/4 None None\n",
      "D-Ro 2105/64 1887 None\n",
      "D-Ba 693/229 5482 None\n",
      "C-I / 1300 / 1998 / 1 2005/2805 None\n",
      "Kat.Ausst. Paris 1986 c 2019.4755 None\n",
      "CE 7/56 None None\n",
      "M1 / Rembra / 500 / 1989 / 2 2006/13 None\n",
      "BM 21/342 2006.2257 None\n",
      "T / Halle / 1991 / 2 2006/554 None\n",
      "CA 241/705(1-2 72/3322 None\n",
      "ET-Ze 820/310 2005.8177 None\n",
      "V / 2007 / 62 2010/2153 None\n",
      "D-Ti 9207/470 K 91/688 None\n",
      "In Vorb. 2005/2213 None\n",
      "M1 / Brunel / 400 / 1979 / 1 2006/916 None\n",
      "CF 6/170(1 89449 None\n",
      "D-Ru 19/270 2017.9140 None\n",
      "Kat.Ausst. London 1983 K 84/932 None\n",
      "Kat-A / Paris / 1987 / 1 2006/3640 None\n",
      "P / Nietzs / 500 / 2010 / 1 2010/3891 None\n",
      "Kat.Ausst. Landshut 1994/9 T 94/279 None\n",
      "Kat.Ausst. Potsdam 1995/7 K 95/4076 None\n",
      "D-Mi 53/742 2009.9814 None\n",
      "D-Vo 246/37 2006.504 None\n",
      "Kat.Ausst. Poughkeepsie 1970/4 None None\n",
      "ZC 126/212 None None\n",
      "D-Ra 212/71 2006.7950 None\n",
      "In Vorb. 2005/2211 None\n",
      "CGh 24/108 None None\n",
      "Q / Descam / 500 / 1840 / 1-1 2006/4009 None\n",
      "BA 9/832 2006.1940 None\n",
      "BH 1224/250 2007.1773 None\n",
      "Kat.Ausst. Dijon 1982/12 K 83/2582 None\n",
      "M1 / Uccell / 600 / 1995 / 1 2011/3233 None\n",
      "D2-Pic 89/1736 2007.345 None\n",
      "G / Muther / 600 / 1987 / 1 2007/3203 None\n",
      "V 2002/350 2007.966 None\n",
      "V 2000/340(3 2007.3487 None\n",
      "Kat-M / Roma / 16 / 1955 / 1 2007/5101 None\n",
      "T / Hambur / 1984 / 1 2011/3737 None\n",
      "D-Ca 1437/428 K 91/426 None\n",
      "D-De 187/86 87/4202 None\n",
      "V 2001/258 2005.1731 None\n",
      "D-Du 202/410(2 2003.368 None\n",
      "V-Fr 12/150 2002.3126 None\n",
      "Kat.Ausst. Regensburg 2003/1 2003.4822 None\n",
      "V 2001/256 2004.4677 None\n",
      "V 2001/212 2004.4608 None\n",
      "B3 / 360 / 2008 / 1 2010/1497 None\n",
      "SH 33/332 2008.1098 None\n",
      "ZE 62/602 2004.352 None\n",
      "D-Mi 584/240 1997.3202 None\n",
      "B1 / 150 / 2007 / 1 2007/3135 None\n",
      "V 2004/269 2007.6075 None\n",
      "M1 / Tieck / 400 / 1997 / 1 2009/3479 None\n",
      "A 2008/589 None\n",
      "V 2000/165 2003.286 None\n",
      "V 2001/494 2012.7073 None\n",
      "V 2004/263 2008.780 None\n",
      "V-Br 38/102 2007.5064 None\n",
      "ZC 18/360 K 83/1636 None\n",
      "Kat-M / Muench / 10 / 1953 / 1 2006/2020 None\n",
      "V 2000/340(2 2005.2426 None\n",
      "D-Ho 3050/490 2014.3285 None\n",
      "D-Da 1296/282 2014.3284 None\n",
      "G / Humbol / 300 / 1997 / 1 2008/594 None\n",
      "V / 2003 / 41 2008/1665 None\n",
      "D-Al 533/636 2009.5731 None\n",
      "D-Zu 34/149 2015.5184 None\n",
      "C-J / 1500 / 2007 / 1 2008/2358 None\n",
      "Kat-A / Venezi / 2008 / 1 2008/800 None\n",
      "D-Do 643/160 None None\n",
      "V 89/76 K 91/829 None\n",
      "D-Si 1407/152(1 2008.4388 None\n",
      "Kat-A / NewYor / 1982 / 1 2004/1457 None\n",
      "Kat.Ausst. Gloggnitz 1992 K 94/1718 None\n",
      "Kat.Ausst. Venezia 1981/9 K 82/1596 None\n",
      "BD 9/1024 G 82/182 None\n",
      "Kat-A / Muench / 1977 / 2 2001/3001 None\n",
      "Kat.Mus. Pa 983/1933 1062/72 None\n",
      "P / Jasper / 600 / 1955 / 1 2008/3153 None\n",
      "V 85/188 K 92/3923 None\n",
      "ET-Me 30/12 None None\n",
      "V 2000/364 2005.7759 None\n",
      "Kat.Ausst. Wolfenbüttel 1986/11 a G 87/279 None\n",
      "Kat.Mus. Be 866/1982 K 83/856 None\n",
      "Kat.Ausst. Frankfurt a. M. 1984/6 G 84/1446 None\n",
      "V / 1996 / 25 2009/903 None\n"
     ]
    },
    {
     "ename": "TypeError",
     "evalue": "'NoneType' object is not subscriptable",
     "output_type": "error",
     "traceback": [
      "\u001b[1;31m---------------------------------------------------------------------------\u001b[0m",
      "\u001b[1;31mTypeError\u001b[0m                                 Traceback (most recent call last)",
      "\u001b[1;32m~\\AppData\\Local\\Temp/ipykernel_13156/3995308540.py\u001b[0m in \u001b[0;36m<module>\u001b[1;34m\u001b[0m\n\u001b[0;32m      3\u001b[0m     \u001b[1;32mfor\u001b[0m \u001b[0mrecord\u001b[0m \u001b[1;32min\u001b[0m \u001b[0mreader\u001b[0m\u001b[1;33m:\u001b[0m\u001b[1;33m\u001b[0m\u001b[1;33m\u001b[0m\u001b[0m\n\u001b[0;32m      4\u001b[0m \u001b[1;33m\u001b[0m\u001b[0m\n\u001b[1;32m----> 5\u001b[1;33m         \u001b[0msignature\u001b[0m \u001b[1;33m=\u001b[0m \u001b[0mrecord\u001b[0m\u001b[1;33m[\u001b[0m\u001b[1;34m'LOD'\u001b[0m\u001b[1;33m]\u001b[0m\u001b[1;33m[\u001b[0m\u001b[1;34m'3'\u001b[0m\u001b[1;33m]\u001b[0m\u001b[1;33m\u001b[0m\u001b[1;33m\u001b[0m\u001b[0m\n\u001b[0m\u001b[0;32m      6\u001b[0m         \u001b[0macquisition_date\u001b[0m \u001b[1;33m=\u001b[0m \u001b[0mrecord\u001b[0m\u001b[1;33m[\u001b[0m\u001b[1;34m'LOD'\u001b[0m\u001b[1;33m]\u001b[0m\u001b[1;33m[\u001b[0m\u001b[1;34m'6'\u001b[0m\u001b[1;33m]\u001b[0m\u001b[1;33m\u001b[0m\u001b[1;33m\u001b[0m\u001b[0m\n\u001b[0;32m      7\u001b[0m         \u001b[0mt\u001b[0m \u001b[1;33m=\u001b[0m \u001b[0mrecord\u001b[0m\u001b[1;33m[\u001b[0m\u001b[1;34m'006'\u001b[0m\u001b[1;33m]\u001b[0m\u001b[1;33m\u001b[0m\u001b[1;33m\u001b[0m\u001b[0m\n",
      "\u001b[1;31mTypeError\u001b[0m: 'NoneType' object is not subscriptable"
     ]
    }
   ],
   "source": [
    "with open(path, 'rb') as fh:\n",
    "    reader = pymarc.MARCReader(fh, to_unicode=True, force_utf8=True, utf8_handling='ignore')\n",
    "    for record in reader:\n",
    "        \n",
    "        signature = record['LOD']['3']\n",
    "        acquisition_date = record['LOD']['6']\n",
    "        t = record['006']\n",
    "\n",
    "\n",
    "        print(signature, acquisition_date, t )\n",
    "\n",
    "            "
   ]
  },
  {
   "cell_type": "code",
   "execution_count": null,
   "metadata": {},
   "outputs": [],
   "source": []
  }
 ],
 "metadata": {
  "kernelspec": {
   "display_name": "ada",
   "language": "python",
   "name": "python3"
  },
  "language_info": {
   "codemirror_mode": {
    "name": "ipython",
    "version": 3
   },
   "file_extension": ".py",
   "mimetype": "text/x-python",
   "name": "python",
   "nbconvert_exporter": "python",
   "pygments_lexer": "ipython3",
   "version": "3.8.11"
  },
  "orig_nbformat": 4
 },
 "nbformat": 4,
 "nbformat_minor": 2
}
