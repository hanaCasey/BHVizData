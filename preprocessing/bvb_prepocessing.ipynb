{
 "cells": [
  {
   "cell_type": "code",
   "execution_count": 1,
   "metadata": {},
   "outputs": [],
   "source": [
    "import pandas as pd\n",
    "import glob\n",
    "import os\n",
    "import xml.etree.ElementTree as ET\n",
    "import re"
   ]
  },
  {
   "attachments": {},
   "cell_type": "markdown",
   "metadata": {},
   "source": [
    "# Load Data"
   ]
  },
  {
   "attachments": {},
   "cell_type": "markdown",
   "metadata": {},
   "source": [
    "The BVB export contains a lot of additional information that can be useful"
   ]
  },
  {
   "cell_type": "code",
   "execution_count": 5,
   "metadata": {},
   "outputs": [
    {
     "name": "stderr",
     "output_type": "stream",
     "text": [
      "/var/folders/fs/xb9k_3m95gq0wjgk1kgw1nxr0000gn/T/ipykernel_1821/1599349025.py:8: DtypeWarning: Columns (12,13) have mixed types. Specify dtype option on import or set low_memory=False.\n",
      "  frame = pd.read_csv(filename, header=0)\n"
     ]
    }
   ],
   "source": [
    "# Full bvb export\n",
    "path = '../data/hertziana_exp/b3kat_export/'\n",
    "files = glob.glob(os.path.join(path, '*.csv'))\n",
    "\n",
    "li = []\n",
    "\n",
    "for filename in files: \n",
    "    frame = pd.read_csv(filename, header=0)\n",
    "    li.append(frame)\n",
    "\n",
    "df_full = pd.concat(li, axis=0, ignore_index=True)\n",
    "\n",
    "# No need for all the columns\n",
    "\n",
    "df_full= df_full[['id', 'lang', 'authors', 'parentId']]\n",
    "\n",
    "# drop duplicated ids\n",
    "\n",
    "df_full = df_full.drop_duplicates(subset=['id'])"
   ]
  },
  {
   "cell_type": "code",
   "execution_count": 6,
   "metadata": {},
   "outputs": [
    {
     "data": {
      "text/html": [
       "<div>\n",
       "<style scoped>\n",
       "    .dataframe tbody tr th:only-of-type {\n",
       "        vertical-align: middle;\n",
       "    }\n",
       "\n",
       "    .dataframe tbody tr th {\n",
       "        vertical-align: top;\n",
       "    }\n",
       "\n",
       "    .dataframe thead th {\n",
       "        text-align: right;\n",
       "    }\n",
       "</style>\n",
       "<table border=\"1\" class=\"dataframe\">\n",
       "  <thead>\n",
       "    <tr style=\"text-align: right;\">\n",
       "      <th></th>\n",
       "      <th>id</th>\n",
       "      <th>lang</th>\n",
       "      <th>authors</th>\n",
       "      <th>parentId</th>\n",
       "    </tr>\n",
       "  </thead>\n",
       "  <tbody>\n",
       "    <tr>\n",
       "      <th>0</th>\n",
       "      <td>BV037157247</td>\n",
       "      <td>ger</td>\n",
       "      <td>NaN</td>\n",
       "      <td>NaN</td>\n",
       "    </tr>\n",
       "    <tr>\n",
       "      <th>1</th>\n",
       "      <td>BV037157467</td>\n",
       "      <td>ger</td>\n",
       "      <td>Seybold, Dietrich</td>\n",
       "      <td>BV035421022</td>\n",
       "    </tr>\n",
       "    <tr>\n",
       "      <th>2</th>\n",
       "      <td>BV037157474</td>\n",
       "      <td>swe</td>\n",
       "      <td>NaN</td>\n",
       "      <td>NaN</td>\n",
       "    </tr>\n",
       "    <tr>\n",
       "      <th>3</th>\n",
       "      <td>BV037157481</td>\n",
       "      <td>ger</td>\n",
       "      <td>NaN</td>\n",
       "      <td>BV040272353</td>\n",
       "    </tr>\n",
       "    <tr>\n",
       "      <th>4</th>\n",
       "      <td>BV037157488</td>\n",
       "      <td>ger</td>\n",
       "      <td>NaN</td>\n",
       "      <td>BV040272353</td>\n",
       "    </tr>\n",
       "    <tr>\n",
       "      <th>...</th>\n",
       "      <td>...</td>\n",
       "      <td>...</td>\n",
       "      <td>...</td>\n",
       "      <td>...</td>\n",
       "    </tr>\n",
       "    <tr>\n",
       "      <th>1185197</th>\n",
       "      <td>BV019670717</td>\n",
       "      <td>ger</td>\n",
       "      <td>NaN</td>\n",
       "      <td>BV019337850</td>\n",
       "    </tr>\n",
       "    <tr>\n",
       "      <th>1185198</th>\n",
       "      <td>BV019670843</td>\n",
       "      <td>ita</td>\n",
       "      <td>NaN</td>\n",
       "      <td>NaN</td>\n",
       "    </tr>\n",
       "    <tr>\n",
       "      <th>1185199</th>\n",
       "      <td>BV019670978</td>\n",
       "      <td>eng</td>\n",
       "      <td>Stremitzer, Alexander</td>\n",
       "      <td>BV019734490</td>\n",
       "    </tr>\n",
       "    <tr>\n",
       "      <th>1185200</th>\n",
       "      <td>BV019671499</td>\n",
       "      <td>ita</td>\n",
       "      <td>NaN</td>\n",
       "      <td>NaN</td>\n",
       "    </tr>\n",
       "    <tr>\n",
       "      <th>1185201</th>\n",
       "      <td>BV019671772</td>\n",
       "      <td>ger</td>\n",
       "      <td>NaN</td>\n",
       "      <td>NaN</td>\n",
       "    </tr>\n",
       "  </tbody>\n",
       "</table>\n",
       "<p>1180529 rows × 4 columns</p>\n",
       "</div>"
      ],
      "text/plain": [
       "                  id lang                authors     parentId\n",
       "0        BV037157247  ger                    NaN          NaN\n",
       "1        BV037157467  ger      Seybold, Dietrich  BV035421022\n",
       "2        BV037157474  swe                    NaN          NaN\n",
       "3        BV037157481  ger                    NaN  BV040272353\n",
       "4        BV037157488  ger                    NaN  BV040272353\n",
       "...              ...  ...                    ...          ...\n",
       "1185197  BV019670717  ger                    NaN  BV019337850\n",
       "1185198  BV019670843  ita                    NaN          NaN\n",
       "1185199  BV019670978  eng  Stremitzer, Alexander  BV019734490\n",
       "1185200  BV019671499  ita                    NaN          NaN\n",
       "1185201  BV019671772  ger                    NaN          NaN\n",
       "\n",
       "[1180529 rows x 4 columns]"
      ]
     },
     "execution_count": 6,
     "metadata": {},
     "output_type": "execute_result"
    }
   ],
   "source": [
    "df_full"
   ]
  },
  {
   "attachments": {},
   "cell_type": "markdown",
   "metadata": {},
   "source": [
    "df_sig contains the list of signatures and corresponding textual columns decoding the meaning of each signature"
   ]
  },
  {
   "cell_type": "code",
   "execution_count": 3,
   "metadata": {},
   "outputs": [
    {
     "name": "stderr",
     "output_type": "stream",
     "text": [
      "/var/folders/fs/xb9k_3m95gq0wjgk1kgw1nxr0000gn/T/ipykernel_11186/311150534.py:2: DtypeWarning: Columns (2,4,8) have mixed types. Specify dtype option on import or set low_memory=False.\n",
      "  df_sig = pd.read_csv('data/csv/sig_updated.csv')\n"
     ]
    }
   ],
   "source": [
    "# signatures\n",
    "df_sig = pd.read_csv('data/csv/sig_lookup.csv')\n",
    "\n",
    "df_sig = df_sig[['sys', 'text', 'text_3', 'text_2', 'text_1']]"
   ]
  },
  {
   "attachments": {},
   "cell_type": "markdown",
   "metadata": {},
   "source": [
    "df_freihand contains the list of documents physically present in the Bibliotheca Hertziana"
   ]
  },
  {
   "cell_type": "code",
   "execution_count": 4,
   "metadata": {},
   "outputs": [],
   "source": [
    "df_freihand = pd.read_csv('data/Freihand.csv', sep=';', header=0, \n",
    "                          names = ['bvb', 'title', 'year', 'signature', 'collection', 'inventory_nr', 'inventory_date'])"
   ]
  },
  {
   "cell_type": "code",
   "execution_count": 5,
   "metadata": {},
   "outputs": [
    {
     "name": "stdout",
     "output_type": "stream",
     "text": [
      "Index(['bvb', 'title', 'year', 'signature', 'collection', 'inventory_nr',\n",
      "       'inventory_date'],\n",
      "      dtype='object')\n",
      "Index(['id', 'lang', 'authors', 'parentId'], dtype='object')\n",
      "Index(['sys', 'text', 'text_3', 'text_2', 'text_1'], dtype='object')\n"
     ]
    }
   ],
   "source": [
    "print(df_freihand.columns)\n",
    "print(df_full.columns)\n",
    "print(df_sig.columns)"
   ]
  },
  {
   "cell_type": "code",
   "execution_count": 6,
   "metadata": {},
   "outputs": [],
   "source": [
    "df_sig = df_sig.fillna('')\n",
    "df_freihand = df_freihand.fillna('')\n",
    "df_full = df_full.fillna('')"
   ]
  },
  {
   "attachments": {},
   "cell_type": "markdown",
   "metadata": {},
   "source": [
    "### Merging Signatures and Books"
   ]
  },
  {
   "attachments": {},
   "cell_type": "markdown",
   "metadata": {},
   "source": [
    "In this part,the signature of each document in the library is matched with the decoded signatures. To get the labels for the documents, the signature has to be 'decoded', which has been done in the 'signatures_processing.ipynb'. This way, for each document, 3-4 textual columns describing the subject matter of the document can be extracted and later on be used for dimensionality reduction. "
   ]
  },
  {
   "cell_type": "code",
   "execution_count": 7,
   "metadata": {},
   "outputs": [
    {
     "name": "stdout",
     "output_type": "stream",
     "text": [
      "Books in Freihand matched with signature: 74.4 %\n"
     ]
    },
    {
     "name": "stderr",
     "output_type": "stream",
     "text": [
      "/var/folders/fs/xb9k_3m95gq0wjgk1kgw1nxr0000gn/T/ipykernel_11186/406649617.py:33: SettingWithCopyWarning: \n",
      "A value is trying to be set on a copy of a slice from a DataFrame\n",
      "\n",
      "See the caveats in the documentation: https://pandas.pydata.org/pandas-docs/stable/user_guide/indexing.html#returning-a-view-versus-a-copy\n",
      "  both.drop('_merge' , axis=1, inplace=True)\n"
     ]
    }
   ],
   "source": [
    "# Extracting the known signature types\n",
    "\n",
    "# these patterns are the ones that can be decoded so far\n",
    "patterns = [\n",
    "    #Generic patter e.g. Mk 1000\n",
    "    r'^([a-zA-Z]{1,2}) (\\d+)',\n",
    "    # Artists and other People, e.g. Ca-BER 1920\n",
    "    r'^[CWZ][amopsu]-[A-Z]{3}\\s\\d{1,4}',\n",
    "    # Topography, e.g. E-BOL 60\n",
    "    r'^[EXY][a-z]?-[A-Z]{3}\\s\\d{1,4}'\n",
    "]\n",
    "\n",
    "# Extracting the known patterns from the signatures, otherwise None\n",
    "\n",
    "def clean_signature(signature):\n",
    "    match = None\n",
    "    for pattern in patterns:\n",
    "        match = re.search(pattern, signature)\n",
    "        if match:\n",
    "            break\n",
    "    \n",
    "    return match.group() if match else None\n",
    "\n",
    "df_freihand['signature_clean'] = df_freihand['signature'].apply(clean_signature)\n",
    "\n",
    "# Merging the library content and the decoded signatures on the signatures\n",
    "\n",
    "merged = pd.merge(df_freihand, df_sig, left_on='signature_clean', right_on='sys', how= 'outer', indicator=True)\n",
    "\n",
    "# both contains the intersection of the two, meaning documents with signatures that can be decoded\n",
    "\n",
    "both = merged.loc[merged['_merge'] == 'both']\n",
    "both.drop('_merge' , axis=1, inplace=True)\n",
    "\n",
    "# percentage of documents with recognized signatures\n",
    "\n",
    "rec_sigs = len(both) / len(df_freihand) * 100\n",
    "print(f'Books in Freihand matched with signature: {rec_sigs:.1f} %')\n",
    "\n",
    "# signatures that can't be decoded are marked with left_only\n",
    "\n",
    "left_only = merged.loc[merged['_merge'] == 'left_only']\n",
    "\n",
    "# Keeping this to check which ones are still missing\n",
    "\n",
    "left_only.groupby(left_only.signature[:6]).size().to_csv('data/left_only.csv')\n"
   ]
  },
  {
   "cell_type": "code",
   "execution_count": 8,
   "metadata": {},
   "outputs": [],
   "source": [
    "# Merging on the BVB export to get more metadata\n",
    "\n",
    "merged = pd.merge(both, df_full, left_on='bvb', right_on='id', how= 'left')"
   ]
  },
  {
   "cell_type": "code",
   "execution_count": 9,
   "metadata": {},
   "outputs": [],
   "source": [
    "#Joining each string in the text columns with '_' to treat them as tokens later on\n",
    "text_cols = ['text', 'text_1', 'text_2', 'text_3']\n",
    "for col in text_cols: \n",
    "    merged[col] = merged[col].str.replace(' ', '_')"
   ]
  },
  {
   "attachments": {},
   "cell_type": "markdown",
   "metadata": {},
   "source": [
    "# Acquisition date"
   ]
  },
  {
   "cell_type": "code",
   "execution_count": 11,
   "metadata": {},
   "outputs": [],
   "source": [
    "# Regular expression pattern to match the year (four digits, starting with 19 or 20 etc.)\n",
    "year_pattern = r\"\\b(19[0-9]{2}|20[0-2][0-9])\\b\"\n",
    "\n",
    "merged['inventory_year'] = merged['inventory_nr'].apply(lambda x: re.search(year_pattern, str(x)).group(0) if re.search(year_pattern, str(x)) else None)"
   ]
  },
  {
   "attachments": {},
   "cell_type": "markdown",
   "metadata": {},
   "source": [
    "# Signature levels\n"
   ]
  },
  {
   "cell_type": "code",
   "execution_count": 12,
   "metadata": {},
   "outputs": [],
   "source": [
    "#Extracting the first and second letter of each signature to later use in the dimensionality reduction step\n",
    "\n",
    "merged['sig_lev_1'] = merged.signature_clean.str[0]\n",
    "merged['sig_lev_2'] = merged.signature_clean.str[:2]"
   ]
  },
  {
   "cell_type": "code",
   "execution_count": 13,
   "metadata": {},
   "outputs": [],
   "source": [
    "# Export\n",
    "\n",
    "export_columns = ['bvb', 'title', 'signature', 'inventory_nr','inventory_date', 'inventory_year', 'lang', 'year', 'sys', 'text', 'text_1', 'text_2', 'text_3', 'sig_lev_1', 'sig_lev_2']\n",
    "\n",
    "merged[export_columns].to_csv('data/csv/freihand_signatures.csv', index=False)"
   ]
  }
 ],
 "metadata": {
  "kernelspec": {
   "display_name": "ada",
   "language": "python",
   "name": "python3"
  },
  "language_info": {
   "codemirror_mode": {
    "name": "ipython",
    "version": 3
   },
   "file_extension": ".py",
   "mimetype": "text/x-python",
   "name": "python",
   "nbconvert_exporter": "python",
   "pygments_lexer": "ipython3",
   "version": "3.10.11"
  },
  "orig_nbformat": 4
 },
 "nbformat": 4,
 "nbformat_minor": 2
}
