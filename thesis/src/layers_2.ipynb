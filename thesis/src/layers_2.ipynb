{
 "cells": [
  {
   "cell_type": "code",
   "execution_count": 18,
   "metadata": {},
   "outputs": [],
   "source": [
    "import os\n",
    "import random\n",
    "import spacy\n",
    "import ast\n",
    "import glob\n",
    "import spacy\n",
    "import openai\n",
    "import pandas as pd\n",
    "import numpy as np\n",
    "import seaborn as sns\n",
    "import matplotlib.pyplot as plt\n",
    "import matplotlib.colors as mcolors\n",
    "import networkx as nx\n",
    "import hdbscan\n",
    "import module\n",
    "\n",
    "\n",
    "from collections import defaultdict\n",
    "from umap.umap_ import UMAP\n",
    "from itertools import combinations\n",
    "from matplotlib.colors import ListedColormap\n",
    "from tqdm.auto import tqdm\n",
    "from langdetect import detect, DetectorFactory\n",
    "from sklearn.preprocessing import StandardScaler, MinMaxScaler\n",
    "from sklearn.feature_extraction.text import CountVectorizer, TfidfTransformer\n",
    "from sklearn.feature_extraction.text import TfidfVectorizer\n",
    "from scipy.stats import gaussian_kde\n"
   ]
  },
  {
   "cell_type": "markdown",
   "metadata": {},
   "source": [
    "# Input"
   ]
  },
  {
   "cell_type": "code",
   "execution_count": 3,
   "metadata": {},
   "outputs": [],
   "source": [
    "pre = pd.read_csv('exp/pre.csv')\n",
    "post = pd.read_csv('exp/post.csv')\n",
    "\n",
    "# converts lists and dictionaries in the columns\n",
    "pre = module.eval_as(pre)\n",
    "post = module.eval_as(post)"
   ]
  },
  {
   "cell_type": "code",
   "execution_count": 4,
   "metadata": {},
   "outputs": [
    {
     "data": {
      "text/html": [
       "<div>\n",
       "<style scoped>\n",
       "    .dataframe tbody tr th:only-of-type {\n",
       "        vertical-align: middle;\n",
       "    }\n",
       "\n",
       "    .dataframe tbody tr th {\n",
       "        vertical-align: top;\n",
       "    }\n",
       "\n",
       "    .dataframe thead th {\n",
       "        text-align: right;\n",
       "    }\n",
       "</style>\n",
       "<table border=\"1\" class=\"dataframe\">\n",
       "  <thead>\n",
       "    <tr style=\"text-align: right;\">\n",
       "      <th></th>\n",
       "      <th>Z30_CALL_NO</th>\n",
       "      <th>frequency</th>\n",
       "      <th>users</th>\n",
       "      <th>users_weighed</th>\n",
       "      <th>yearly_frequency</th>\n",
       "      <th>yearly_loan_time</th>\n",
       "      <th>title</th>\n",
       "      <th>is_outlier</th>\n",
       "      <th>yearly_frequency_norm</th>\n",
       "      <th>frequency_norm</th>\n",
       "    </tr>\n",
       "  </thead>\n",
       "  <tbody>\n",
       "    <tr>\n",
       "      <th>19018</th>\n",
       "      <td>Ca-VIV 70-4170</td>\n",
       "      <td>3</td>\n",
       "      <td>[U-176, U-443]</td>\n",
       "      <td>[U-176, U-443, U-443]</td>\n",
       "      <td>{2014: 2, 2019: 1}</td>\n",
       "      <td>{2014: 2.0, 2019: 1.0}</td>\n",
       "      <td>Elogio accademico dei Vivarini, primi padri de...</td>\n",
       "      <td>False</td>\n",
       "      <td>{2016: 0.0, 2018: 0.0, 2015: 0.0, 2019: 0.0135...</td>\n",
       "      <td>0.004032</td>\n",
       "    </tr>\n",
       "  </tbody>\n",
       "</table>\n",
       "</div>"
      ],
      "text/plain": [
       "          Z30_CALL_NO  frequency           users          users_weighed  \\\n",
       "19018  Ca-VIV 70-4170          3  [U-176, U-443]  [U-176, U-443, U-443]   \n",
       "\n",
       "         yearly_frequency        yearly_loan_time  \\\n",
       "19018  {2014: 2, 2019: 1}  {2014: 2.0, 2019: 1.0}   \n",
       "\n",
       "                                                   title  is_outlier  \\\n",
       "19018  Elogio accademico dei Vivarini, primi padri de...       False   \n",
       "\n",
       "                                   yearly_frequency_norm  frequency_norm  \n",
       "19018  {2016: 0.0, 2018: 0.0, 2015: 0.0, 2019: 0.0135...        0.004032  "
      ]
     },
     "execution_count": 4,
     "metadata": {},
     "output_type": "execute_result"
    }
   ],
   "source": [
    "pre.sample()"
   ]
  },
  {
   "cell_type": "markdown",
   "metadata": {},
   "source": []
  },
  {
   "cell_type": "markdown",
   "metadata": {},
   "source": [
    "# Embedding "
   ]
  },
  {
   "cell_type": "code",
   "execution_count": 16,
   "metadata": {},
   "outputs": [],
   "source": [
    "# Identity tokenizer for tfidf\n",
    "def identity_tokenizer(doc):\n",
    "    return doc\n",
    "\n",
    "# TFIDF and Embedding for a df\n",
    "def embedding(df): \n",
    "\n",
    "    tfidf = TfidfVectorizer(tokenizer = identity_tokenizer, preprocessor= identity_tokenizer, token_pattern=None)\n",
    "    users_weighed_tfidf = tfidf.fit_transform(df['users_weighed'])\n",
    "\n",
    "    reducer = UMAP(n_components=2, metric='hamming', n_neighbors=100)\n",
    "    embedding = reducer.fit_transform(users_weighed_tfidf)\n",
    "    scaler = MinMaxScaler(feature_range=(100, 900))  # Scale\n",
    "\n",
    "    embedding = scaler.fit_transform(embedding)\n",
    "    embedding = embedding.astype(int)\n",
    "\n",
    "    module.plot_embedding(embedding,'')\n",
    "\n",
    "    df = df.assign(x=embedding[:, 0], y=embedding[:, 1])\n",
    "    return df\n",
    "\n",
    "def clustering(df): \n",
    "    \n",
    "    hdb = hdbscan.HDBSCAN(\n",
    "    # min_samples=1,\n",
    "     min_cluster_size=20,  # 2 — which means 3 elements — is the smallest cluster size\n",
    "    cluster_selection_epsilon=5,   # float, optional (default=0.0) A distance threshold. Clusters below this value will be merged.\n",
    "    # gen_min_span_tree=False,\n",
    "    # leaf_size=10, # int, optional (default=40) If using a space tree algorithm (kdtree, or balltree) the number of points ina leaf node of the tree. This does not alter the resulting clustering, but may have an effect on the runtime of the algorithm.\n",
    ")\n",
    "    embedding = df[['x', 'y']].to_numpy()\n",
    "    hdb.fit(embedding)\n",
    "    clusters = hdb.labels_\n",
    "\n",
    "    df['cluster'] = clusters\n",
    "\n",
    "    return df,hdb\n",
    "\n",
    "# pre = embedding(pre)\n",
    "# post = embedding(post)\n",
    "\n",
    "pre, pre_hdb = clustering(pre)\n",
    "post, post_hdb = clustering(post)\n",
    "\n",
    "\n",
    "\n"
   ]
  },
  {
   "cell_type": "code",
   "execution_count": 19,
   "metadata": {},
   "outputs": [
    {
     "ename": "AttributeError",
     "evalue": "module 'module' has no attribute 'plot_clustering'",
     "output_type": "error",
     "traceback": [
      "\u001b[0;31m---------------------------------------------------------------------------\u001b[0m",
      "\u001b[0;31mAttributeError\u001b[0m                            Traceback (most recent call last)",
      "\u001b[1;32m/Users/hana/Documents/GitHub/BHVizData/thesis/src/layers_2.ipynb Cell 8\u001b[0m line \u001b[0;36m1\n\u001b[0;32m----> <a href='vscode-notebook-cell:/Users/hana/Documents/GitHub/BHVizData/thesis/src/layers_2.ipynb#X26sZmlsZQ%3D%3D?line=0'>1</a>\u001b[0m module\u001b[39m.\u001b[39;49mplot_clustering(pre, pre_hbd)\n\u001b[1;32m      <a href='vscode-notebook-cell:/Users/hana/Documents/GitHub/BHVizData/thesis/src/layers_2.ipynb#X26sZmlsZQ%3D%3D?line=1'>2</a>\u001b[0m module\u001b[39m.\u001b[39mplot_clustering(post, post_hdb)\n",
      "\u001b[0;31mAttributeError\u001b[0m: module 'module' has no attribute 'plot_clustering'"
     ]
    }
   ],
   "source": [
    "module.plot_clustering(pre, pre_hbd)\n",
    "module.plot_clustering(post, post_hdb)"
   ]
  },
  {
   "cell_type": "markdown",
   "metadata": {},
   "source": [
    "# Analysis"
   ]
  },
  {
   "cell_type": "code",
   "execution_count": null,
   "metadata": {},
   "outputs": [],
   "source": [
    "subject_dict= {'A': 'Manuals', 'B': 'Italian Art', 'C': 'Italian Artists', 'D': 'Rome','E':'Italian Topography', 'F': 'Travel Literature', \n",
    "               'G': 'Sources', 'H': 'Iconography', 'J': 'Ornament','Kat': 'Catalogues','K': 'Commemorative and Collected Writings','L': 'Congress Publications', 'M': 'Art in General',\n",
    "                'N': 'Architecture', 'O':'Sculpture','Per': 'Periodicals', 'P': 'Painting', 'Q': 'Manuscript Illumination', 'R': 'Graphic Arts', \n",
    "               'S': 'Applied Arts', 'T': 'Collecting Art, Museum Studies', 'U': 'Registers of Artistic Monuments', 'V': 'Cultural Institutions', \n",
    "               'W': 'Non-Italian Artists','X': 'European Topography', 'Y': 'World Topography', 'Z': 'Related Disciplines'}\n",
    "\n",
    "custom_colours = [\n",
    "    \"#EA522B\", \"#EFD4D1\", \"#2A4978\", \"#8BDBE1\", \"#ECA19D\", \"#B48E36\", \"#EB84D6\", \"#B8BFCE\", \"#FAC73B\", \"#91C5E4\",\n",
    "    \"#6E8EAC\", \"#D2E7E0\",\"#DAA47F\", \"#ECD096\", \"#6C9686\", \"#E6E10F\", \"#9D4B37\", \"#A3B49D\", \"#BDC920\", \"#DBE3E5\", \"#6A8B8D\",\n",
    "    \"#EFB3D1\", \"#F6A1B4\", \"#5499C7\", \"#1C2833\", \"#F0B27A\", \"#2E7F7F\", \"#CB4335\", \"#4A235A\"\n",
    "]\n",
    "\n",
    "custom_cmap = ListedColormap(custom_colours)\n",
    "\n",
    "def get_subject(call_number):\n",
    "    for key, category in subject_dict.items():\n",
    "        if call_number.startswith(key):\n",
    "            return category\n",
    "    return 'Unknown'\n",
    "\n",
    "df['cat'] = df['Z30_CALL_NO'].apply(get_subject)\n"
   ]
  },
  {
   "cell_type": "code",
   "execution_count": null,
   "metadata": {},
   "outputs": [],
   "source": [
    "def small_multiple_subject(df):\n",
    "\n",
    "    unique_subjects = df['cat'].unique()\n",
    "    n_subjects = len(unique_subjects)\n",
    "\n",
    "    num_cols = 6\n",
    "    num_rows = (n_subjects - 1) // num_cols + 1 # subplots\n",
    "    fig, axes = plt.subplots(num_rows, num_cols, figsize=(20, 15), dpi=300)\n",
    "\n",
    "    for i, subject in enumerate(unique_subjects):\n",
    "        \n",
    "        row, col = i // num_cols, i % num_cols\n",
    "        ax = axes[row, col]\n",
    "        ax.set_title(f'{subject}')\n",
    "\n",
    "        rows = df[df.cat == subject]\n",
    "\n",
    "        x_values = rows['x'].to_list()\n",
    "        y_values = rows['y'].to_list()\n",
    "        \n",
    "        color = custom_cmap(i / (n_subjects - 1))\n",
    "\n",
    "        sc = ax.scatter(x_values, y_values, s=2, c=color)\n",
    "\n",
    "        ax.axis(\"off\")\n",
    "\n",
    "    # Hide empty subplots\n",
    "    for i in range(len(unique_subjects), num_rows * num_cols):\n",
    "        row, col = i // num_cols, i % num_cols\n",
    "        fig.delaxes(axes[row, col])\n",
    "\n",
    "    plt.tight_layout()\n",
    "    plt.subplots_adjust(top=0.85)\n",
    "\n",
    "    plt.show()"
   ]
  },
  {
   "cell_type": "code",
   "execution_count": null,
   "metadata": {},
   "outputs": [],
   "source": []
  },
  {
   "cell_type": "code",
   "execution_count": null,
   "metadata": {},
   "outputs": [],
   "source": []
  },
  {
   "cell_type": "code",
   "execution_count": null,
   "metadata": {},
   "outputs": [],
   "source": []
  },
  {
   "cell_type": "code",
   "execution_count": null,
   "metadata": {},
   "outputs": [],
   "source": []
  },
  {
   "cell_type": "code",
   "execution_count": null,
   "metadata": {},
   "outputs": [],
   "source": []
  },
  {
   "cell_type": "code",
   "execution_count": null,
   "metadata": {},
   "outputs": [],
   "source": []
  },
  {
   "cell_type": "code",
   "execution_count": null,
   "metadata": {},
   "outputs": [],
   "source": []
  }
 ],
 "metadata": {
  "kernelspec": {
   "display_name": "bhviz",
   "language": "python",
   "name": "python3"
  },
  "language_info": {
   "codemirror_mode": {
    "name": "ipython",
    "version": 3
   },
   "file_extension": ".py",
   "mimetype": "text/x-python",
   "name": "python",
   "nbconvert_exporter": "python",
   "pygments_lexer": "ipython3",
   "version": "3.10.11"
  }
 },
 "nbformat": 4,
 "nbformat_minor": 2
}
